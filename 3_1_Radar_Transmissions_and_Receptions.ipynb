{
 "cells": [
  {
   "cell_type": "markdown",
   "id": "e0380c0d-130a-4265-b27f-8915bf880c4f",
   "metadata": {},
   "source": [
    "# Lab 3.1: Radar Transmissions and Receptions"
   ]
  },
  {
   "cell_type": "code",
   "execution_count": 1,
   "id": "a2ce7802-f152-4076-811e-fbc95539b213",
   "metadata": {
    "jupyter": {
     "source_hidden": true
    },
    "tags": []
   },
   "outputs": [],
   "source": [
    "%matplotlib widget\n",
    "import rad.example as ex\n",
    "import rad.quiz as qz\n",
    "from rad.const import c, k\n",
    "from rad.radar import to_db, from_db, deg2rad, rad2deg\n",
    "from math import sqrt, sin, asin, cos, acos, tan, atan2, pi, log, log10"
   ]
  },
  {
   "cell_type": "markdown",
   "id": "b1d4b580-d9e8-4190-9ab4-63bd5e0f701a",
   "metadata": {},
   "source": [
    "**Reminders**: \n",
    "\n",
    "- Hit the *<font color=\"DarkBlue\">Run All</font>* button <img width=\"18px\" src=\"img/run_all_icon.png\"> button above before continuing\n",
    "- Useful formulae and definitions are available in [Reference](Reference.ipynb)"
   ]
  },
  {
   "cell_type": "markdown",
   "id": "f5b4f383-c2a1-4238-ac42-6fe081d820cc",
   "metadata": {},
   "source": [
    "In this lab, we will dive into two of the boxes in the basic radar system diagram: *transmitters* and *receivers*. The transmitter decides how and where to emit energy, and the receiver decides how and where to listen for echoes.\n",
    "\n",
    "<div style=\"text-align: center\"> <img src=\"img/radar_sys2.png\" justify=\"center\" width=\"700px\"></img> </div>\n",
    "\n",
    "Following the order of the diagram, we will first focus on transmissions and how they are designed, then move on to receptions."
   ]
  },
  {
   "cell_type": "markdown",
   "id": "1222ce8a-54a3-4a52-94c2-ee548025eafc",
   "metadata": {
    "tags": []
   },
   "source": [
    "## Radar Transmissions"
   ]
  },
  {
   "cell_type": "markdown",
   "id": "4a4efa4a-b440-4616-bf04-f50b84dee345",
   "metadata": {},
   "source": [
    "There are three main design options (often called *degrees-of-freedom*) when choosing how to emanate energy out of a radar:\n",
    "\n",
    "- **Waveform**: Shape of the transmitted wave\n",
    "- **Space**: Region to concentrate transmitted energy\n",
    "- **Polarization**: Orientation of the transmitted wave relative to direction of travel\n",
    "\n",
    "We will go over each of these in detail."
   ]
  },
  {
   "cell_type": "markdown",
   "id": "80b0a7cf-cff7-4002-b4d5-faed0386260b",
   "metadata": {},
   "source": [
    "<div style=\"text-align: center\"> <img src=\"img/tx_dof.png\" justify=\"center\" width=\"900px\"></img> </div>"
   ]
  },
  {
   "cell_type": "markdown",
   "id": "6443c78a-efd3-4e4b-b06d-861d5328f8a0",
   "metadata": {},
   "source": [
    "### Waveform\n",
    "\n",
    "Let us first study the *waveform* of a transmission, or the shape of the wave being emitted, dictated by the electrical signal driving the transmit antenna. In [Lab 1.2: Introduction to Radar](1_2_Introduction_to_Radar.ipynb), we introduced the basics of ranging via a hypothetical sensor that could transmit an impulse, i.e., a very short burst of energy (see figure below). The impulse would propagate outward, impinge on a target, and then an echo of the impulse propagates back to the sensor. \n",
    "\n",
    "<div style=\"text-align: center\"> <img src=\"img/impulse.png\" justify=\"center\" width=\"400px\"></img> </div>\n",
    "\n",
    "An impulse is an idealized shape for a wave as it allows for arbitrarily high precision while estimating the time at which a target echo arrives; however, compressing electromagnetic energy into a very short duration requires a transmitter with an extremely large amount of power (i.e., power is the rate that energy is transmitted), which is impractical for most applications.\n",
    "\n",
    "To avoid requiring extremely high power, the transmitted energy is typically spread out over time. To see how this is done, we will look at the basic radar wave shape: the pulsed sine wave.\n",
    "\n",
    "<div style=\"text-align: center\"> <img src=\"img/sine_pulse.png\" justify=\"center\" width=\"400px\"></img> </div>\n",
    "\n",
    "In the above figure, we see a time-limited sine wave that is characterized by its frequency, $f$ , amplitude, $a$ , and **pulsewidth**, $t_p$ , where the pulsewidth is the duration of the pulse. Note that the energy contained in a sine wave is $\\mathcal{E}_t = a^2 t_p / 2$; thus, increasing the amplitude or pulsewidth will increase the amount of transmit energy.\n",
    "\n",
    "In the following interactive example, we will look at designing a single sine wave pulse to impart a desired amount of transmit energy. The adjustable parameters of the pulsed sine wave are *<font color=\"DarkBlue\">Transmit Energy</font>*, *<font color=\"DarkBlue\">Transmit Frequency</font>*, and *<font color=\"DarkBlue\">Pulsewidth</font>*. The maximum instantaneous power, called the **peak power**, is shown as a **black** dashed line."
   ]
  },
  {
   "cell_type": "code",
   "execution_count": 2,
   "id": "9aed53bb-3302-43bb-b850-d3b50fa3767c",
   "metadata": {
    "jupyter": {
     "source_hidden": true
    },
    "tags": []
   },
   "outputs": [
    {
     "data": {
      "application/vnd.jupyter.widget-view+json": {
       "model_id": "8cb64375de9f41a1a06789e001007c24",
       "version_major": 2,
       "version_minor": 0
      },
      "text/plain": [
       "AppLayout(children=(VBox(children=(VBox(children=(HTML(value=\"<b><font color='black'>Properties</b>\"), HTML(va…"
      ]
     },
     "metadata": {},
     "output_type": "display_data"
    }
   ],
   "source": [
    "ex.ex_3_1_1()"
   ]
  },
  {
   "cell_type": "markdown",
   "id": "8a95d742-d40e-45ed-963a-d9d93ef626d8",
   "metadata": {},
   "source": [
    "We can see as the pulsewidth increases, the peak power of the wave decreases; this is because the energy is being spread out over a longer time span. The peak power is a major design aspect of a transmitter (more specifically, a component called an *amplifier* which creates high power sinusoidal signals to be emitted). The higher the peak power required of a transmitter, the more sophisticated and expensive it will be. Therefore, if we can tolerate long pulsewidths, we can build a cheaper system because less peak power is required to achieve a desired amount of transmit energy."
   ]
  },
  {
   "cell_type": "markdown",
   "id": "7358e5c7-a5a2-4260-aa67-be9a273b8b9d",
   "metadata": {},
   "source": [
    "***"
   ]
  },
  {
   "cell_type": "markdown",
   "id": "b40504bd-a21c-4177-830e-72eed6ef799c",
   "metadata": {},
   "source": [
    "### Question 1"
   ]
  },
  {
   "cell_type": "markdown",
   "id": "a187298d-08d8-4087-8681-6716298e3b46",
   "metadata": {},
   "source": [
    "What pulsewidth, $t_p$ , is needed to get peak power below $7~\\mathrm{kW}$ when using a transmit energy of $\\mathcal{E}_t = 50~\\mathrm{mJ}$ at transmit frequency $f = 4~\\mathrm{MHz}$? "
   ]
  },
  {
   "cell_type": "code",
   "execution_count": 3,
   "id": "994616a2-28a3-4087-ad6a-05bffc477b4c",
   "metadata": {
    "jupyter": {
     "source_hidden": true
    },
    "tags": []
   },
   "outputs": [
    {
     "data": {
      "application/vnd.jupyter.widget-view+json": {
       "model_id": "cc8b7d89693a476999cc91ea97074da5",
       "version_major": 2,
       "version_minor": 0
      },
      "text/plain": [
       "VBox(children=(HBox(children=(HTML(value=\"<p><font color='black'>Enter pulsewidth (in µs):</p>\"), FloatText(va…"
      ]
     },
     "metadata": {},
     "output_type": "display_data"
    }
   ],
   "source": [
    "qz.quiz_3_1_1()"
   ]
  },
  {
   "cell_type": "code",
   "execution_count": 4,
   "id": "a9ce3f89-2ffb-4556-bcd9-57b531e0fd5c",
   "metadata": {},
   "outputs": [],
   "source": [
    "# Scratch space"
   ]
  },
  {
   "cell_type": "markdown",
   "id": "bdbb4555-8c0e-473a-9cdb-5d05c1444b0e",
   "metadata": {},
   "source": [
    "***"
   ]
  },
  {
   "cell_type": "markdown",
   "id": "b96ac754-a21d-49be-861b-91c6a3648add",
   "metadata": {},
   "source": [
    "Radar systems traditionally transmit pulses at a chosen rate, called the **pulse repetition frequency** (PRF), $f_{rep}$ , and listen for echoes in between pulses. The inverse of this is the **pulse repetition interval** (PRI), $t_{rep}$ , which is the amount of time total for one transmission and one listening period. Mathematically, we have\n",
    "\n",
    "$$\n",
    "f_{rep} = \\frac{1}{t_{rep}}\n",
    "$$\n",
    "\n",
    "For instance, if a radar transmits using a PRF of $f_{rep} = 2~\\mathrm{Hz}$ (i.e., a pulse repetition interval of $t_{rep} = 0.5~\\mathrm{s}$), it sends a pulse once every half-second and uses the duration in between to search for target responses. The ratio of the time transmitting versus total operational time is called the **duty cycle**, $d$ , and it gives a notion of how much of the radar's operation is dedicated to actively transmitting. The duty cycle can be calculated as the ratio of the pulsewidth, $t_p$ , to the pulse repetition interval, $t_{rep}$ :\n",
    "\n",
    "$$\n",
    "d = \\frac{t_p}{t_{rep}}\n",
    "$$\n",
    "\n",
    "The structure of multiple radar transmissions can be seen in the following figure:\n",
    "\n",
    "<div style=\"text-align: center\"> <img src=\"img/sine_pulse_multi.png\" justify=\"center\" width=\"750px\"></img> </div>\n",
    "\n",
    "To look at the transmissions of a radar over multiple pulses, we will study the following interactive example. This example is very similar to the previous pulsed sine wave example, except now we are transmitting multiple pulses. To the right side, we can also see the duty cycle of the radar system."
   ]
  },
  {
   "cell_type": "code",
   "execution_count": 5,
   "id": "5068ce2c-28f5-4a76-a684-9d07a94fb443",
   "metadata": {
    "jupyter": {
     "source_hidden": true
    },
    "tags": []
   },
   "outputs": [
    {
     "data": {
      "application/vnd.jupyter.widget-view+json": {
       "model_id": "420d115bf0554cf48082f9fd3218b2fc",
       "version_major": 2,
       "version_minor": 0
      },
      "text/plain": [
       "AppLayout(children=(VBox(children=(VBox(children=(HTML(value=\"<b><font color='black'>Properties</b>\"), HTML(va…"
      ]
     },
     "metadata": {},
     "output_type": "display_data"
    }
   ],
   "source": [
    "ex.ex_3_1_2()"
   ]
  },
  {
   "cell_type": "markdown",
   "id": "4bd045cf-6024-4308-bfcb-95d32a61f0e9",
   "metadata": {},
   "source": [
    "We can notice that the pulsewidth, $t_p$ , can only get as large as the PRI, $t_{rep}$ , before it no longer becomes a pulsed signal."
   ]
  },
  {
   "cell_type": "markdown",
   "id": "c3737b66-ef18-4c2e-a45f-c652f64c8878",
   "metadata": {},
   "source": [
    "***"
   ]
  },
  {
   "cell_type": "markdown",
   "id": "01ab2ff1-1ed6-4720-affd-c439af200bc3",
   "metadata": {},
   "source": [
    "### Question 2"
   ]
  },
  {
   "cell_type": "markdown",
   "id": "bc427a0d-e4e9-472f-a02e-01b37605c58c",
   "metadata": {},
   "source": [
    "**(a)** What is the pulse repetition interval, $t_{rep}$ , for a system with pulse repetition frequency $f_{rep} = 10~\\mathrm{kHz}$?"
   ]
  },
  {
   "cell_type": "code",
   "execution_count": 6,
   "id": "616e3a29-81d9-4db7-b1f9-6fd7c25cf5fc",
   "metadata": {
    "jupyter": {
     "source_hidden": true
    },
    "tags": []
   },
   "outputs": [
    {
     "data": {
      "application/vnd.jupyter.widget-view+json": {
       "model_id": "7b689b96656b436ea21bcdd77338498a",
       "version_major": 2,
       "version_minor": 0
      },
      "text/plain": [
       "VBox(children=(HBox(children=(HTML(value=\"<p><font color='black'>Enter PRI (in s):</p>\"), FloatText(value=0.0)…"
      ]
     },
     "metadata": {},
     "output_type": "display_data"
    }
   ],
   "source": [
    "qz.quiz_3_1_2a()"
   ]
  },
  {
   "cell_type": "code",
   "execution_count": 7,
   "id": "e9db232f-073a-402e-9994-535dcd58a0ad",
   "metadata": {},
   "outputs": [],
   "source": [
    "# Scratch space"
   ]
  },
  {
   "cell_type": "markdown",
   "id": "0d39e7bf-565d-45e7-9b01-fc4b4e75a98e",
   "metadata": {},
   "source": [
    "**(b)** What is the duty cycle, $d$ , for a radar that uses a pulsewidth of $t_p = 150~\\mu\\mathrm{s}$ and a pulse repetition frequency of $f_{rep} = 1~\\mathrm{kHz}$?"
   ]
  },
  {
   "cell_type": "code",
   "execution_count": 8,
   "id": "5eb1d4e6-1c07-4dce-a1ba-817fc7e9e4cf",
   "metadata": {
    "jupyter": {
     "source_hidden": true
    },
    "tags": []
   },
   "outputs": [
    {
     "data": {
      "application/vnd.jupyter.widget-view+json": {
       "model_id": "398e66d420644f6085e51d3b0b4cb12d",
       "version_major": 2,
       "version_minor": 0
      },
      "text/plain": [
       "VBox(children=(HBox(children=(HTML(value=\"<p><font color='black'>Enter duty cycle:</p>\"), FloatText(value=0.0)…"
      ]
     },
     "metadata": {},
     "output_type": "display_data"
    }
   ],
   "source": [
    "qz.quiz_3_1_2b()"
   ]
  },
  {
   "cell_type": "code",
   "execution_count": 9,
   "id": "d881c732-7701-462f-9b65-e9a47e6896cf",
   "metadata": {},
   "outputs": [],
   "source": [
    "# Scratch space"
   ]
  },
  {
   "cell_type": "markdown",
   "id": "737d0ce8-8bfb-42cb-a0b0-dc824b243788",
   "metadata": {},
   "source": [
    "***"
   ]
  },
  {
   "cell_type": "markdown",
   "id": "d7cf611e-2a54-49b3-ac15-2705509843f7",
   "metadata": {},
   "source": [
    "The pulsed sine wave was a very common waveform for early radar systems due to its simplicity; however, modern radar systems use variations on sine waves created by **modulation**. *Modulation* is achieved by using a base sine wave and altering it with another signal (typically via multiplication). Some common forms of modulation used in radar are:\n",
    "\n",
    "- **Linear frequency modulation** (LFM), sweeps from one frequency to another over the course of the pulse (also known as a *chirp* waveform)\n",
    "- **Coded waveforms**, creates a sequence of base sine wave pulses but with varying phases and frequencies\n",
    "\n",
    "In the interactive example below, we will look at the most common radar waveform used in modern systems: the LFM waveform. Try changing the *<font color=\"DarkBlue\">Start Frequency</font>* and *<font color=\"DarkBlue\">Stop Frequency</font>* to see how the sine wave sweeps from one to another. In the next section on radar receptions, we will discuss why sweeping over multiple frequencies is important."
   ]
  },
  {
   "cell_type": "code",
   "execution_count": 10,
   "id": "84c6700b-5708-4f1f-a6b5-497ebceba10d",
   "metadata": {
    "jupyter": {
     "source_hidden": true
    },
    "tags": []
   },
   "outputs": [
    {
     "data": {
      "application/vnd.jupyter.widget-view+json": {
       "model_id": "0bce15cf1e8140bfa70fe60e1b96c5e0",
       "version_major": 2,
       "version_minor": 0
      },
      "text/plain": [
       "AppLayout(children=(VBox(children=(VBox(children=(HTML(value=\"<b><font color='black'>Transmission</b>\"), Float…"
      ]
     },
     "metadata": {},
     "output_type": "display_data"
    }
   ],
   "source": [
    "ex.ex_3_1_3()"
   ]
  },
  {
   "cell_type": "markdown",
   "id": "08801166-6f9e-451f-a5ff-f38df239b577",
   "metadata": {},
   "source": [
    "### Space"
   ]
  },
  {
   "cell_type": "markdown",
   "id": "679b777c-993c-4c07-b684-a1e5895d8928",
   "metadata": {},
   "source": [
    "From [Lab 1.2: Introduction to Radar](1_2_Introduction_to_Radar.ipynb), we know that radars use directed ranging to be able to simultaneously estimate the range and angle of a target. Directed ranging is performed by focusing energy into a beam and then steering the beam in a desired direction. Therefore, choosing the spatial degree-of-freedom for a radar transmission is the same as focusing the energy and steering it to a desired region."
   ]
  },
  {
   "cell_type": "markdown",
   "id": "a7f77a89-76c1-4a4b-b56b-c3d91c0fb42e",
   "metadata": {
    "tags": []
   },
   "source": [
    "<div style=\"text-align: center\"> <img src=\"img/focus_steer.png\" justify=\"center\" width=\"500px\"></img> </div>"
   ]
  },
  {
   "cell_type": "markdown",
   "id": "2dac902b-4a1d-49ec-b14d-42a2269176bb",
   "metadata": {},
   "source": [
    "Focusing in radar systems follows the same logic as the generic ranging systems in [Lab 1.2: Introduction to Radar](1_2_Introduction_to_Radar.ipynb): \n",
    "\n",
    "- An aperture is used to concentrate energy in a swath of angle\n",
    "- As aperture extent/area increases relative to the wavelength, the beam narrows and the gain increases"
   ]
  },
  {
   "cell_type": "markdown",
   "id": "8a34c0d8-d9b8-487e-8db9-3793f5321191",
   "metadata": {},
   "source": [
    "In reality, a radar system will not be able to focus its energy perfectly into a beam, it will transmit some energy outside of the main beamwidth. This can be seen by investigating a radar's **beam pattern**. A beam pattern shows the strength of transmission as a function of angle. Below is an interactive plot showing the beam pattern for a dish radar with a circular aperture; try changing the *<font color=\"DarkBlue\">Dish Radius</font>* and *<font color=\"DarkBlue\">Transmit Frequency</font>*."
   ]
  },
  {
   "cell_type": "code",
   "execution_count": 11,
   "id": "5ccb084c-3f65-4218-b41c-0cf97b39922b",
   "metadata": {
    "jupyter": {
     "source_hidden": true
    },
    "tags": []
   },
   "outputs": [
    {
     "data": {
      "application/vnd.jupyter.widget-view+json": {
       "model_id": "fdb0467fa6144b18826525b59deae62f",
       "version_major": 2,
       "version_minor": 0
      },
      "text/plain": [
       "AppLayout(children=(VBox(children=(VBox(children=(HTML(value=\"<b><font color='black'>Controls</b>\"), FloatLogS…"
      ]
     },
     "metadata": {},
     "output_type": "display_data"
    }
   ],
   "source": [
    "ex.ex_3_1_4()"
   ]
  },
  {
   "cell_type": "markdown",
   "id": "21af4a28-48b9-474f-a04a-8b6cfd91ba71",
   "metadata": {
    "tags": []
   },
   "source": [
    "Beam patterns are primarily dictated by the radar aperture shape; however, it can be further modified by changing how emitted energy is spread over the aperture on transmission and reception. Tailoring the radar transmission to create a desired beam pattern and direction of transmission is commonly referred to as **beamforming**.\n",
    "\n",
    "In [Lab 1.2: Introduction to Radar](1_2_Introduction_to_Radar.ipynb), we also learned about the idea of *steering*, or choosing the direction to transmit and listen to electromagnetic energy. There were two types of steering discussed:\n",
    "\n",
    "- *Mechanical*, movement of aperture to change direction of transmission/reception\n",
    "- *Electronic*, coordinated variation of elements in an array to direct transmitted energy\n",
    "\n",
    "As the concept of mechanical steering is somewhat straightforward, we will focus on going into more depth on electronic steering for radar systems. The first type of steering used in radar systems is **delay steering**, which changes the transmission time of each element so each transmission will arrive at the target at the same time."
   ]
  },
  {
   "cell_type": "markdown",
   "id": "ce720132-565e-49f0-9bd1-f2263e7bb0d1",
   "metadata": {
    "tags": []
   },
   "source": [
    "To recall the general view of delay steering, we can look back at a hypothetical array of elements, each emitting an impulse at a different delay where propagation velocity is $v_p = 1000~\\mathrm{m/s}$. In the interactive example below, we can see how the delay of each element changes to have all impulse reach the target at the same time. "
   ]
  },
  {
   "cell_type": "code",
   "execution_count": 12,
   "id": "e791b37f-5bd1-45d7-91bd-8c7704639f82",
   "metadata": {
    "jupyter": {
     "source_hidden": true
    },
    "tags": []
   },
   "outputs": [
    {
     "data": {
      "application/vnd.jupyter.widget-view+json": {
       "model_id": "ec3f5b371a0743d0b86579e7fcbf6356",
       "version_major": 2,
       "version_minor": 0
      },
      "text/plain": [
       "AppLayout(children=(VBox(children=(VBox(children=(HTML(value=\"<b><font color='black'>Sensor</b>\"), FloatSlider…"
      ]
     },
     "metadata": {},
     "output_type": "display_data"
    }
   ],
   "source": [
    "ex.ex_3_1_5()"
   ]
  },
  {
   "cell_type": "markdown",
   "id": "1467163a-7fe2-4f47-ae30-a405be3fe194",
   "metadata": {},
   "source": [
    "As discussed above, practical radar systems employ sine waves (and variations thereof) for transmission to be able to spread out energy over a duration and lower necessary power. This means *delay steering* for radar systems is equivalent to designing the element delays so that sine waves transmitted from each element arrive at the target at the same time."
   ]
  },
  {
   "cell_type": "markdown",
   "id": "7cdd4cc3-7975-4217-96f4-b5660193fe30",
   "metadata": {},
   "source": [
    "To see how this works, let us look at an interactive example in which we transmit four cycles of a sine wave from each element of a five element array (see figure below).\n",
    "\n",
    "<div style=\"text-align: center\"> <img src=\"img/array_steer.png\" justify=\"center\" width=\"400px\"></img> </div>\n",
    "\n",
    "There are two plots in the following example: \n",
    "\n",
    "- The upper plot shows all of the different waves from the elements at the moment they arrive at the target; the center is aligned to the wave emitted by the middle element, *Element \\#3* (shown as a **black** dashed line)\n",
    "- The lower plot shows the sum of all of the incident waves; this will be the actual wave that hits the target\n",
    "\n",
    "We can control the *<font color=\"DarkBlue\">Transmit Frequency</font>* of the radar, the *<font color=\"DarkBlue\">Azimuth</font>* and *<font color=\"DarkBlue\">Range</font>* of the target, and the *<font color=\"DarkBlue\">Delay</font>* of each element (delay is relative to the wave from the middle element, *Element \\#3*). We can also choose to hide the wave from each element to be able to focus on a single wave. Additionally, an *<font color=\"DarkBlue\">Energy Loss</font>* is displayed showing the difference between the achieved energy delivered versus the maximum possible energy delivered, i.e., an *<font color=\"DarkBlue\">Energy Loss</font>* of $0~\\mathrm{dB}$ means that the maximum energy possible is hitting the target."
   ]
  },
  {
   "cell_type": "code",
   "execution_count": 13,
   "id": "b5177817-8236-49ba-9e40-d57fbc4e1562",
   "metadata": {
    "jupyter": {
     "source_hidden": true
    },
    "tags": []
   },
   "outputs": [
    {
     "data": {
      "application/vnd.jupyter.widget-view+json": {
       "model_id": "3a0b72454f3543f88e1fb68ef0d44b3a",
       "version_major": 2,
       "version_minor": 0
      },
      "text/plain": [
       "AppLayout(children=(VBox(children=(VBox(children=(HTML(value=\"<b><font color='black'>Properties</b>\"), HTML(va…"
      ]
     },
     "metadata": {},
     "output_type": "display_data"
    }
   ],
   "source": [
    "ex.ex_3_1_6()"
   ]
  },
  {
   "cell_type": "markdown",
   "id": "1089e0f8-9b32-4cb7-9846-ca401ce48b03",
   "metadata": {},
   "source": [
    "***"
   ]
  },
  {
   "cell_type": "markdown",
   "id": "7ea23595-aa35-4391-bf6f-e92c7f4be08e",
   "metadata": {},
   "source": [
    "### Question 3"
   ]
  },
  {
   "cell_type": "markdown",
   "id": "1d7cdb28-56e0-4240-a4b8-248e6f22bb3e",
   "metadata": {},
   "source": [
    "**(a)** What is the delay needed for the *Element \\#1* wave to match the reference wave (in **black** dashed line) when the target is at a range of $r = 3~\\mathrm{km}$ and azimuth $\\theta = 45~\\mathrm{deg}$ and the radar transmits at a frequency of $f = 800~\\mathrm{MHz}$?"
   ]
  },
  {
   "cell_type": "code",
   "execution_count": 14,
   "id": "1766bde2-3d3e-4a5b-bc1c-f562686e187d",
   "metadata": {
    "jupyter": {
     "source_hidden": true
    },
    "tags": []
   },
   "outputs": [
    {
     "data": {
      "application/vnd.jupyter.widget-view+json": {
       "model_id": "22e2fb7367a54060942aaf44972a728a",
       "version_major": 2,
       "version_minor": 0
      },
      "text/plain": [
       "VBox(children=(HBox(children=(HTML(value=\"<p><font color='black'>Enter delay (in ns):</p>\"), FloatText(value=0…"
      ]
     },
     "metadata": {},
     "output_type": "display_data"
    }
   ],
   "source": [
    "qz.quiz_3_1_3a()"
   ]
  },
  {
   "cell_type": "code",
   "execution_count": 15,
   "id": "4472208a-0522-4c20-b3f4-c8f569af7ad9",
   "metadata": {},
   "outputs": [],
   "source": [
    "# Scratch space"
   ]
  },
  {
   "cell_type": "markdown",
   "id": "6895e7b9-0e21-411a-acbf-442e4b1f1afa",
   "metadata": {},
   "source": [
    "**(b)** What is the delay needed for the *Element \\#1* wave from **(a)** if the frequency is now $f = 1~\\mathrm{GHz}$?"
   ]
  },
  {
   "cell_type": "code",
   "execution_count": 16,
   "id": "df110684-dc20-465c-84b8-048d9088c92c",
   "metadata": {
    "jupyter": {
     "source_hidden": true
    },
    "tags": []
   },
   "outputs": [
    {
     "data": {
      "application/vnd.jupyter.widget-view+json": {
       "model_id": "26b9c46b205f4829a2f96a59d553e4f5",
       "version_major": 2,
       "version_minor": 0
      },
      "text/plain": [
       "VBox(children=(HBox(children=(HTML(value=\"<p><font color='black'>Enter delay (in ns):</p>\"), FloatText(value=0…"
      ]
     },
     "metadata": {},
     "output_type": "display_data"
    }
   ],
   "source": [
    "qz.quiz_3_1_3b()"
   ]
  },
  {
   "cell_type": "code",
   "execution_count": 17,
   "id": "1237f778-d9fe-430f-86ab-52c82df05f0a",
   "metadata": {},
   "outputs": [],
   "source": [
    "# Scratch space"
   ]
  },
  {
   "cell_type": "markdown",
   "id": "daf0c278-9450-46ee-b24c-c2d0e1c54c8b",
   "metadata": {},
   "source": [
    "***"
   ]
  },
  {
   "cell_type": "markdown",
   "id": "37b42d96-98ed-4f91-aa8a-04009562d3bb",
   "metadata": {},
   "source": [
    "Try aligning the waves at different target azimuths and ranges. There are a few important things to notice about delay steering:\n",
    "\n",
    "- Changing the *<font color=\"DarkBlue\">Transmit Frequency</font>* does not affect the delays. Once you have the waves aligned in a certain direction, that configuration will work for any frequency. Thus, delay steering can work for waves that consist of a large span of frequencies and not only single-frequency sine waves.\n",
    "\n",
    "- For most geometries and radar parameters, range has no impact on the delays required to align the element waves. However, you may notice that the wave alignment changes slightly and *<font color=\"DarkBlue\">Transmit Frequency</font>* varies as the range gets very small ($\\approx 0.1~\\mathrm{km}$). This is called being in the **near field** of the radar, where the optimal relative delays not only depend on azimuth but also range. Typically, targets are well beyond this region, in what is called the **far field**<sup>[1](#foot_far)</sup>. \n",
    "\n"
   ]
  },
  {
   "cell_type": "markdown",
   "id": "516c2056-c22f-4d4b-8244-6ac148695f37",
   "metadata": {},
   "source": [
    "We can also notice that the delays used are on the order of a few nanoseconds—delaying signals at this timescale requires very precise timing and delay electronics. Another way to achieve a similar effect for sine wave transmissions is *phase steering*. The main concept of phase steering is to transmit from all elements at the same time but change the phase of each sine wave so they match when they reach the target.\n",
    "\n",
    "In the interactive example below, we use the same five element array we used for delay steering. This time, however, all elements will transmit at the same time, and we can change the phase of each sine wave to try and match the reference wave. Try match the reference wave for different azimuths, ranges, and transmit frequencies."
   ]
  },
  {
   "cell_type": "code",
   "execution_count": 18,
   "id": "93189dd1-f25d-4b1f-a4fb-f5b91e30ffa7",
   "metadata": {
    "jupyter": {
     "source_hidden": true
    },
    "tags": []
   },
   "outputs": [
    {
     "data": {
      "application/vnd.jupyter.widget-view+json": {
       "model_id": "cb03d901514a41c2a13648d59c57aba1",
       "version_major": 2,
       "version_minor": 0
      },
      "text/plain": [
       "AppLayout(children=(VBox(children=(VBox(children=(HTML(value=\"<b><font color='black'>Properties</b>\"), HTML(va…"
      ]
     },
     "metadata": {},
     "output_type": "display_data"
    }
   ],
   "source": [
    "ex.ex_3_1_7()"
   ]
  },
  {
   "cell_type": "markdown",
   "id": "4c996b89-ade8-4a67-a2a8-db944341598d",
   "metadata": {},
   "source": [
    "***"
   ]
  },
  {
   "cell_type": "markdown",
   "id": "694d4b6b-5ea3-48b7-8061-57176733a7c3",
   "metadata": {},
   "source": [
    "### Question 4"
   ]
  },
  {
   "cell_type": "markdown",
   "id": "5a842954-fd12-4453-91d7-bd09ca8f9f66",
   "metadata": {},
   "source": [
    "**(a)** What is the phase needed for the *Element \\#4* wave to match the reference wave (in **black** dashed line) when the target is at a range of $r = 3~\\mathrm{km}$ and azimuth $\\theta = 30~\\mathrm{deg}$ and the radar transmits at a frequency of $f = 700~\\mathrm{MHz}$?"
   ]
  },
  {
   "cell_type": "code",
   "execution_count": 19,
   "id": "939f9908-d465-498e-9081-c8e821267656",
   "metadata": {
    "jupyter": {
     "source_hidden": true
    },
    "tags": []
   },
   "outputs": [
    {
     "data": {
      "application/vnd.jupyter.widget-view+json": {
       "model_id": "466779c5d38046c497c6605101734a5a",
       "version_major": 2,
       "version_minor": 0
      },
      "text/plain": [
       "VBox(children=(HBox(children=(HTML(value=\"<p><font color='black'>Enter phase (in deg):</p>\"), FloatText(value=…"
      ]
     },
     "metadata": {},
     "output_type": "display_data"
    }
   ],
   "source": [
    "qz.quiz_3_1_4a()"
   ]
  },
  {
   "cell_type": "code",
   "execution_count": 20,
   "id": "24007a4c-237a-475d-8e04-f3c0c6cb0882",
   "metadata": {},
   "outputs": [],
   "source": [
    "# Scratch space"
   ]
  },
  {
   "cell_type": "markdown",
   "id": "2c8fa073-ee52-4f3a-9a98-e585d0ddd52b",
   "metadata": {},
   "source": [
    "**(b)** What is the phase needed for the *Element \\#4* wave from **(a)** if the frequency is now $f = 500~\\mathrm{MHz}$?"
   ]
  },
  {
   "cell_type": "code",
   "execution_count": 21,
   "id": "275817c4-cfcb-4126-9193-cb7b8dda9735",
   "metadata": {
    "jupyter": {
     "source_hidden": true
    },
    "tags": []
   },
   "outputs": [
    {
     "data": {
      "application/vnd.jupyter.widget-view+json": {
       "model_id": "abc1b675e9ed44ff8ac831c8c1590254",
       "version_major": 2,
       "version_minor": 0
      },
      "text/plain": [
       "VBox(children=(HBox(children=(HTML(value=\"<p><font color='black'>Enter phase (in deg):</p>\"), FloatText(value=…"
      ]
     },
     "metadata": {},
     "output_type": "display_data"
    }
   ],
   "source": [
    "qz.quiz_3_1_4b()"
   ]
  },
  {
   "cell_type": "code",
   "execution_count": 22,
   "id": "071f40bc-b9b2-48b7-b535-9480bfbb028e",
   "metadata": {},
   "outputs": [],
   "source": [
    "# Scratch space"
   ]
  },
  {
   "cell_type": "markdown",
   "id": "5a94214f-eced-444a-86c5-a2c306a3af7c",
   "metadata": {},
   "source": [
    "***"
   ]
  },
  {
   "cell_type": "markdown",
   "id": "99b5bde1-ffc0-4105-9755-8e49800ef025",
   "metadata": {},
   "source": [
    "Here, we notice a few interesting differences compared to delay steering:\n",
    "\n",
    "- The phase needed to match an element's transmission to the reference wave *does depend on frequency* (i.e., try aligning and then changing the frequency). This is a major consideration when using phase steering: if using phase steering and a transmit waveform that utilizes a broad range of frequencies, there may be appreciable energy loss due to the fact that the phases are only optimal for a single frequency.\n",
    "\n",
    "- Since the waves arrive at different times, the edges of the waves are no longer aligned. This causes a small amount of energy loss but is typically negligible as the pulse is often much longer than the mismatched portion."
   ]
  },
  {
   "cell_type": "markdown",
   "id": "a7a673f3-377c-458a-9f01-df8082f5aa0d",
   "metadata": {},
   "source": [
    "### Polarization"
   ]
  },
  {
   "cell_type": "markdown",
   "id": "f33e62c1-6763-4ef7-bbe1-5b7b713b9f30",
   "metadata": {},
   "source": [
    "The last degree-of-freedom for transmission is the orientation of the wave with respect to propagation. We can think of this as the same decision that one can make when making waves using a taut rope: we can go up-and-down, left-and-right, corkscrew, etc. The big difference being that we are making waves using electromagnetics and not tension in a rope."
   ]
  },
  {
   "cell_type": "markdown",
   "id": "e0e2a644-8f8a-41c8-87be-1dc599c727fe",
   "metadata": {},
   "source": [
    "There are a few common polarizations used in radar systems; the first we will look at is **linear** polarization, where the wave stays in the same plane as it travels outward. This is analogous to the up-and-down and left-and-right waves created in the rope example. Below is an animation of a wave with **vertical** polarization, which varies up and down as it moves outward:\n",
    "\n",
    "<div style=\"text-align: center\"> <img src=\"img/vert.gif\" justify=\"center\" width=\"500px\"></img> </div>"
   ]
  },
  {
   "cell_type": "markdown",
   "id": "1162ef6c-34e8-49d2-8b74-b60f8dfa6bc9",
   "metadata": {},
   "source": [
    "The other most common type of linear polarization is **horizontal** polarization, where the wave moves in the horizontal plane relative to the radar aperture. Another polarization typically used in radar is **circular** polarization, which moves in a corkscrew shape as it propagates; below is an animation of a circularly polarized wave.\n",
    "\n",
    "<div style=\"text-align: center\"> <img src=\"img/circ_pol.gif\" justify=\"center\" width=\"500px\"></img> </div>"
   ]
  },
  {
   "cell_type": "markdown",
   "id": "7193610d-bd43-484f-af5e-e3d2975f24f5",
   "metadata": {},
   "source": [
    "The polarization of the transmitted wave is completely controlled the choice of transmit antenna; different antenna shapes and configurations leads to differently polarized waves. \n",
    "\n",
    "A way to be able to create any polarization is to jointly control a vertically polarized antenna and a horizontally polarized antenna. If we change how energy is distributed between the two and allow for a phase difference, we can generate whatever polarization is desired. To see this, let us look at the following interactive example with some interesting examples to try:\n",
    "\n",
    "| Polarization        | Orientation Angle (deg) | Phase Difference (deg) |\n",
    "|---------------------|-------------------------|------------------------|\n",
    "| Linear, Horizontal  | 0                       | 0                      |\n",
    "| Linear, Vertical    | 90                      | 0                      |\n",
    "| Circular, Right-hand| 45                      | 90                     |\n",
    "| Circular, Left-hand | 45                      | 270                    |"
   ]
  },
  {
   "cell_type": "code",
   "execution_count": 23,
   "id": "e31e914f-4aef-4e07-89bf-405b513df741",
   "metadata": {
    "jupyter": {
     "source_hidden": true
    },
    "tags": []
   },
   "outputs": [
    {
     "data": {
      "application/vnd.jupyter.widget-view+json": {
       "model_id": "8ec41c2fde4e4e91bf2d9b81c1b689ff",
       "version_major": 2,
       "version_minor": 0
      },
      "text/plain": [
       "AppLayout(children=(VBox(children=(VBox(children=(HTML(value=\"<b><font color='black'>Controls</b>\"), FloatSlid…"
      ]
     },
     "metadata": {},
     "output_type": "display_data"
    }
   ],
   "source": [
    "ex.ex_3_1_8()"
   ]
  },
  {
   "cell_type": "markdown",
   "id": "a92d8297-e0fc-497a-9e51-d8bb659b7f68",
   "metadata": {},
   "source": [
    "Differently polarized waves will create different strength echoes from targets based on a target's shape and material properties. For instance, a horizontally polarized wave hitting a long horizontal edge, e.g., an aircraft wing, will create a very strong echo; however, a vertically polarized wave hitting the same horizontal edge will create a very weak echo. Transmit polarization is generally chosen to be able to create strong echoes over the expected targets and geometries."
   ]
  },
  {
   "cell_type": "markdown",
   "id": "2297f7d3-8f9a-49ba-844b-5a9798592f77",
   "metadata": {
    "tags": []
   },
   "source": [
    "## Radar Receptions"
   ]
  },
  {
   "cell_type": "markdown",
   "id": "9456285d-edf6-4934-af41-642ff7ce2658",
   "metadata": {},
   "source": [
    "Just like transmission, there are the same design options when choosing how to listen to incoming signals:\n",
    "\n",
    "* **Waveform**: Shape of the incoming wave of interest\n",
    "* **Space**: Region to listen for incoming waves\n",
    "* **Polarization**: Orientation of the incoming wave of interest relative to direction of travel\n",
    "\n",
    "We will go over each of these in detail."
   ]
  },
  {
   "cell_type": "markdown",
   "id": "4e58002f-e2e2-4070-9ba2-82a02b0811bc",
   "metadata": {},
   "source": [
    "### Waveform"
   ]
  },
  {
   "cell_type": "markdown",
   "id": "2f5b6b21-02c2-45dd-b1a0-04af8063e6e7",
   "metadata": {},
   "source": [
    "For reception, we almost always want to find the waveform that was transmitted. This is akin to using our voice for acoustic ranging and only listening for echoes of the word that we shouted. Finding the presence of the transmitted waveform is called **matched filtering**, because we are filtering out all other signals except those matched to the transmitted wave. (Note that matched filtering is also often called **pulse compression**.)"
   ]
  },
  {
   "cell_type": "markdown",
   "id": "055c4896-547a-4e2e-9bf3-cde29650f14e",
   "metadata": {},
   "source": [
    "The good news is that we know the waveform we transmitted because we chose it; the bad news is that we do not know at what time the echo signal will be arriving. This means we have to search over all possible delays for the presence of echoes. Each possible arrival time we will call a **delay hypothesis**. To test for the presence of an echo, we will take an *inner product*<sup>[2](#foot_inner)</sup> of the received signal with the transmitted waveform. An inner product tells us how much one signal is like another; if it is a perfect match, the value will be large, otherwise, the value will be small.\n",
    "\n",
    "In the following interactive example, we can see how a matched filter works. Try changing the *<font color=\"DarkBlue\">Delay Hypothesis</font>* and watch how the inner product value (shown as a **<font color=\"red\">red</font>** dot in the lower plot) changes; the true echo is in **<font color=\"blue\">blue</font>** and the hypothesized echo is in **<font color=\"red\">red</font>**. When the *<font color=\"DarkBlue\">Delay Hypothesis</font>* is at zero, i.e., a perfect match, the value is at its maximum; otherwise, it trails off. Also, take note on how the *<font color=\"DarkBlue\">Pulsewidth</font>* affects the shape of the output—we will return to this."
   ]
  },
  {
   "cell_type": "code",
   "execution_count": 24,
   "id": "9f70c15a-4cb8-4361-8fec-a1a5baaf5ac9",
   "metadata": {
    "jupyter": {
     "source_hidden": true
    },
    "tags": []
   },
   "outputs": [
    {
     "data": {
      "application/vnd.jupyter.widget-view+json": {
       "model_id": "be77fd1ee73948259510d17e67261d83",
       "version_major": 2,
       "version_minor": 0
      },
      "text/plain": [
       "AppLayout(children=(VBox(children=(VBox(children=(HTML(value=\"<b><font color='black'>Waveform</b>\"), FloatSlid…"
      ]
     },
     "metadata": {},
     "output_type": "display_data"
    }
   ],
   "source": [
    "ex.ex_3_1_9()"
   ]
  },
  {
   "cell_type": "markdown",
   "id": "36f2b7d3-e311-45ad-a735-120445c5ccba",
   "metadata": {},
   "source": [
    "In the **black** dashed line, we see the curve that the matched filter output takes over all possible delay hypotheses; this is called a **delay profile**. The *delay profile* is key for measuring how well a radar system can resolve different targets. This is because the total received signal will be a superposition of a collection of delay profiles, one for each target at its according range. In particular, we will look at **delay resolution**, $\\delta \\tau$, which is the minimum distance in time required to confidently discern two echoes."
   ]
  },
  {
   "cell_type": "markdown",
   "id": "0b74f3dc-8473-499a-a929-695c5c109dfd",
   "metadata": {},
   "source": [
    "To see how the delay profile relates to delay resolution, we can look at the following interactive example. In this example, we will look at the filter output over all delay hypotheses when receiving two echoes from variably spaced targets. We can now change the *<font color=\"DarkBlue\">Range Separation</font>* between targets and the *<font color=\"DarkBlue\">Pulsewidth</font>*; the true target ranges are illustrated as **black** dashed lines. Note how the two copies of the delay profile interact as the targets spread apart with increasing *<font color=\"DarkBlue\">Range Separation</font>*."
   ]
  },
  {
   "cell_type": "code",
   "execution_count": 25,
   "id": "3641b665-2aed-4bed-94f9-48f26d486b0a",
   "metadata": {
    "jupyter": {
     "source_hidden": true
    },
    "tags": []
   },
   "outputs": [
    {
     "data": {
      "application/vnd.jupyter.widget-view+json": {
       "model_id": "81f1f75a8f054c38afccbfc7723e601b",
       "version_major": 2,
       "version_minor": 0
      },
      "text/plain": [
       "AppLayout(children=(VBox(children=(VBox(children=(HTML(value=\"<b><font color='black'>Waveform</b>\"), FloatSlid…"
      ]
     },
     "metadata": {},
     "output_type": "display_data"
    }
   ],
   "source": [
    "ex.ex_3_1_10()"
   ]
  },
  {
   "cell_type": "markdown",
   "id": "c6704347-50f7-45c1-99bb-96c99d002df8",
   "metadata": {},
   "source": [
    "We can note that as the pulsewidth increases, it becomes more difficult to confidently separate the two target echoes. However, if we shorten the pulsewidth, we will also be lowering the transmit energy, potentially making the echoes too weak to observe. Luckily, there is a way to improve the resolution of targets in delay (i.e., range) without shortening the pulsewidth. To see how this is done, let us revisit the matched filter output interactive example, but now we are using a LFM waveform with an adjustable *<font color=\"DarkBlue\">Start Frequency</font>* and *<font color=\"DarkBlue\">Stop Frequency</font>*. Watch what happens to the delay profile shape when adjusting the span of frequencies used by the LFM waveform."
   ]
  },
  {
   "cell_type": "code",
   "execution_count": 26,
   "id": "7cb8175a-3dc4-42b0-87e2-30043b69e235",
   "metadata": {
    "jupyter": {
     "source_hidden": true
    },
    "tags": []
   },
   "outputs": [
    {
     "data": {
      "application/vnd.jupyter.widget-view+json": {
       "model_id": "3c13b61e6aeb43cf8fa6d4b29950ad74",
       "version_major": 2,
       "version_minor": 0
      },
      "text/plain": [
       "AppLayout(children=(VBox(children=(VBox(children=(HTML(value=\"<b><font color='black'>Waveform</b>\"), FloatSlid…"
      ]
     },
     "metadata": {},
     "output_type": "display_data"
    }
   ],
   "source": [
    "ex.ex_3_1_11()"
   ]
  },
  {
   "cell_type": "markdown",
   "id": "91028769-2764-44c2-8976-261866976582",
   "metadata": {},
   "source": [
    "As the spread of frequencies increase, the delay profile narrows, which will improve the ability to resolve targets in range. The spread of frequency content of a waveform (i.e., the distance between the start and stop frequencies) is called its **bandwidth**, $B$. It can be shown<sup>[[1]](#ref_skolnik)</sup> that the delay resolution, $\\delta \\tau$ , is:\n",
    "\n",
    "$$\n",
    "\\delta \\tau = \\frac{1}{B}\n",
    "$$\n",
    "\n",
    "Likewise, we can use this result and the relationship between delay and range $r = c\\tau/2$ to derive the **range resolution** (i.e., distance required in range to confidently resolve two target echoes), $\\delta r$ , as:\n",
    "\n",
    "$$\n",
    "\\delta r = \\frac{c}{2B}\n",
    "$$\n",
    "\n",
    "For example, if we use an LFM waveform that spans a bandwidth of $B = 300~\\mathrm{MHz}$, the minimum distance needed to resolve to targets in range is:\n",
    "\n",
    "$$\n",
    "\\begin{align}\n",
    "\\delta r &= \\frac{c}{2B}\\\\\n",
    "&= \\frac{3\\times 10^8}{2\\cdot 3\\times 10^8}\\\\\n",
    "&= 0.5~\\mathrm{m}\n",
    "\\end{align}\n",
    "$$\n",
    "\n",
    "Let us revisit the delay resolution example but now with an LFM waveform. Note how we can improve resolution of the targets by increasing the bandwidth of the signal. Another important property to notice is that at bandwidths  greater than $1~\\mathrm{MHz}$, the pulsewidth has very little effect on the delay resolution. This is a powerful result as it means we can have long pulsewidths to impart large amounts of transmit energy while also controlling our delay and range resolution using bandwidth."
   ]
  },
  {
   "cell_type": "code",
   "execution_count": 27,
   "id": "6c7656e9-f43e-4e58-93aa-11af25e77e9b",
   "metadata": {
    "jupyter": {
     "source_hidden": true
    },
    "tags": []
   },
   "outputs": [
    {
     "data": {
      "application/vnd.jupyter.widget-view+json": {
       "model_id": "f2b22a7fbb0d4102b6dcdba3aca2323e",
       "version_major": 2,
       "version_minor": 0
      },
      "text/plain": [
       "AppLayout(children=(VBox(children=(VBox(children=(HTML(value=\"<b><font color='black'>Waveform</b>\"), FloatSlid…"
      ]
     },
     "metadata": {},
     "output_type": "display_data"
    }
   ],
   "source": [
    "ex.ex_3_1_12()"
   ]
  },
  {
   "cell_type": "markdown",
   "id": "8090cb0f-781f-46bd-9bbc-17c9150c3043",
   "metadata": {},
   "source": [
    "One thing to note is that increasing the bandwidth of the waveform does come with a cost implication for the radar. Higher bandwidth transmit waveforms require more sophisticated equipment for generation and amplification of the signal to be transmitted along with more advanced receiver hardware to appropriately process the echo signals."
   ]
  },
  {
   "cell_type": "markdown",
   "id": "a772e9ec-fa28-44fd-9870-86380450bcec",
   "metadata": {},
   "source": [
    "***"
   ]
  },
  {
   "cell_type": "markdown",
   "id": "f58f9bdb-974f-40cc-9e55-57fefa6832d4",
   "metadata": {},
   "source": [
    "### Question 5"
   ]
  },
  {
   "cell_type": "markdown",
   "id": "44fdde0a-8237-4afb-b630-90a227d1eac1",
   "metadata": {},
   "source": [
    "What transmit waveform bandwidth, $B$ , is required to be able to discern targets with a range separation of at least $\\delta r = 10~\\mathrm{m}$?"
   ]
  },
  {
   "cell_type": "code",
   "execution_count": 28,
   "id": "beda510d-1c86-483b-87c0-e44d8eb551c0",
   "metadata": {
    "jupyter": {
     "source_hidden": true
    },
    "tags": []
   },
   "outputs": [
    {
     "data": {
      "application/vnd.jupyter.widget-view+json": {
       "model_id": "9eeaed95da1a41eb84c971ad3fde7ace",
       "version_major": 2,
       "version_minor": 0
      },
      "text/plain": [
       "VBox(children=(HBox(children=(HTML(value=\"<p><font color='black'>Enter bandwidth (in Hz):</p>\"), FloatText(val…"
      ]
     },
     "metadata": {},
     "output_type": "display_data"
    }
   ],
   "source": [
    "qz.quiz_3_1_5()"
   ]
  },
  {
   "cell_type": "code",
   "execution_count": 29,
   "id": "58e6bf78-1f17-4736-b845-1622c23181b6",
   "metadata": {},
   "outputs": [],
   "source": [
    "# Scratch space"
   ]
  },
  {
   "cell_type": "markdown",
   "id": "e959d4c0-dbf0-451d-ab08-161e16098dfc",
   "metadata": {},
   "source": [
    "***"
   ]
  },
  {
   "cell_type": "markdown",
   "id": "05294ff7-2aa9-4be4-8d27-88b813e70a12",
   "metadata": {},
   "source": [
    "Thus, the bandwidth of the transmit waveform is the primary driver for how well we can resolve to targets in range; this is why *modulation* of the transmit waveform is performed: to spread the waveform to a span of frequencies and, therefore, designing the range resolution capability of the radar."
   ]
  },
  {
   "cell_type": "markdown",
   "id": "9108984c-04be-43a4-b69a-2191aef9fbcc",
   "metadata": {},
   "source": [
    "### Space"
   ]
  },
  {
   "cell_type": "markdown",
   "id": "22ead2cc-8902-44a4-92fa-39e879691e5c",
   "metadata": {},
   "source": [
    "Just as we did with the waveform used for reception, we will typically match the spatial degree-of-freedom on reception to the spatial degree-of-freedom on transmit. This means that we will only listen for echoes in the region of space in which we transmitted energy.\n",
    "\n",
    "Focusing and steering are performed in the exact same way as transmit:\n",
    "\n",
    "- Focusing is performed by using a receive aperture to collect signals from a swath of angle in space\n",
    "- Steering is performed by either moving the aperture (i.e., mechanical) or appropriately combining the outputs of elements of a receive array (i.e., electronic); phase and delay steering calculations are done in an identical manner to transmission."
   ]
  },
  {
   "cell_type": "markdown",
   "id": "26eac7ca-b5a3-4240-a18c-1bbba1344902",
   "metadata": {},
   "source": [
    "### Polarization"
   ]
  },
  {
   "cell_type": "markdown",
   "id": "1136ecfa-a47a-4ec5-8dab-aee41ac7b1be",
   "metadata": {},
   "source": [
    "Similar to transmit polarization, receive polarization is dictated by the antenna hardware used for reception. Further, the polarization characteristics of the radar are chosen, if possible, to match the polarization of target echoes to strengthen their presence in the received signals. Note that there may be other emissions present that polarization is chosen to suppress on reception, e.g., echoes from buildings or a sea surface, emissions from other sensors."
   ]
  },
  {
   "cell_type": "markdown",
   "id": "cdd2c4f0-d99b-4448-bd83-72d25db481fe",
   "metadata": {},
   "source": [
    "## Integration"
   ]
  },
  {
   "cell_type": "markdown",
   "id": "17720a4c-09a7-4ba1-8051-4d03686d41ac",
   "metadata": {},
   "source": [
    "One last important topic relating to transmission and receptions are their *combination*. Let us say we have reached the limit of our budget for building a radar but still need to observe targets beyond our designed sensitivity. One way to achieve this is through combining multiple received signals in a process called **integration**.\n",
    "\n",
    "Integration relies on the fact that, for each target observation, the shape and characteristics of target echo will be remain largely the same; the noise, however, is random from observation to observation. We can exploit this fact and average out the effect of the noise by adding together received pulses (see figure below). Note that if the target is moving quickly, we will have to account for the Doppler effect during integration—this will be covered in [Lab 4.1: Target Parameter Estimation](4_2_Target_Parameter_Estimation.ipynb).\n",
    "\n",
    "<div style=\"text-align: center\"> <img src=\"img/integ.png\" justify=\"center\" width=\"600px\"></img> </div>\n",
    "\n",
    "There are two types of integration: \n",
    "\n",
    "- **Coherent integration**: Uses phase and amplitude information from the incoming echoes when averaging over multiple observations\n",
    "- **Noncoherent integration**: Uses only amplitude information from the incoming echoes when averaging over multiple observations\n",
    "\n",
    "For coherent integration using $N$ observations, the resulting signal-to-noise ratio after integration, $\\mathrm{SNR}_{c}$ , compared to a single pulse SNR, $\\mathrm{SNR}_0$ , will be:\n",
    "\n",
    "$$\n",
    "\\mathrm{SNR}_{c} = N \\cdot \\mathrm{SNR}_0\n",
    "$$\n",
    "\n",
    "Thus, we can achieve an $N$-fold improvement in SNR via coherent integration with $N$ pulses. \n",
    "\n",
    "Coherent integration requires certain stability guarantees in radar hardware that may increase cost prohibitively. In that case, noncoherent integration can be used; noncoherent integration is more robust to radar system instabilities, but the gain in SNR will be appreciably smaller. A rough estimate of the resulting SNR for noncoherent integration, $\\mathrm{SNR}_{n}$ , is:\n",
    "\n",
    "$$\n",
    "\\mathrm{SNR}_{n} \\approx \\sqrt{N} \\cdot \\mathrm{SNR}_0\n",
    "$$\n"
   ]
  },
  {
   "cell_type": "markdown",
   "id": "7a9bb6da-09d5-4e7d-8040-463a77bd9c90",
   "metadata": {},
   "source": [
    "## Robby Revisited"
   ]
  },
  {
   "cell_type": "markdown",
   "id": "bb3f45ba-7084-4ee9-af1f-02450019075a",
   "metadata": {},
   "source": [
    "To see how some of the topics discussed above, e.g., waveform bandwidth, integration, affect the output of a radar, we will again look at Robby the test radar. We can now define Robby in terminology we have recently learned:\n",
    "\n",
    "- **Waveform**: Robby uses a LFM waveform for transmission and performs matched filtering on receive; the display shows the output of the matched filter\n",
    "- **Space**: Robby focuses energy using a dish to create a circular aperture and then performs mechanical steering to rotate\n",
    "- **Polarization**: Robby uses vertical polarization on transmit and vertical polarization on receive; we will not see enough target detail in this course to exercise other polarizations\n",
    "\n",
    "As compared to [Lab 2.2: Basic Radar Design](2_2_Basic_Radar_Design.ipynb), there are a few new knobs that can be adjusted when designing the transmission and processing receptions:\n",
    "\n",
    "- *<font color=\"DarkBlue\">Bandwidth</font>*: Bandwidth of the transmitted waveform; dictates the range resolution of the radar system\n",
    "- *<font color=\"DarkBlue\">Number of Integrated Pulses</font>*: Number of pulses used in integration; a value of one means no integration is performed\n",
    "- *<font color=\"DarkBlue\">Number of Integrated Pulses</font>*: Toggles whether coherent or noncoherent integration is used\n",
    "\n",
    "Again there is a test target at azimuth $\\theta = 45~\\mathrm{deg}$ and range $r = 6~\\mathrm{km}$. First, adjust *<font color=\"DarkBlue\">Dish Radius</font>*, *<font color=\"DarkBlue\">Transmit Energy</font>*, and *<font color=\"DarkBlue\">Transmit Energy</font>* to be able to see the target. Then, adjust the new parameters to see how the radar output changes. Note that the display of Robby is actually showing the matched filter output discussed above."
   ]
  },
  {
   "cell_type": "code",
   "execution_count": 30,
   "id": "31ec7776-3689-492f-bf26-c8fcb2aea23b",
   "metadata": {
    "jupyter": {
     "source_hidden": true
    },
    "tags": []
   },
   "outputs": [
    {
     "data": {
      "application/vnd.jupyter.widget-view+json": {
       "model_id": "ce85062c054b4bbca9ee2cb92113919c",
       "version_major": 2,
       "version_minor": 0
      },
      "text/plain": [
       "VBox(children=(AppLayout(children=(VBox(children=(VBox(children=(HTML(value=\"<b><font color='black'>Radar</b>\"…"
      ]
     },
     "metadata": {},
     "output_type": "display_data"
    }
   ],
   "source": [
    "ex.ex_3_1_13()"
   ]
  },
  {
   "cell_type": "markdown",
   "id": "9e506169-c736-4ecc-8af8-5bd748de15f0",
   "metadata": {},
   "source": [
    "## Summary"
   ]
  },
  {
   "cell_type": "markdown",
   "id": "e19bb9ca-30c1-4541-9e80-a72947c6170a",
   "metadata": {},
   "source": [
    "In this lab, we covered the decisions made by the transmitter, which decides how and where to transmit energy, and the receiver, which decides how and where to listen for echoes. For both transmission and reception, the degrees-of-freedom are:\n",
    "\n",
    "- Waveform\n",
    "- Space\n",
    "- Polarization\n",
    "\n",
    "<div style=\"text-align: center\"> <img src=\"img/tx_dof.png\" justify=\"center\" width=\"900px\"></img> </div>\n",
    "\n",
    "Typically, all the receive degrees-of-freedom are chosen to match the transmit degrees-of-freedom. For the waveform, this comes in the form of a matched filter, which looks for the presence of echoes of the transmit waveform. By analyzing the performance of a matched filter, we saw that the ability to resolve two targets in range is dictated by the bandwidth of the transmit waveform, i.e., its span of frequencies.\n",
    "\n",
    "Additionally, multiple observations can be combined via integration, or averaging, to improve the signal-to-noise ratio. This can be done both using phase information, i.e., coherent, and without, i.e., noncoherent."
   ]
  },
  {
   "cell_type": "markdown",
   "id": "ba8f0b8e-eb09-4043-a4ad-057eecd7dfc0",
   "metadata": {},
   "source": [
    "## Footnotes"
   ]
  },
  {
   "cell_type": "markdown",
   "id": "9caecb10-3d89-4b8d-b305-b0da6a716b4d",
   "metadata": {},
   "source": [
    "<a id=\"foot_far\"><sup>1</sup></a>The range at which the far field starts for an aperture, $r_f$, (called the **Fraunhofer distance**) is defined as:\n",
    "\n",
    "$$\n",
    "r_f = \\frac{2D^2}{\\lambda}\n",
    "$$\n",
    "\n",
    "where $D$ is the largest extent of the aperture (in $\\mathrm{m}$) and $\\lambda$ is the transmit wavelength (in $\\mathrm{m}$). We can see that $r_f$ increases with frequency and aperture size."
   ]
  },
  {
   "cell_type": "markdown",
   "id": "04195b79-57b4-4b00-b488-b2ab6de9ab16",
   "metadata": {},
   "source": [
    "<a id=\"foot_inner\"><sup>2</sup></a>The inner product is the same notion as the *dot product* in linear algebra. For vectors (and discrete signals), this is simply multiplying entries and summing over the products. For continuous signals, this is done via multiplication and integration. Luckily, calculating the inner product over a range of possible delay hypotheses can be made very efficient using a fast Fourier transform."
   ]
  },
  {
   "cell_type": "markdown",
   "id": "ec43bce4-d9a9-489f-ab6d-9b7f86f4fec3",
   "metadata": {},
   "source": [
    "## References"
   ]
  },
  {
   "cell_type": "markdown",
   "id": "328a9d3a-6aac-4750-a88f-47b5d197bc6c",
   "metadata": {},
   "source": [
    "<a id=\"ref_skolnik\">[1]</a> M. I. Skolnik, “Theoretical accuracy of radar measurements,” *IRE Transactions on Aeronautical and Navigational Electronics*, vol. 7, no. 4, pp. 123–129, Dec. 1960."
   ]
  }
 ],
 "metadata": {
  "kernelspec": {
   "display_name": "Python 3 (ipykernel)",
   "language": "python",
   "name": "python3"
  },
  "language_info": {
   "codemirror_mode": {
    "name": "ipython",
    "version": 3
   },
   "file_extension": ".py",
   "mimetype": "text/x-python",
   "name": "python",
   "nbconvert_exporter": "python",
   "pygments_lexer": "ipython3",
   "version": "3.10.2"
  }
 },
 "nbformat": 4,
 "nbformat_minor": 5
}
