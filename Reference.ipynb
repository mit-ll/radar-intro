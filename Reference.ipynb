{
 "cells": [
  {
   "cell_type": "markdown",
   "id": "cac770e2-2303-44ba-a443-5080a5e1d74c",
   "metadata": {},
   "source": [
    "# Reference"
   ]
  },
  {
   "cell_type": "code",
   "execution_count": 2,
   "id": "5a709cfc-276e-4153-8ac2-433cbd04cc67",
   "metadata": {
    "jupyter": {
     "source_hidden": true
    },
    "tags": []
   },
   "outputs": [
    {
     "data": {
      "text/html": [
       "<style> th { font-size: 16px }</style>"
      ],
      "text/plain": [
       "<IPython.core.display.HTML object>"
      ]
     },
     "metadata": {},
     "output_type": "display_data"
    },
    {
     "data": {
      "text/html": [
       "<style> td { font-size: 16px }</style>"
      ],
      "text/plain": [
       "<IPython.core.display.HTML object>"
      ]
     },
     "metadata": {},
     "output_type": "display_data"
    }
   ],
   "source": [
    "%matplotlib widget\n",
    "import rad.css as css\n",
    "import rad.example as ex\n",
    "import rad.quiz as qz\n",
    "from rad.const import c, k\n",
    "from rad.radar import to_db, from_db, deg2rad, rad2deg\n",
    "from math import sqrt, sin, asin, cos, acos, tan, atan2, pi, log, log10\n",
    "css.add_custom_css()"
   ]
  },
  {
   "cell_type": "markdown",
   "id": "c315a5e8-4778-472b-8a99-7f3f64d67f67",
   "metadata": {},
   "source": [
    "To find material quickly, use the *<font color=\"DarkBlue\">Table of Contents</font>* <img src=\"img/toc.png\"></img> button on the left sidebar."
   ]
  },
  {
   "cell_type": "markdown",
   "id": "591e8791-7b51-4a79-9774-edf6aef97cdf",
   "metadata": {},
   "source": [
    "## Aperture Beamwidth"
   ]
  },
  {
   "cell_type": "markdown",
   "id": "798d3fc0-110d-4568-8288-ee7b3e93b665",
   "metadata": {},
   "source": [
    "The beamwidth of an aperture is lower bounded by:\n",
    "\n",
    "$$\n",
    "\\Delta\\theta \\geq \\mathrm{Shape~Factor}~\\cdot\\frac{\\lambda}{D}\n",
    "$$\n",
    "\n",
    "where the shape factor is dictated by the aperture shape, $\\lambda$ is the transmit wavelength (in $\\mathrm{m}$), and $D$ is the extent of the aperture in the dimension under consideration."
   ]
  },
  {
   "cell_type": "markdown",
   "id": "26153f61-41e4-42e0-b589-4c79fd0b6993",
   "metadata": {},
   "source": [
    "### Circular Aperture"
   ]
  },
  {
   "cell_type": "markdown",
   "id": "9b6de410-7303-482e-85ec-80c3d1b8df4c",
   "metadata": {},
   "source": [
    "The beamwidth of a circular aperture (in degrees) of diameter $D$ is lower bounded by:\n",
    "\n",
    "$$\n",
    "\\Delta\\theta \\geq 70^\\circ\\cdot\\frac{\\lambda}{D}\n",
    "$$\n",
    "\n",
    "where $\\lambda$ is the transmit wavelength (in $\\mathrm{m}$)."
   ]
  },
  {
   "cell_type": "markdown",
   "id": "0b693206-3f41-4476-96e9-07c88de747f3",
   "metadata": {},
   "source": [
    "### Rectangular Aperture"
   ]
  },
  {
   "cell_type": "markdown",
   "id": "ad0ddc7b-d57e-4b4b-8ce7-0e8a03fedda5",
   "metadata": {},
   "source": [
    "The vertical beamwidth, $\\Delta \\theta_v$ , and horizontal beamwidth, $\\Delta \\theta_h$ , of a rectangular aperture (in degrees) of height $a$ (in $\\mathrm{m}$) and width $b$ (in $\\mathrm{m}$) is lower bounded by:\n",
    "\n",
    "$$\n",
    "\\Delta\\theta_v \\geq 57.3^\\circ\\cdot\\frac{\\lambda}{a}\n",
    "$$\n",
    "\n",
    "$$\n",
    "\\Delta\\theta_h \\geq 57.3^\\circ\\cdot\\frac{\\lambda}{b}\n",
    "$$\n",
    "\n",
    "where $\\lambda$ is the transmit wavelength (in $\\mathrm{m}$)."
   ]
  },
  {
   "cell_type": "markdown",
   "id": "3b78e94e-a1f1-485c-838d-5761630a234e",
   "metadata": {},
   "source": [
    "## Aperture Gain"
   ]
  },
  {
   "cell_type": "markdown",
   "id": "9df12e33-ff5d-4d56-93ff-1bf3d8d4c913",
   "metadata": {},
   "source": [
    "The gain of an aperture in direction $\\theta$, $G(\\theta)$ , is upper bounded by:\n",
    "\n",
    "$$\n",
    "G(\\theta) \\leq \\frac{4\\pi A}{\\lambda^2}\n",
    "$$\n",
    "\n",
    "where $A$ is the aperture area (in $\\mathrm{m^2}$) and $\\lambda$ is the transmit wavelength (in $\\mathrm{m}$)."
   ]
  },
  {
   "cell_type": "markdown",
   "id": "895d33f8-2ac9-4ea1-9e42-95e218f9c2ef",
   "metadata": {},
   "source": [
    "## Constants\n",
    "\n",
    "| Constant           | Symbol |\n",
    "|--------------------|--------|\n",
    "| Boltzmann constant | `k`    |\n",
    "| $\\pi$              | `pi`   |\n",
    "| Speed of light     | `c`    |"
   ]
  },
  {
   "cell_type": "markdown",
   "id": "52e7991c-f87a-451c-991c-2919eb1ec7a6",
   "metadata": {
    "tags": []
   },
   "source": [
    "## Decibels"
   ]
  },
  {
   "cell_type": "markdown",
   "id": "3f8d5692-3eab-405a-abe9-3568a4e251f8",
   "metadata": {},
   "source": [
    "Converting a number $x$ to its decibel equivalent, $x_d$ :\n",
    "    \n",
    "$$\n",
    "x_d = 10\\log_{10}(x)\n",
    "$$"
   ]
  },
  {
   "cell_type": "markdown",
   "id": "9e3a1af9-004d-4d7c-9c38-833631e1dc56",
   "metadata": {},
   "source": [
    "To return to original units:\n",
    "\n",
    "$$\n",
    "x = 10^{x_d/10}\n",
    "$$"
   ]
  },
  {
   "cell_type": "markdown",
   "id": "2e12effa-be94-4723-b6cd-9349c177dc09",
   "metadata": {},
   "source": [
    "The function `to_db()` can be used to convert to decibels, and the function `from_db()` can be used to convert back to original units in notebook calculations."
   ]
  },
  {
   "cell_type": "markdown",
   "id": "430f3e4e-644e-42b4-bce0-3247a1fc72fd",
   "metadata": {
    "tags": []
   },
   "source": [
    "### Multiplication\n",
    "\n",
    "Conversion to decibels turns multiplication into addition:\n",
    "\n",
    "$$\n",
    "\\begin{align}\n",
    "z &= x\\cdot y\\\\\n",
    "z_d &= x_d + y_d\n",
    "\\end{align}\n",
    "$$\n",
    "\n",
    "Likewise, division becomes subtraction:\n",
    "\n",
    "$$\n",
    "\\begin{align}\n",
    "z &= x/ y\\\\\n",
    "z_d &= x_d - y_d\n",
    "\\end{align}\n",
    "$$\n"
   ]
  },
  {
   "cell_type": "markdown",
   "id": "732db661-1567-4f2e-91f1-048b9a364423",
   "metadata": {
    "tags": []
   },
   "source": [
    "### Exponentiation"
   ]
  },
  {
   "cell_type": "markdown",
   "id": "40d53283-2ba6-4812-9eaa-7c7c19c46c84",
   "metadata": {},
   "source": [
    "Conversion to decibel will change exponents into multiplication:\n",
    "\n",
    "$$\n",
    "\\begin{align}\n",
    "z &= x^a\\\\\n",
    "z_d &= a \\cdot x_d\n",
    "\\end{align}\n",
    "$$"
   ]
  },
  {
   "cell_type": "markdown",
   "id": "de758eba-a360-4370-ac6a-d169865a2ee3",
   "metadata": {
    "tags": []
   },
   "source": [
    "## Doppler"
   ]
  },
  {
   "cell_type": "markdown",
   "id": "53e926e9-70aa-438e-80f9-8ceef944d763",
   "metadata": {},
   "source": [
    "The Doppler frequency shift, $f_D$ , incurred by a target moving at a range rate $\\dot{r}$ relative to a radar transmitting at frequency $f$ is:\n",
    "\n",
    "$$\n",
    "f_D = -\\frac{2\\dot{r}f}{c}\n",
    "$$"
   ]
  },
  {
   "cell_type": "markdown",
   "id": "3ea6f8dd-3665-4105-94f8-ad6a3e9af4ae",
   "metadata": {},
   "source": [
    "## Integration"
   ]
  },
  {
   "cell_type": "markdown",
   "id": "c3f4c9ca-454b-4021-bbb7-83a55fbc9e16",
   "metadata": {},
   "source": [
    "For coherent integration using $N$ observations, the resulting signal-to-noise ratio after integration, $\\mathrm{SNR}_{c}$ , compared to a single pulse SNR, $\\mathrm{SNR}_0$ , will be:\n",
    "\n",
    "$$\n",
    "\\mathrm{SNR}_{c} = N \\cdot \\mathrm{SNR}_0\n",
    "$$\n",
    "\n",
    "A conservative rough estimate of the resulting SNR for noncoherent integration, $\\mathrm{SNR}_{n}$ , is:\n",
    "\n",
    "$$\n",
    "\\mathrm{SNR}_{n} \\approx \\sqrt{N} \\cdot \\mathrm{SNR}_0\n",
    "$$"
   ]
  },
  {
   "cell_type": "markdown",
   "id": "ab005f8a-ee62-4219-92ad-36840d812f48",
   "metadata": {},
   "source": [
    "## Operators and Functions"
   ]
  },
  {
   "cell_type": "markdown",
   "id": "6edb9dd3-5d91-43e9-90b2-4a303d205d9e",
   "metadata": {},
   "source": [
    "### Mathematical Operators\n",
    "\n",
    "| Operation           | Symbol |\n",
    "|---------------------|--------|\n",
    "| Addition            | `+`    |\n",
    "| Subtraction         | `-`    |\n",
    "| Multiplication      | `*`    |\n",
    "| Division            | `/`    |\n",
    "| Exponent            | `**`   |\n",
    "| Square root         | `sqrt` |\n",
    "| Logarithm           | `log`  |\n",
    "| Logarithm (Base 10) | `log10`|\n",
    "\n",
    "### Trigonometric Functions\n",
    "\n",
    "| Function       | Symbol    |\n",
    "|----------------|-----------|\n",
    "| Sine           | `sin`     |\n",
    "| Arcsine        | `asin`    |\n",
    "| Cosine         | `cos`     |\n",
    "| Arccosine      | `acos`    |\n",
    "| Tangent        | `tan`     |\n",
    "| Arctangent     | `atan2`   |"
   ]
  },
  {
   "cell_type": "markdown",
   "id": "b228ef78-f533-4f82-bdbe-5acae7501f4d",
   "metadata": {},
   "source": [
    "## Radar Range Equation"
   ]
  },
  {
   "cell_type": "markdown",
   "id": "2935678c-b526-4016-bc1a-c4b9191abb5d",
   "metadata": {},
   "source": [
    "\n",
    "### Received Power\n",
    "\n",
    "Received power, $P_r$ , (in watts) from a radar transmission is:\n",
    "\n",
    "$$\n",
    "P_r = \\frac{P_t G_t(\\theta) G_r(\\theta) \\lambda^2 \\sigma}{(4\\pi)^3 r^4}\n",
    "$$\n",
    "\n",
    "where\n",
    "\n",
    "- $P_t$ is the transmitted power $(\\mathrm{W})$\n",
    "- $G_t(\\theta)$ is the transmit gain in the transmit direction $\\theta$\n",
    "- $G_r(\\theta)$ is the receive gain in the receive direction $\\theta$\n",
    "- $\\lambda$ is the transmission wavelength ($\\mathrm{m}$)\n",
    "- $\\sigma$ is the radar cross section of the target ($\\mathrm{m^2}$)\n",
    "- $r$ is the range to the target ($\\mathrm{m}$)"
   ]
  },
  {
   "cell_type": "markdown",
   "id": "827acf14-b16b-417e-bc84-25c33722ec4b",
   "metadata": {},
   "source": [
    "\n",
    "### Received Energy\n",
    "\n",
    "Received energy, $\\mathcal{E}_r$ , (in joules) from a radar transmission is:\n",
    "\n",
    "$$\n",
    "\\mathcal{E}_r = \\frac{\\mathcal{E}_t G_t(\\theta) G_r(\\theta) \\lambda^2 \\sigma}{(4\\pi)^3 r^4}\n",
    "$$\n",
    "\n",
    "where\n",
    "\n",
    "- $\\mathcal{E}_t$ is the transmitted energy $(\\mathrm{J})$\n",
    "- $G_t(\\theta)$ is the transmit gain in the transmit direction $\\theta$\n",
    "- $G_r(\\theta)$ is the receive gain in the receive direction $\\theta$\n",
    "- $\\lambda$ is the transmission wavelength ($\\mathrm{m}$)\n",
    "- $\\sigma$ is the radar cross section of the target ($\\mathrm{m^2}$)\n",
    "- $r$ is the range to the target ($\\mathrm{m}$)"
   ]
  },
  {
   "cell_type": "markdown",
   "id": "4d4da610-a18d-467e-a9b2-3f7c7bec5489",
   "metadata": {
    "jp-MarkdownHeadingCollapsed": true,
    "tags": []
   },
   "source": [
    "### Average Noise Energy\n",
    "\n",
    "Average noise energy, $\\mathcal{E}_n$ , (in joules) is:\n",
    "\n",
    "$$\n",
    "\\mathcal{E}_n = k T_s\n",
    "$$\n",
    "\n",
    "where\n",
    "\n",
    "- $k = 1.38064852 \\times 10^{-23} \\frac{J} {^\\circ\\mathrm{K}}$ is the Boltzmann constant\n",
    "- $T_s$ is the noise temperature of the sensor $(^\\circ\\mathrm{K})$"
   ]
  },
  {
   "cell_type": "markdown",
   "id": "0e2c2e2e-a96a-42f9-8164-1d82a13cc8a5",
   "metadata": {},
   "source": [
    "### Signal-to-Noise Ratio\n",
    "\n",
    "The received signal-to-noise ratio is then:\n",
    "\n",
    "$$\n",
    "\\mathrm{SNR} = \\frac{\\mathcal{E}_r}{\\mathcal{E}_n}\n",
    "$$"
   ]
  },
  {
   "cell_type": "markdown",
   "id": "97a0c45b-d907-49a2-8a68-48cc34f75c3a",
   "metadata": {
    "tags": []
   },
   "source": [
    "## Scale"
   ]
  },
  {
   "cell_type": "markdown",
   "id": "e8217396-4da7-4f13-a235-2f1503e88cdf",
   "metadata": {},
   "source": [
    "Here is a list of the scale prefixes, their values, and code snippets to use them in notebook calculations:\n",
    "\n",
    "| Symbol            | Prefix       | Value               | Code           |\n",
    "|-------------------|--------------|---------------------|----------------|\n",
    "| $T$               | tera         | $1 \\times 10^{12}$  | `1E12`         |\n",
    "| $G$               | giga         | $1 \\times 10^9$     | `1E9`          |\n",
    "| $M$               | mega         | $1 \\times 10^6$     | `1E6`          |\n",
    "| $k$               | kilo         | $1 \\times 10^3$     | `1E3`          |\n",
    "| $m$               | milli        | $1 \\times 10^{-3}$  | `1E-3`         |\n",
    "| $\\mu$             | micro        | $1 \\times 10^{-6}$  | `1E-6`         |\n",
    "| $n$               | nano         | $1 \\times 10^{-9}$  | `1E-9`         |\n",
    "| $p$               | pico         | $1 \\times 10^{-12}$ | `1E-12`        |\n"
   ]
  },
  {
   "cell_type": "markdown",
   "id": "0c9c5ab8-4031-490f-808e-2586155ab660",
   "metadata": {
    "tags": []
   },
   "source": [
    "## Symbols"
   ]
  },
  {
   "cell_type": "markdown",
   "id": "0a0dc6b9-451b-4e2e-b0fa-b63cd0c211d6",
   "metadata": {
    "jp-MarkdownHeadingCollapsed": true,
    "tags": []
   },
   "source": [
    "Here is a list of the mathematical symbols used throughout the course and their respective meanings:\n",
    "\n",
    "| Symbol            | Definition                                             |\n",
    "|-------------------|--------------------------------------------------------|\n",
    "| $a$               | Amplitude                                              |\n",
    "| $A$               | Area, $\\mathrm{m^2}$                                   |\n",
    "| $A_t$             | Area of transmit aperture, $\\mathrm{m^2}$              |\n",
    "| $A_r$             | Area of receive aperture, $\\mathrm{m^2}$               |\n",
    "| $B$               | Transmit bandwidth, $\\mathrm{Hz}$                      |\n",
    "| $c$               | Speed of light, $\\mathrm{m/s}$                         |\n",
    "| $\\delta_\\phi$     | Target angle resolution, $\\mathrm{deg}$                |\n",
    "| $\\delta_r$        | Target range resolution, $\\mathrm{m}$                  |\n",
    "| $\\delta_\\dot{r}$  | Target range rate resolution, $\\mathrm{m/s}$           |\n",
    "| $\\mathcal{E}$     | Energy, $\\mathrm{J}$                                   |\n",
    "| $\\mathcal{E}_n$   | Noise energy, $\\mathrm{J}$                             |\n",
    "| $\\mathcal{E}_r$   | Received energy, $\\mathrm{J}$                          |\n",
    "| $\\mathcal{E}_t$   | Transmit energy, $\\mathrm{J}$                          |\n",
    "| $f$               | Transmit frequency, $\\mathrm{Hz}$                      |\n",
    "| $f_D$             | Doppler shift, $\\mathrm{Hz}$                           |\n",
    "| $f_r$             | Received frequency, $\\mathrm{Hz}$                      |\n",
    "| $f_{rep}$         | Pulse repetition frequency, $\\mathrm{Hz}$              |\n",
    "| $\\theta$          | Transmit azimuth angle, $\\mathrm{deg}$                 |\n",
    "| $\\Delta\\theta$    | Transmit azimuth angle beamwidth, $\\mathrm{deg}$       |\n",
    "| $P$               | Power, $\\mathrm{W}$                                    |\n",
    "| $P_i$             | Incident power, $\\mathrm{W}$                           |\n",
    "| $P_n$             | Noise power, $\\mathrm{W}$                              |\n",
    "| $P_r$             | Received power, $\\mathrm{W}$                           |\n",
    "| $P_t$             | Transmit power, $\\mathrm{W}$                           |\n",
    "| $\\phi$            | Target azimuth angle, $\\mathrm{deg}$                   |\n",
    "| $\\hat{\\phi}$      | Target azimuth angle estimate, $\\mathrm{deg}$          |\n",
    "| $r$               | Target range, $\\mathrm{m}$                             |\n",
    "| $\\hat{r}$         | Target range estimate, $\\mathrm{m}$                    |\n",
    "| $\\sigma$          | Target radar cross section, $\\mathrm{m}^2$             |\n",
    "| $\\hat{\\sigma}$    | Target radar cross section estimate, $\\mathrm{m}^2$    |\n",
    "| $\\tau$            | Propagation delay, $\\mathrm{s}$                        |\n",
    "| $\\hat{\\tau}$      | Propagation delay estimate, $\\mathrm{s}$               |\n",
    "| $t$               | Time, $\\mathrm{s}$                                     |\n",
    "| $t_p$             | Pulsewidth, $\\mathrm{s}$                               |\n",
    "| $t_{rep}$         | Pulse repetition interval, $\\mathrm{s}$                |\n",
    "| $v_p$             | Propagation velocity, $\\mathrm{m/s}$                   |"
   ]
  },
  {
   "cell_type": "markdown",
   "id": "c64b8215-6ac8-4a98-ac0a-b71ea7a6f8a1",
   "metadata": {
    "tags": []
   },
   "source": [
    "## Target Parameter Estimates"
   ]
  },
  {
   "cell_type": "markdown",
   "id": "be3601fb-16c9-4371-b7b0-0de2767c10fe",
   "metadata": {
    "tags": []
   },
   "source": [
    "### Accuracy and SNR"
   ]
  },
  {
   "cell_type": "markdown",
   "id": "d66a11b0-e2f8-4d9f-b294-f85c1038b7d4",
   "metadata": {},
   "source": [
    "Each of the observable attributes of target can be estimated with a certain level of accuracy<sup>[1](#foot_acc)</sup>. It can be shown<sup>[[1]](#ref_skolnik)</sup> that the accuracy, $\\alpha$, of each estimate is approximately:\n",
    "\n",
    "$$\n",
    "\\alpha \\approx \\frac{\\delta}{\\sqrt{\\mathrm{SNR}}}\n",
    "$$\n",
    "\n",
    "where $\\delta$ is the resolution in that dimension and $\\mathrm{SNR}$ is the signal-to-noise ratio."
   ]
  },
  {
   "cell_type": "markdown",
   "id": "a3fa14a5-50b5-48de-8146-8bb8a511579d",
   "metadata": {
    "tags": []
   },
   "source": [
    "### Range"
   ]
  },
  {
   "cell_type": "markdown",
   "id": "8eeb8220-2ae2-43c3-9ef0-808a785a8403",
   "metadata": {},
   "source": [
    "The range estimate of a target, $\\hat{r}$ , is given by\n",
    "$$\n",
    "\\hat{r} = \\frac{c\\cdot \\hat{\\tau}}{2}\n",
    "$$\n",
    "\n",
    "where $\\hat{\\tau}$ is the estimated propagation delay from the detection. Range resolution, $\\delta r$ , is\n",
    "\n",
    "$$\n",
    "\\delta r = \\frac{c}{2B}\n",
    "$$\n",
    "\n",
    "where $B$ is the bandwidth of the transmitted waveform. Thus, the accuracy of a range estimate from a detection, $\\alpha_r$ , is\n",
    "\n",
    "$$\n",
    "\\alpha_r = \\frac{c}{2B\\sqrt{\\mathrm{SNR}}}\n",
    "$$"
   ]
  },
  {
   "cell_type": "markdown",
   "id": "648f9e11-971c-484e-819e-3e61e38b2389",
   "metadata": {
    "tags": []
   },
   "source": [
    "### Angle"
   ]
  },
  {
   "cell_type": "markdown",
   "id": "002e7787-5ee4-4c38-b9fc-3c4b9b6bd093",
   "metadata": {},
   "source": [
    "Coarse angle estimation can be done using *mainlobe angle estimation* which places the observed target within the main beam of the radar system. In this case, the target angle estimate, $\\hat{\\phi}$, is simply the transmit-receive steering direction, $\\theta$, or\n",
    "\n",
    "$$\n",
    "\\hat{\\phi} = \\theta\n",
    "$$\n",
    "\n",
    "The accuracy is then roughly the beamwidth of the radar aperture:\n",
    "\n",
    "$$\n",
    "\\alpha_\\phi = \\Delta \\theta\n",
    "$$"
   ]
  },
  {
   "cell_type": "markdown",
   "id": "195ed219-afdb-4676-9e42-7cd01ad556fd",
   "metadata": {},
   "source": [
    "Fine angle measurement can be performed using multiple different techniques, e.g., *beamcenter angle estimation*, *monopulse amplitude comparison*, or *monopulse phase comparison*. With these, the target angle estimate accuracy is increased approximately to\n",
    "\n",
    "$$\n",
    "\\alpha_\\phi = \\frac{\\Delta \\theta}{\\sqrt{\\mathrm{SNR}}}\n",
    "$$"
   ]
  },
  {
   "cell_type": "markdown",
   "id": "6f062dd9-978f-4fa0-b88f-5be15bc867dd",
   "metadata": {},
   "source": [
    "### Cross-Range Resolution"
   ]
  },
  {
   "cell_type": "markdown",
   "id": "85b6743c-701a-48c6-b238-d506f685664c",
   "metadata": {},
   "source": [
    "Resolution in cross-range, $\\delta r_{\\perp}$ , is approximately\n",
    "\n",
    "$$\n",
    "\\delta r_\\perp \\approx r \\cdot \\frac{\\Delta \\theta}{57.3^\\circ}\n",
    "$$"
   ]
  },
  {
   "cell_type": "markdown",
   "id": "4250bfe0-f229-4444-911d-3a477d9a124a",
   "metadata": {},
   "source": [
    "### Range Rate"
   ]
  },
  {
   "cell_type": "markdown",
   "id": "0e7059e5-52a0-4203-8bcd-acf9ace5a203",
   "metadata": {},
   "source": [
    "Range rate measurements are derived from measuring the frequency shift caused by the Doppler effect, $f_D$. The range rate estimate, $\\hat{\\dot{r}}$ , can be calculated as\n",
    "\n",
    "$$\n",
    "\\hat{\\dot{r}} = -\\frac{c f_D}{2f}\n",
    "$$\n",
    "\n",
    "Similar to the range and angle measurements dicussed above, the range rate accuracy of a radar system, $\\alpha_{\\dot{r}}$, can be approximated by:\n",
    "\n",
    "$$\n",
    "\\alpha_{\\dot{r}} = \\frac{c}{2f\\Delta t\\sqrt{\\mathrm{SNR}}}\n",
    "$$\n",
    "\n",
    "where $\\Delta t$ is the observation time. The highest measureable Doppler shift is given by the rate that the multiple pulses are transmitted. For a set of pulses with pulse repetition frequency, $f_{rep}$ , the magnitude of Doppler shifts that can be unambiguously measured is bounded by:\n",
    "\n",
    "$$\n",
    "|f_D| < \\frac{f_{rep}}{2}\n",
    "$$\n",
    "\n",
    "This can be translated to the span of range rates that can be unambiguously observed:\n",
    "\n",
    "$$\n",
    "|\\dot{r}| < \\frac{c f_{rep}}{4f}\n",
    "$$"
   ]
  },
  {
   "cell_type": "markdown",
   "id": "ad27b389-d4ef-49f2-9a5b-f9abbd1866da",
   "metadata": {},
   "source": [
    "### Radar Cross Section"
   ]
  },
  {
   "cell_type": "markdown",
   "id": "5bd844ee-fd6a-49aa-93f1-617e60e4c559",
   "metadata": {},
   "source": [
    "Radar cross section can be calculated from the estimated received energy, $\\hat{\\mathcal{E}}_r$ , and range, $\\hat{r}$ , by:\n",
    "\n",
    "$$\n",
    "\\hat{\\sigma} = \\frac{(4\\pi)^3}{\\mathcal{E}_t G_t(\\theta) G_r(\\theta) \\lambda^2} \\cdot \\hat{\\mathcal{E}}_r \\cdot \\hat{r}^4\n",
    "$$\n",
    "\n",
    "where\n",
    "\n",
    "- $\\mathcal{E}_t$ is the transmitted energy $(\\mathrm{J})$\n",
    "- $G_t(\\theta)$ is the transmit gain in the transmit direction $\\theta$\n",
    "- $G_r(\\theta)$ is the receive gain in the receive direction $\\theta$\n",
    "- $\\lambda$ is the transmission wavelength ($\\mathrm{m}$)\n",
    "- $r$ is the range to the target ($\\mathrm{m}$)\n",
    "\n",
    "Likewise, it can be calculated efficiently using a reference SNR by:\n",
    "\n",
    "$$\n",
    "\\hat{\\sigma} = \\frac{\\mathrm{SNR}}{\\mathrm{SNR}_0} \\cdot \\left(\\frac{\\hat{r}}{r_0}\\right)^4 \\cdot {\\sigma_0}\n",
    "$$"
   ]
  },
  {
   "cell_type": "markdown",
   "id": "1fa9f66b-4395-4f1a-9ebb-ed837d4e3635",
   "metadata": {},
   "source": [
    "## Units"
   ]
  },
  {
   "cell_type": "markdown",
   "id": "3cde87d4-9da9-40ed-b4e7-192ec92beb59",
   "metadata": {},
   "source": [
    "| Symbol              | Unit           | Definition                                             |\n",
    "|---------------------|----------------|--------------------------------------------------------|\n",
    "| $\\mathrm{Hz}$       | hertz          | Unit of frequency                                      |\n",
    "| $\\mathrm{J}$        | joule          | Unit of energy                                         |\n",
    "| $^\\circ \\mathrm{K}$ | degree kelvin  | Unit of temperature                                    |\n",
    "| $\\mathrm{m}$        | meter          | Unit of length                                         |\n",
    "| $\\mathrm{s}$        | second         | Unit of duration                                       |\n",
    "| $\\mathrm{W}$        | watt           | Unit of power                                          |\n"
   ]
  },
  {
   "cell_type": "markdown",
   "id": "e78dcd30-ae02-4b32-a9ca-74bad8a8fc9d",
   "metadata": {},
   "source": [
    "## Wavelength"
   ]
  },
  {
   "cell_type": "markdown",
   "id": "7a1bf1ed-0621-45eb-b58d-57d6fb6d82f9",
   "metadata": {},
   "source": [
    "The frequency and wavelength of a transmitted wave are related by the following:\n",
    "\n",
    "$$ f = \\frac{v_p}{\\lambda} $$\n",
    "\n",
    "and\n",
    "\n",
    "$$ \\lambda = \\frac{v_p}{f} $$\n",
    "\n",
    "where $v_p$ is the propagation velocity."
   ]
  }
 ],
 "metadata": {
  "kernelspec": {
   "display_name": "Python 3 (ipykernel)",
   "language": "python",
   "name": "python3"
  },
  "language_info": {
   "codemirror_mode": {
    "name": "ipython",
    "version": 3
   },
   "file_extension": ".py",
   "mimetype": "text/x-python",
   "name": "python",
   "nbconvert_exporter": "python",
   "pygments_lexer": "ipython3",
   "version": "3.10.2"
  }
 },
 "nbformat": 4,
 "nbformat_minor": 5
}
