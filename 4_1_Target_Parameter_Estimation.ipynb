{
 "cells": [
  {
   "cell_type": "markdown",
   "id": "3efb9b9d-92a5-4902-a152-bdee8338fab1",
   "metadata": {},
   "source": [
    "# Lab 4.1: Target Parameter Estimation"
   ]
  },
  {
   "cell_type": "code",
   "execution_count": 1,
   "id": "785fa078-141a-4aa5-a3e1-7a8781bb49ff",
   "metadata": {
    "jupyter": {
     "source_hidden": true
    },
    "tags": []
   },
   "outputs": [
    {
     "data": {
      "text/html": [
       "<style> th { font-size: 16px }</style>"
      ],
      "text/plain": [
       "<IPython.core.display.HTML object>"
      ]
     },
     "metadata": {},
     "output_type": "display_data"
    },
    {
     "data": {
      "text/html": [
       "<style> td { font-size: 16px }</style>"
      ],
      "text/plain": [
       "<IPython.core.display.HTML object>"
      ]
     },
     "metadata": {},
     "output_type": "display_data"
    }
   ],
   "source": [
    "%matplotlib widget\n",
    "import rad.css as css\n",
    "import rad.example as ex\n",
    "import rad.quiz as qz\n",
    "from rad.const import c, k\n",
    "from rad.radar import to_db, from_db, deg2rad, rad2deg\n",
    "from math import sqrt, sin, asin, cos, acos, tan, atan2, pi, log, log10\n",
    "css.add_custom_css()"
   ]
  },
  {
   "cell_type": "markdown",
   "id": "4ecad87f-6552-4166-9701-756b964b90d3",
   "metadata": {},
   "source": [
    "**Reminders**: \n",
    "\n",
    "- Hit the *<font color=\"DarkBlue\">Run All</font>* button <img width=\"18px\" src=\"img/run_all_icon.png\"> button above before continuing\n",
    "- Useful formulae and definitions are available in [Reference](Reference.ipynb)"
   ]
  },
  {
   "cell_type": "markdown",
   "id": "4c06c67b-b86b-4e92-b15b-c7dba39bc314",
   "metadata": {},
   "source": [
    "In [Lab 3.2: Detection](3_2_Detection.ipynb), we discussed the process of generating detections to identify the presence of target echoes. Once a target has been detected, an important subsequent process is to extract as much information as possible about the target from its echo. \n",
    "\n",
    "<div style=\"text-align: center\"> <img src=\"img/radar_sys3.png\" justify=\"center\" width=\"700px\"></img> </div>\n",
    "\n",
    "Here are some of the major target attributes that can be estimated from an echo's characteristics:\n",
    "\n",
    "- *Range*, calculated from the propagation delay\n",
    "- *Angle*, dictated by beam pattern and steering of radar\n",
    "- *Range rate*, observed in Doppler shift of echo\n",
    "- *Radar cross section*, inferred from the strength of the echo\n",
    "\n",
    "In this lab, we will go dive deeper into how each of these estimates are created and their associated accuracies."
   ]
  },
  {
   "cell_type": "markdown",
   "id": "8e61774b-5322-4551-89b5-9e1c4a10ab58",
   "metadata": {},
   "source": [
    "## Accuracy and Signal-to-Noise Ratio"
   ]
  },
  {
   "cell_type": "markdown",
   "id": "1e97a80c-66f5-4f77-a324-fe43459ff614",
   "metadata": {},
   "source": [
    "Each of the observable attributes of target can be estimated with a certain level of accuracy<sup>[1](#foot_acc)</sup>. It can be shown<sup>[[1]](#ref_skolnik)</sup> that the accuracy, $\\alpha$, of each estimate is approximately:\n",
    "\n",
    "$$\n",
    "\\alpha \\approx \\frac{\\delta}{\\sqrt{\\mathrm{SNR}}}\n",
    "$$\n",
    "\n",
    "where $\\delta$ is the resolution in that dimension and $\\mathrm{SNR}$ is the signal-to-noise ratio of the detection. This result is important as it tells us that the estimate can be expected to be within a distance of $\\alpha$ from the true value. To derive accuracies for radar measurements, we will go through the form of each estimate and corresponding resolution of each observable attribute, e.g., range, angle, range-rate."
   ]
  },
  {
   "cell_type": "markdown",
   "id": "3ce4669b-6a18-468d-aa6a-93a283082a2e",
   "metadata": {},
   "source": [
    "## Range Estimation"
   ]
  },
  {
   "cell_type": "markdown",
   "id": "5e4505c2-d565-4e95-b169-2ab37f7c2808",
   "metadata": {},
   "source": [
    "<div style=\"text-align: center\"> <img src=\"img/range_obs.png\" justify=\"center\" width=\"900px\"></img> </div>"
   ]
  },
  {
   "cell_type": "markdown",
   "id": "7b18e554-5bfc-4c5b-850b-085b02231701",
   "metadata": {},
   "source": [
    "From [Lab 1.2: Introduction to Radar](1_2_Introduction_to_Radar.ipynb), we know that the range of the target, $r$, is related to the propagation delay, $\\tau$, (i.e., duration between transmission of pulse and reception of echo) by:\n",
    "\n",
    "$$\n",
    "\\tau = \\frac{2r}{c}\n",
    "$$\n",
    "\n",
    "where $c$ is the speed of light. Rearranging, we see that we can derive range from the propagation delay as\n",
    "\n",
    "$$\n",
    "r = \\frac{c\\tau}{2}\n",
    "$$\n",
    "\n",
    "This means that if we can estimate the delay of the echo relative to transmission, we can translate that to a range estimate. This is luckily straightforward as a byproduct of detection is the time of detection (as we saw in [Lab 3.2: Detection](3_2_Detection.ipynb)). For instance, if we get a detection at time $t$ for a transmission at time $t_0$, then the propagation delay is $\\tau = t - t_0$. Then, the range estimate, $\\hat{r}$, for the detection is\n",
    "\n",
    "$$\n",
    "\\hat{r} = \\frac{c\\cdot (t - t_0)}{2}\n",
    "$$\n",
    "\n",
    "Note that if the target is expected to move appreciably while the pulse propagates, this has to be taken into account in the range estimate."
   ]
  },
  {
   "cell_type": "markdown",
   "id": "744451fb-3a12-4314-8c2c-7d4ac9f3d566",
   "metadata": {
    "tags": []
   },
   "source": [
    "From [Lab 3.1: Radar Transmissions and Receptions](3_1_Radar_Transmissions_and_Receptions.ipynb), we saw that the range resolution, $\\delta r$ , of a radar is related to the bandwidth of the transmitted wave, $B$ , by:\n",
    "\n",
    "$$\n",
    "\\delta r = \\frac{c}{2B}\n",
    "$$\n",
    "\n",
    "So, the accuracy of a range estimate from a detection, $\\alpha_r$ , is\n",
    "\n",
    "$$\n",
    "\\alpha_r = \\frac{c}{2B\\sqrt{\\mathrm{SNR}}}\n",
    "$$\n"
   ]
  },
  {
   "cell_type": "markdown",
   "id": "9616845c-4ef0-4e63-ab10-d362432b9c77",
   "metadata": {},
   "source": [
    "***"
   ]
  },
  {
   "cell_type": "markdown",
   "id": "6e351cbf-73c8-4f01-bacf-beeeb8f260dc",
   "metadata": {},
   "source": [
    "### Question 1"
   ]
  },
  {
   "cell_type": "markdown",
   "id": "3744006e-fa4e-4660-a324-515dddc1a768",
   "metadata": {},
   "source": [
    "**(a)** If a transmission is sent at $t_0 = 10~\\mathrm{s}$, a detection is obtained at time $t = 10.00333~\\mathrm{s}$. What is the range of the detected target?"
   ]
  },
  {
   "cell_type": "code",
   "execution_count": 2,
   "id": "37c492a2-9d52-44c6-81a3-66234f333b5e",
   "metadata": {
    "jupyter": {
     "source_hidden": true
    },
    "tags": []
   },
   "outputs": [
    {
     "data": {
      "application/vnd.jupyter.widget-view+json": {
       "model_id": "0b8c827c32b64445b01bac8a5848ab0f",
       "version_major": 2,
       "version_minor": 0
      },
      "text/plain": [
       "VBox(children=(HBox(children=(HTML(value=\"<p><font color='black'>Enter range (in m):</p>\"), FloatText(value=0.…"
      ]
     },
     "metadata": {},
     "output_type": "display_data"
    }
   ],
   "source": [
    "qz.quiz_4_1_1a()"
   ]
  },
  {
   "cell_type": "code",
   "execution_count": 3,
   "id": "bbd7137a-87d5-486a-8ee7-cd718d850cb3",
   "metadata": {},
   "outputs": [],
   "source": [
    "# Scratch space"
   ]
  },
  {
   "cell_type": "markdown",
   "id": "3829684a-40e5-42ed-bf3e-6c7474348dc9",
   "metadata": {},
   "source": [
    "**(b)** What is the range resolution, $\\delta r$, for a radar using a transmission with bandwidth $B = 30~\\mathrm{MHz}$?"
   ]
  },
  {
   "cell_type": "code",
   "execution_count": 4,
   "id": "290d15a6-5aa0-48a4-a09c-a4c472f2c3dd",
   "metadata": {
    "jupyter": {
     "source_hidden": true
    },
    "tags": []
   },
   "outputs": [
    {
     "data": {
      "application/vnd.jupyter.widget-view+json": {
       "model_id": "87a8ca41589442bcbd5aca5133045a8e",
       "version_major": 2,
       "version_minor": 0
      },
      "text/plain": [
       "VBox(children=(HBox(children=(HTML(value=\"<p><font color='black'>Enter range resolution (in m):</p>\"), FloatTe…"
      ]
     },
     "metadata": {},
     "output_type": "display_data"
    }
   ],
   "source": [
    "qz.quiz_4_1_1b()"
   ]
  },
  {
   "cell_type": "code",
   "execution_count": 5,
   "id": "5fc421b7-9d17-4b32-824b-8ffa9e474f96",
   "metadata": {
    "tags": []
   },
   "outputs": [],
   "source": [
    "# Scratch space"
   ]
  },
  {
   "cell_type": "markdown",
   "id": "e34a5198-eb7f-49d8-bb23-b26d2ea02397",
   "metadata": {},
   "source": [
    "**(c)** If the signal-to-noise ratio of the detection was $11~\\mathrm{dB}$, what was the accuracy of the range estimate, $\\alpha_r$?"
   ]
  },
  {
   "cell_type": "code",
   "execution_count": 6,
   "id": "e86267db-7c94-4256-ae17-32cf97ecd106",
   "metadata": {
    "jupyter": {
     "source_hidden": true
    },
    "tags": []
   },
   "outputs": [
    {
     "data": {
      "application/vnd.jupyter.widget-view+json": {
       "model_id": "59f8ddc132d64adebb6c931303b67678",
       "version_major": 2,
       "version_minor": 0
      },
      "text/plain": [
       "VBox(children=(HBox(children=(HTML(value=\"<p><font color='black'>Enter range accuracy (in m):</p>\"), FloatText…"
      ]
     },
     "metadata": {},
     "output_type": "display_data"
    }
   ],
   "source": [
    "qz.quiz_4_1_1c()"
   ]
  },
  {
   "cell_type": "code",
   "execution_count": null,
   "id": "dd5b1d8f-28fe-48ee-9d9f-10d6662af89c",
   "metadata": {
    "tags": []
   },
   "outputs": [],
   "source": [
    "# Scratch space"
   ]
  },
  {
   "cell_type": "markdown",
   "id": "08397573-172b-40a8-96c7-02e6166333fd",
   "metadata": {},
   "source": [
    "***"
   ]
  },
  {
   "cell_type": "markdown",
   "id": "b8a8e24f-fa69-478b-a7cb-b78fbe11087a",
   "metadata": {},
   "source": [
    "## Angle Estimation"
   ]
  },
  {
   "cell_type": "markdown",
   "id": "33a21a00-3f92-4686-b885-78eedd4f3317",
   "metadata": {},
   "source": [
    "In [Lab 1.2: Introduction to Radar](1_2_Introduction_to_Radar.ipynb) and [Lab 3.1: Radar Transmissions and Receptions](3_1_Radar_Transmissions_and_Receptions.ipynb), we learned how radars perform directed ranging by focusing and steering transmitted energy and then focusing and steering incident energy on receive. \n",
    "\n",
    "<div style=\"text-align: center\"> <img src=\"img/focus_steer.png\" justify=\"center\" width=\"500px\"></img> </div>\n",
    "\n",
    "By using directed ranging, we can know (with some certainty) from what region of angle a detection is originating, i.e., mainlobe of radar beam pattern. This is what we will refer to as **mainlobe angle estimation**: narrowing down the possible target angle to within the current beam of the radar."
   ]
  },
  {
   "cell_type": "markdown",
   "id": "b0c23928-9e5c-4702-8283-0bff09defad9",
   "metadata": {},
   "source": [
    "<div style=\"text-align: center\"> <img src=\"img/angle_obs.png\" justify=\"center\" width=\"900px\"></img> </div>"
   ]
  },
  {
   "cell_type": "markdown",
   "id": "040f8584-c556-4c97-abe0-922f7ee7573a",
   "metadata": {},
   "source": [
    "With this type of operation, the angle estimate created from a single pulse, $\\hat{\\phi}$ , (where $\\phi$ is the true angle of the target) is the transmit-receive steering direction:\n",
    "\n",
    "$$\n",
    "\\hat{\\phi} = \\theta\n",
    "$$\n",
    "\n",
    "and the angle accuracy, $\\alpha_\\phi$ , is approximately the beamwidth, $\\Delta\\theta$:\n",
    "\n",
    "$$\n",
    "\\alpha_\\phi \\approx \\Delta\\theta\n",
    "$$\n",
    "\n",
    "The reason that the signal-to-noise ratio (SNR) does not appear in the angle accuracy expression is due to the fact that there is only *one* measurement; we know the detection came from inside the beam, but we cannot say where within the beam.\n",
    "\n",
    "A common way to improve upon this is to use multiple pulses to refine the estimate of the angle using the beamshape---we will refer to this as **beamcenter angle estimation**. The main premise of this angle estimation method is that *<font color=\"BlueViolet\">the received signal from a target will be its strongest when the target is in the center of the beam</font>*. We can see this, for example, from the circular aperture beam pattern example below."
   ]
  },
  {
   "cell_type": "code",
   "execution_count": 37,
   "id": "d2d7731d-a513-44ab-8647-8b12473ee7b3",
   "metadata": {
    "jupyter": {
     "source_hidden": true
    },
    "tags": []
   },
   "outputs": [
    {
     "data": {
      "application/vnd.jupyter.widget-view+json": {
       "model_id": "c79f49a62a3744b2afff0e58d3ba8e2a",
       "version_major": 2,
       "version_minor": 0
      },
      "text/plain": [
       "Canvas(toolbar=Toolbar(toolitems=[('Home', 'Reset original view', 'home', 'home'), ('Back', 'Back to previous …"
      ]
     },
     "metadata": {},
     "output_type": "display_data"
    },
    {
     "data": {
      "application/vnd.jupyter.widget-view+json": {
       "model_id": "deb5502a7e2940e19b0671fd2e84c9e5",
       "version_major": 2,
       "version_minor": 0
      },
      "text/plain": [
       "interactive(children=(FloatSlider(value=1.0, description='Dish Radius (m)', max=30.0, min=0.1, style=SliderSty…"
      ]
     },
     "metadata": {},
     "output_type": "display_data"
    }
   ],
   "source": [
    "ex.ex_4_1_1()"
   ]
  },
  {
   "cell_type": "markdown",
   "id": "54abd042-b510-4776-ace8-366fa57e4bba",
   "metadata": {},
   "source": [
    "To see how beamcenter angle estimation works, let us look at the interactive example below. In the example, there is a single target at range $r = 5~\\mathrm{km}$ and azimuth $\\phi = 45^\\circ$. Using the *<font color=\"DarkBlue\">Pulse Azimuth</font>* slider, investigate the pulses near the target. Watch as the peak from the target increases as you get closer to $\\phi = 45^\\circ$ azimuth."
   ]
  },
  {
   "cell_type": "code",
   "execution_count": null,
   "id": "b8e3a7d7-40db-4b7d-95dc-ed60d026577b",
   "metadata": {
    "jupyter": {
     "source_hidden": true
    },
    "tags": []
   },
   "outputs": [],
   "source": [
    "ex.ex_4_1_2()"
   ]
  },
  {
   "cell_type": "markdown",
   "id": "67374da9-6cc2-4390-bdf6-46f791034857",
   "metadata": {},
   "source": [
    "Because we can now estimate where the target is in the center of the beam, we can greatly improve the accuracy of the angle estimate. The estimate itself, $\\hat{\\phi}$ , is still of the form:\n",
    "\n",
    "$$\n",
    "\\hat{\\phi} = \\theta\n",
    "$$\n",
    "\n",
    "where $\\theta$ is the steering direction that gave the highest peak for the target. The angle accuracy, however, is now approximately<sup>[2](#foot_beamcenter)</sup>\n",
    "\n",
    "$$\n",
    "\\alpha_{\\phi} \\approx \\frac{\\Delta\\theta}{\\sqrt{\\mathrm{SNR}}}\n",
    "$$\n",
    "\n",
    "This means that if our detection has an SNR of $20~\\mathrm{dB} = 100$, the accuracy is *ten times* better than simply narrowing down the target to within the beamwidth, $\\Delta \\theta$."
   ]
  },
  {
   "cell_type": "markdown",
   "id": "1580a1fe-c452-4796-94d1-048eda4701e7",
   "metadata": {},
   "source": [
    "***"
   ]
  },
  {
   "cell_type": "markdown",
   "id": "d18e9356-91c7-4801-a600-52390158d4ab",
   "metadata": {},
   "source": [
    "### Question 2"
   ]
  },
  {
   "cell_type": "markdown",
   "id": "b6ad863c-e6fc-4c1d-aead-c72e125be3ad",
   "metadata": {},
   "source": [
    "**(a)** What is the angle estimation accuracy, $\\alpha_\\phi$ , using *mainlobe angle estimation* with a dish radar with diameter $D = 4~\\mathrm{m}$ and transmit frequency $f = 3.5~\\mathrm{GHz}$?"
   ]
  },
  {
   "cell_type": "code",
   "execution_count": 38,
   "id": "f000887b-2c0b-4a2d-a376-9d35269ba9dc",
   "metadata": {
    "jupyter": {
     "source_hidden": true
    },
    "tags": []
   },
   "outputs": [
    {
     "data": {
      "application/vnd.jupyter.widget-view+json": {
       "model_id": "c07c3034288642c587339d3007a54c2a",
       "version_major": 2,
       "version_minor": 0
      },
      "text/plain": [
       "VBox(children=(HBox(children=(HTML(value=\"<p><font color='black'>Enter angle accuracy (in deg):</p>\"), FloatTe…"
      ]
     },
     "metadata": {},
     "output_type": "display_data"
    }
   ],
   "source": [
    "qz.quiz_4_1_2a()"
   ]
  },
  {
   "cell_type": "code",
   "execution_count": null,
   "id": "d7c6b50f-7d9e-43a8-a543-92ba1599cb25",
   "metadata": {
    "tags": []
   },
   "outputs": [],
   "source": [
    "# Scratch space"
   ]
  },
  {
   "cell_type": "markdown",
   "id": "697dc0a0-87ca-4b25-87a9-cb9b35f88e37",
   "metadata": {},
   "source": [
    "**(b)** What is the angle estimation accuracy, $\\alpha_\\phi$ , using *beamcenter angle estimation* with the same radar and a peak detection SNR of $\\mathrm{SNR} = 14~\\mathrm{dB}$?"
   ]
  },
  {
   "cell_type": "code",
   "execution_count": 39,
   "id": "e7ba9290-ca0c-4f99-b981-f6ef912dc78e",
   "metadata": {
    "jupyter": {
     "source_hidden": true
    },
    "tags": []
   },
   "outputs": [
    {
     "data": {
      "application/vnd.jupyter.widget-view+json": {
       "model_id": "983ade3481144781ab05922802320575",
       "version_major": 2,
       "version_minor": 0
      },
      "text/plain": [
       "VBox(children=(HBox(children=(HTML(value=\"<p><font color='black'>Enter angle accuracy (in deg):</p>\"), FloatTe…"
      ]
     },
     "metadata": {},
     "output_type": "display_data"
    }
   ],
   "source": [
    "qz.quiz_4_1_2b()"
   ]
  },
  {
   "cell_type": "code",
   "execution_count": null,
   "id": "eac3f519-616a-4232-8fc2-23ac84529fff",
   "metadata": {
    "tags": []
   },
   "outputs": [],
   "source": [
    "# Scratch space"
   ]
  },
  {
   "cell_type": "markdown",
   "id": "5e201680-f94a-4bcf-afd6-d0352f5cc6ae",
   "metadata": {},
   "source": [
    "***"
   ]
  },
  {
   "cell_type": "markdown",
   "id": "74eb8e78-585b-48a0-8fdc-dd5c32cac471",
   "metadata": {},
   "source": [
    "Note that there are also techniques that can be employed that can obtain similar accuracy to beamcenter angle estimation but using only a *single* pulse---hence they are called **monopulse** angle estimation methods. Here are two common techniques:\n",
    "\n",
    "- **Amplitude comparison monopulse**: Add another receive channel with a beam pattern designed to estimate of the target's location inside the beam (for each pulse)\n",
    "- **Phase/delay comparison monopulse**: Analyze the different received delays/phases for each element in an array to infer incoming direction of wavefront (for each pulse)"
   ]
  },
  {
   "cell_type": "markdown",
   "id": "f8b0bd17-1c21-4aa6-96cc-785cd4f56901",
   "metadata": {},
   "source": [
    "### Cross-Range Resolution"
   ]
  },
  {
   "cell_type": "markdown",
   "id": "22484f43-37c2-4b11-a914-02d79142fc4e",
   "metadata": {},
   "source": [
    "Improving angle accuracy using beamcenter or monopulse angle estimation becomes critical for applications that require observing targets at long ranges. To see why this is true, we can consider the resolution in **cross-range**, $r_\\perp$ , the dimension perpendicular to range, $r$ (see figure below). "
   ]
  },
  {
   "cell_type": "markdown",
   "id": "c5165bff-0e08-4d4d-bad7-5d227cb5755c",
   "metadata": {},
   "source": [
    "<div style=\"text-align: center\"> <img src=\"img/cross_range.png\" justify=\"center\" width=\"400px\"></img> </div>"
   ]
  },
  {
   "cell_type": "markdown",
   "id": "bdeeb4c4-f93e-4b69-9706-2f63c8b122f4",
   "metadata": {},
   "source": [
    "It can be shown that the resolution in cross-range, $\\delta r_{\\perp}$ , is approximately\n",
    "\n",
    "$$\n",
    "\\delta r_\\perp \\approx r \\cdot \\frac{\\Delta \\theta}{57.3^\\circ}\n",
    "$$\n",
    "\n",
    "Note that cross range resolution grows with range. Thus, for observing objects at short ranges, this will not be an issue; however, for long range radar systems, this means observing at a target at range $r = 150~\\mathrm{km}$ with a beamwidth of $\\Delta\\theta = 1^\\circ$, the resolution in cross-range is\n",
    "\n",
    "$$\n",
    "\\begin{align*}\n",
    "\\delta r_\\perp &\\approx r \\cdot \\frac{\\Delta \\theta}{57.3^\\circ}\\\\\n",
    "&= 150 \\times 10^3 \\cdot \\frac{1^\\circ}{57.3^\\circ}\\\\\n",
    "&= 2.62~\\mathrm{km}\n",
    "\\end{align*}\n",
    "$$\n",
    "\n",
    "Therefore, the resolution in the cross-range dimension is $2.62~\\mathrm{km}$ (about $1.6~\\mathrm{mi}$), meaning targets have to be at least $2.62~\\mathrm{km}$ apart for the radar to be able to tell there are two targets. We can verify this trend using interactive examples."
   ]
  },
  {
   "cell_type": "markdown",
   "id": "16b62e5b-c4b5-4015-98e5-97aa8b910a58",
   "metadata": {},
   "source": [
    "In this example, we will examine an *angle cut* across the radar display, showing all values at a specified range (see figure below).\n",
    "\n",
    "<div style=\"text-align: center\"> <img src=\"img/angle_cut.png\" justify=\"center\" width=\"300px\"></img> </div>\n",
    "\n",
    "In the interactive plot below, we can see how the peak response of a pulse changes as the radar scans through angle. In truth, there are two targets (positioned at the two **black** dashed lines). As we increase the *<font color=\"DarkBlue\">Cross Range</font>* slider, the two targets will separate in cross range. As the targets separate, we can see a clear distinction between the mainlobe for the first and second targets. However, as we increase *<font color=\"DarkBlue\">Range</font>* or *<font color=\"DarkBlue\">Beamwidth</font>*, that separation will disappear. Try verifying the numbers from the example above, i.e., range of $r = 150~\\mathrm{km}$, beamwidth of $\\Delta\\theta = 1^\\circ$, and vary the cross range of the targets to see when it is apparent that there are two."
   ]
  },
  {
   "cell_type": "code",
   "execution_count": 40,
   "id": "d159ebe8-dd07-455b-b4d1-2cbdc62e23db",
   "metadata": {
    "jupyter": {
     "source_hidden": true
    },
    "tags": []
   },
   "outputs": [
    {
     "data": {
      "application/vnd.jupyter.widget-view+json": {
       "model_id": "82c2e7282ec34641ac8132ec15f65bef",
       "version_major": 2,
       "version_minor": 0
      },
      "text/plain": [
       "Canvas(toolbar=Toolbar(toolitems=[('Home', 'Reset original view', 'home', 'home'), ('Back', 'Back to previous …"
      ]
     },
     "metadata": {},
     "output_type": "display_data"
    },
    {
     "data": {
      "application/vnd.jupyter.widget-view+json": {
       "model_id": "0521e2efd0a6472ea7856b29ef4d4567",
       "version_major": 2,
       "version_minor": 0
      },
      "text/plain": [
       "GridBox(children=(VBox(children=(HTML(value=\"<b><font color='black'>Controls</b>\"), FloatSlider(value=0.5, des…"
      ]
     },
     "metadata": {},
     "output_type": "display_data"
    }
   ],
   "source": [
    "ex.ex_4_1_3()"
   ]
  },
  {
   "cell_type": "markdown",
   "id": "82f938cf-14b8-4996-9a98-e4f450f2ff9a",
   "metadata": {},
   "source": [
    "***"
   ]
  },
  {
   "cell_type": "markdown",
   "id": "11cea638-3039-4348-9207-37f1d2f77770",
   "metadata": {},
   "source": [
    "### Question 3"
   ]
  },
  {
   "cell_type": "markdown",
   "id": "197b81e1-6d34-4b0b-adf3-06d83218bab5",
   "metadata": {},
   "source": [
    "What is the cross-range resolution, $\\delta r_\\perp$ , at range $r = 50~\\mathrm{km}$ in the vertical dimension for a rectangular radar of height $b = 2.1~\\mathrm{m}$ and transmit frequency $f = 3.5~\\mathrm{GHz}$?"
   ]
  },
  {
   "cell_type": "code",
   "execution_count": 41,
   "id": "1f9815f8-ea5a-4af4-b2a1-65ff15a67b45",
   "metadata": {
    "jupyter": {
     "source_hidden": true
    },
    "tags": []
   },
   "outputs": [
    {
     "data": {
      "application/vnd.jupyter.widget-view+json": {
       "model_id": "3f003eff2c01495b99bce357b63b79e6",
       "version_major": 2,
       "version_minor": 0
      },
      "text/plain": [
       "VBox(children=(HBox(children=(HTML(value=\"<p><font color='black'>Enter cross-range resoluation (in m):</p>\"), …"
      ]
     },
     "metadata": {},
     "output_type": "display_data"
    }
   ],
   "source": [
    "qz.quiz_4_1_3()"
   ]
  },
  {
   "cell_type": "code",
   "execution_count": null,
   "id": "fedf51f1-35ea-4efd-a492-67f784e249f6",
   "metadata": {
    "tags": []
   },
   "outputs": [],
   "source": [
    "# Scratch space"
   ]
  },
  {
   "cell_type": "markdown",
   "id": "a77dd214-449c-49d7-8521-1b51577c215f",
   "metadata": {},
   "source": [
    "***"
   ]
  },
  {
   "cell_type": "markdown",
   "id": "94d214e1-0616-4c3a-9bf7-4d46dd45af96",
   "metadata": {},
   "source": [
    "## Range Rate Measurements"
   ]
  },
  {
   "cell_type": "markdown",
   "id": "44dc2452-f94c-4226-85d1-f1dc69075b2e",
   "metadata": {},
   "source": [
    "<div style=\"text-align: center\"> <img src=\"img/range_rate_obs.png\" justify=\"center\" width=\"900px\"></img> </div>"
   ]
  },
  {
   "cell_type": "markdown",
   "id": "ab89d87d-fb6b-4218-b221-dd6384dc28ee",
   "metadata": {},
   "source": [
    "In most radar applications, observed targets will be moving. When a target is in motion relative to the radar, it slightly changes the transmitted signal causing the echo to differ slightly from what was emitted. This change is called the **Doppler effect**. It is caused by the wave dilating or contracting as it hits the moving target."
   ]
  },
  {
   "cell_type": "markdown",
   "id": "f5bb72fa-153e-4a43-9b29-b3ed0671f674",
   "metadata": {},
   "source": [
    "In the following example, we can see the difference between a transmitted sine wave versus its received echo for different target motions. It is easiest to picture in applications with slower propagation speeds; from [Lab 1.2: Introduction to Radar](1_2_Introduction_to_Radar.ipynb), we can recall the following interactive example that shows the Doppler effect when the wave propagation velocity is $v_p = 1000~\\mathrm{m/s}$."
   ]
  },
  {
   "cell_type": "code",
   "execution_count": 42,
   "id": "632daa06-f466-4734-a61e-e8e78cc7dce5",
   "metadata": {
    "jupyter": {
     "source_hidden": true
    },
    "tags": []
   },
   "outputs": [
    {
     "data": {
      "application/vnd.jupyter.widget-view+json": {
       "model_id": "29d92d3ead4d43b5856a01113197ba67",
       "version_major": 2,
       "version_minor": 0
      },
      "text/plain": [
       "Canvas(toolbar=Toolbar(toolitems=[('Home', 'Reset original view', 'home', 'home'), ('Back', 'Back to previous …"
      ]
     },
     "metadata": {},
     "output_type": "display_data"
    },
    {
     "data": {
      "application/vnd.jupyter.widget-view+json": {
       "model_id": "82d5bc62c934456ca9998d0193c0abdf",
       "version_major": 2,
       "version_minor": 0
      },
      "text/plain": [
       "GridBox(children=(VBox(children=(HTML(value=\"<b><font color='black'>Transmission</b>\"), FloatSlider(value=50.0…"
      ]
     },
     "metadata": {},
     "output_type": "display_data"
    }
   ],
   "source": [
    "ex.ex_4_1_4()"
   ]
  },
  {
   "cell_type": "markdown",
   "id": "c68fa003-144a-47a3-be99-0d47e6737841",
   "metadata": {},
   "source": [
    "In short, if the target moves toward the radar (i.e., negative range rate), the transmitted wave is compressed, increasing the frequency, while the opposite is true if the target moves away from the radar (i.e., positive range rate). In fact, with a little math, it can be shown that if a sine wave is transmitted with frequency $f$ and hits a target moving with range rate $\\dot{r}$, then the frequency of the received sine wave, $f_r$ , will be<sup>[3](#foot_doppler)</sup>\n",
    "\n",
    "$$\n",
    "f_r = f + f_D\n",
    "$$\n",
    "\n",
    "where $f_D$ is the **Doppler shift** for a radar system defined as\n",
    "\n",
    "$$\n",
    "f_D = -\\frac{2f\\dot{r}}{c}\n",
    "$$\n",
    "\n",
    "We can rearrange the Doppler shift to get range rate as:\n",
    "\n",
    "$$\n",
    "\\dot{r} = -\\frac{c f_D}{2f}\n",
    "$$\n",
    "\n",
    "This equation tells us that it we can measure the difference between the transmitted frequency versus the received frequency (i.e., the Doppler shift), we can translate that into an estimate of range rate, $\\dot{r}$."
   ]
  },
  {
   "cell_type": "markdown",
   "id": "d3dad54f-d554-46e7-9d0f-53a2b8570dbd",
   "metadata": {},
   "source": [
    "***"
   ]
  },
  {
   "cell_type": "markdown",
   "id": "44843631-7d49-4830-9192-a8969857717b",
   "metadata": {},
   "source": [
    "### Question 4"
   ]
  },
  {
   "cell_type": "markdown",
   "id": "bed85875-1575-4dfd-a933-fae8d8110dbb",
   "metadata": {},
   "source": [
    "**(a)** What is the Doppler shift, $f_D$ , for a target with a range rate of $\\dot{r} = 500~\\mathrm{m/s}$ when observed by a radar with transmit frequency $f = 1.5~\\mathrm{GHz}$?"
   ]
  },
  {
   "cell_type": "code",
   "execution_count": 43,
   "id": "f1a392c9-1ba1-446a-bdb2-f0e78eaedd9b",
   "metadata": {
    "jupyter": {
     "source_hidden": true
    },
    "tags": []
   },
   "outputs": [
    {
     "data": {
      "application/vnd.jupyter.widget-view+json": {
       "model_id": "eb421e85c550430e82dceab4a3461a13",
       "version_major": 2,
       "version_minor": 0
      },
      "text/plain": [
       "VBox(children=(HBox(children=(HTML(value=\"<p><font color='black'>Enter Doppler shift (in Hz):</p>\"), FloatText…"
      ]
     },
     "metadata": {},
     "output_type": "display_data"
    }
   ],
   "source": [
    "qz.quiz_4_1_4a()"
   ]
  },
  {
   "cell_type": "code",
   "execution_count": null,
   "id": "974dec35-d7a0-44c3-bde1-a42f64da9b38",
   "metadata": {
    "tags": []
   },
   "outputs": [],
   "source": [
    "# Scratch space"
   ]
  },
  {
   "cell_type": "markdown",
   "id": "ef54fd5d-4116-48e1-be69-11e4c78b6737",
   "metadata": {},
   "source": [
    "**(b)** If the incoming echo has a frequency that is $10~\\mathrm{kHz}$ higher than the transmitted frequency of $f = 3~\\mathrm{GHz}$ , what is the range rate of the target?"
   ]
  },
  {
   "cell_type": "code",
   "execution_count": 44,
   "id": "850ff9fb-a42a-4968-849c-86bf5307b23f",
   "metadata": {
    "jupyter": {
     "source_hidden": true
    },
    "tags": []
   },
   "outputs": [
    {
     "data": {
      "application/vnd.jupyter.widget-view+json": {
       "model_id": "5ddb2a645cec4ae4ab4eb7c8a8921066",
       "version_major": 2,
       "version_minor": 0
      },
      "text/plain": [
       "VBox(children=(HBox(children=(HTML(value=\"<p><font color='black'>Enter range rate (in m/s):</p>\"), FloatText(v…"
      ]
     },
     "metadata": {},
     "output_type": "display_data"
    }
   ],
   "source": [
    "qz.quiz_4_1_4b()"
   ]
  },
  {
   "cell_type": "code",
   "execution_count": null,
   "id": "8b4f899f-f5e1-4979-84d1-5d2c06ca58bc",
   "metadata": {
    "tags": []
   },
   "outputs": [],
   "source": [
    "# Scratch space"
   ]
  },
  {
   "cell_type": "markdown",
   "id": "caa69b89-73a7-4f5d-948d-0c9d38a83ed5",
   "metadata": {},
   "source": [
    "***"
   ]
  },
  {
   "cell_type": "markdown",
   "id": "c8ce1b9d-3804-460e-a255-e16abb5a9939",
   "metadata": {},
   "source": [
    "There are multiple methods for measuring a Doppler shift; here are some traditional techniques:\n",
    "\n",
    "- **Continuous wave radar**: Transmit single frequency on a transmit aperture; listen for shifted frequencies on separate receive aperture\n",
    "- **Pulse Doppler**: Transmit multiple pulses, store all received signals, and look for frequency-shifted echoes across received pulses"
   ]
  },
  {
   "cell_type": "markdown",
   "id": "ec2f0fd7-6f63-404d-bed0-0a10e6a268c0",
   "metadata": {},
   "source": [
    "Continuous wave (CW) radar is very similar to the example above where a single sine wave was transmitted and then compared to the received echo. The reason it is called \"continuous\" is because there is traditionally one transmit aperture that is emitting a single frequency at all times. Alongside is a receive aperture that periodically listens to find sine waves of similar frequencies cause by echoes from moving targets. The duration of one listening period will be referred to as **observation time**, $\\Delta t$. "
   ]
  },
  {
   "cell_type": "markdown",
   "id": "8a5ddfd1-1486-4127-8dfd-dbae2e80ffdb",
   "metadata": {},
   "source": [
    "<div style=\"text-align: center\"> <img src=\"img/cw.png\" justify=\"center\" width=\"750px\"></img> </div>"
   ]
  },
  {
   "cell_type": "markdown",
   "id": "eb62d03d-31f9-4c19-9137-bbca29e2d209",
   "metadata": {},
   "source": [
    "A unique aspect of CW radar is that since it does not use the traditional pulses nature of radar to be able to estimate delay and then range. Due to this, CW radars are excellent at measuring target range rates but typically rely on other systems to determine range."
   ]
  },
  {
   "cell_type": "markdown",
   "id": "cb13befc-1da1-4910-980c-57268c22de0a",
   "metadata": {},
   "source": [
    "The resolution of a signal in frequency can be shown to be inversely proportional to the integration time:\n",
    "\n",
    "$$\\delta f = \\frac{1}{\\Delta t}$$"
   ]
  },
  {
   "cell_type": "markdown",
   "id": "44586a67-8a9e-424e-b01c-c08e569cd501",
   "metadata": {},
   "source": [
    "We can see this in the following interactive example, which investigates the traditional output of a CW radar. In the plot, we will see the response of a CW radar (without noise) to a single moving target with a RCS of $0~\\mathrm{dBsm}$. The $x$ axis is relative frequency, meaning relative to the transmit frequency. The true Doppler shift due to the target is marked with a dashed line; note that this is coincident with the peak of the curve. Try varying the *<font color=\"DarkBlue\">Transmit Frequency</font>*, *<font color=\"DarkBlue\">Range Rate</font>*, and *<font color=\"DarkBlue\">Observation Time</font>* sliders to see how the response changes."
   ]
  },
  {
   "cell_type": "code",
   "execution_count": 45,
   "id": "a5b036b6-0f94-44b9-8206-c357fb90ad1e",
   "metadata": {
    "jupyter": {
     "source_hidden": true
    },
    "tags": []
   },
   "outputs": [
    {
     "data": {
      "application/vnd.jupyter.widget-view+json": {
       "model_id": "661f8c5473014b3294ce10e6d27918ad",
       "version_major": 2,
       "version_minor": 0
      },
      "text/plain": [
       "Canvas(toolbar=Toolbar(toolitems=[('Home', 'Reset original view', 'home', 'home'), ('Back', 'Back to previous …"
      ]
     },
     "metadata": {},
     "output_type": "display_data"
    },
    {
     "data": {
      "application/vnd.jupyter.widget-view+json": {
       "model_id": "b027026b875d42eeabbf383df47449ab",
       "version_major": 2,
       "version_minor": 0
      },
      "text/plain": [
       "GridBox(children=(VBox(children=(HTML(value=\"<b><font color='black'>Controls</b>\"), FloatSlider(value=1000.0, …"
      ]
     },
     "metadata": {},
     "output_type": "display_data"
    }
   ],
   "source": [
    "ex.ex_4_1_5()"
   ]
  },
  {
   "cell_type": "markdown",
   "id": "8d7b3291-d580-4716-b9b8-8a69c5d9c416",
   "metadata": {},
   "source": [
    "We can see how the frequency shift relates to the *<font color=\"DarkBlue\">Transmit Frequency</font>* and *<font color=\"DarkBlue\">Range Rate</font>* and how the *<font color=\"DarkBlue\">Integration Time</font>* changes the width of the lobe around the true frequency shift."
   ]
  },
  {
   "cell_type": "markdown",
   "id": "c06ea878-56cc-4821-8e13-d2730866fde0",
   "metadata": {},
   "source": [
    "***"
   ]
  },
  {
   "cell_type": "markdown",
   "id": "4fc22c5e-6d35-4f27-ab8c-55fa1842ade9",
   "metadata": {},
   "source": [
    "### Question 5"
   ]
  },
  {
   "cell_type": "markdown",
   "id": "d079fc82-6f1d-452d-ac52-71cafe21d907",
   "metadata": {},
   "source": [
    "This plot shows the response of a CW radar with transmit frequency $f = 2~\\mathrm{GHz}$ and integration time $\\Delta t = 15~\\mathrm{ms}$ observing a single moving target. What is the range rate of the target?"
   ]
  },
  {
   "cell_type": "code",
   "execution_count": 46,
   "id": "b96acf49-bed2-4f63-bdac-79106f53f7ab",
   "metadata": {
    "jupyter": {
     "source_hidden": true
    },
    "tags": []
   },
   "outputs": [
    {
     "data": {
      "application/vnd.jupyter.widget-view+json": {
       "model_id": "2ad0f1283285449ca56e0198046ac6d8",
       "version_major": 2,
       "version_minor": 0
      },
      "text/plain": [
       "Canvas(toolbar=Toolbar(toolitems=[('Home', 'Reset original view', 'home', 'home'), ('Back', 'Back to previous …"
      ]
     },
     "metadata": {},
     "output_type": "display_data"
    }
   ],
   "source": [
    "ex.ex_4_1_6()"
   ]
  },
  {
   "cell_type": "code",
   "execution_count": 47,
   "id": "f336c60e-5fc3-482c-ac18-f53cb0b83174",
   "metadata": {
    "jupyter": {
     "source_hidden": true
    },
    "tags": []
   },
   "outputs": [
    {
     "data": {
      "application/vnd.jupyter.widget-view+json": {
       "model_id": "edfbcbf237c146c2b07444321d17424b",
       "version_major": 2,
       "version_minor": 0
      },
      "text/plain": [
       "VBox(children=(HBox(children=(HTML(value=\"<p><font color='black'>Enter range rate (in m/s):</p>\"), FloatText(v…"
      ]
     },
     "metadata": {},
     "output_type": "display_data"
    }
   ],
   "source": [
    "qz.quiz_4_1_5()"
   ]
  },
  {
   "cell_type": "code",
   "execution_count": null,
   "id": "ad626b84-f84b-4f4a-85dc-920f1297b373",
   "metadata": {
    "tags": []
   },
   "outputs": [],
   "source": [
    "# Scratch space"
   ]
  },
  {
   "cell_type": "markdown",
   "id": "ea335038-ff2e-449e-ab15-b4a7f5345002",
   "metadata": {},
   "source": [
    "***"
   ]
  },
  {
   "cell_type": "markdown",
   "id": "3b5d2b44-913b-477e-bdd2-f6e0f0338928",
   "metadata": {},
   "source": [
    "Pulse Doppler radar is a little more complicated than CW but allows for simultaneous measurement of range and range rate. The main idea is to: \n",
    "\n",
    "* Transmit multiple pulses with pulse reptition frequency, $f_{rep}$ , at the same region in space\n",
    "* Collect all received echoes\n",
    "* For a set of hypothesized ranges and Doppler shifts: matched filter at hypothesized range, remove hypothesized Doppler shift, and add all pulses\n",
    "* Create image using all range and Doppler hypotheses to find target(s)\n",
    "\n",
    "If a target exists at the hypothesized range and Doppler shift, all of the pulses will be corrected properly and will add constructively to create a strong entry in the image. The process is summarized in the figure below."
   ]
  },
  {
   "cell_type": "markdown",
   "id": "0c2fcba0-7980-42e8-8dc9-0265b2370bda",
   "metadata": {},
   "source": [
    "<div style=\"text-align: center\"> <img src=\"img/pulse_dopp.png\" justify=\"center\" width=\"750px\"></img> </div>"
   ]
  },
  {
   "cell_type": "markdown",
   "id": "aaaec9fe-9daf-480c-bbea-71b4372f5351",
   "metadata": {},
   "source": [
    "The image of showing of the resulting received signals after different Doppler shift corrections is called a **range-Doppler image** and is a common output of a radar system. In the interactive example below, we use a pulse Doppler radar to generate a range-Doppler image and find the range/range rate of a target."
   ]
  },
  {
   "cell_type": "code",
   "execution_count": 26,
   "id": "e7d0f33f-9c68-4f79-90a2-9875ebd91d26",
   "metadata": {
    "jupyter": {
     "source_hidden": true
    },
    "tags": []
   },
   "outputs": [
    {
     "data": {
      "application/vnd.jupyter.widget-view+json": {
       "model_id": "e53bdef5e7e747f1ae37d80f41a36d85",
       "version_major": 2,
       "version_minor": 0
      },
      "text/plain": [
       "Canvas(toolbar=Toolbar(toolitems=[('Home', 'Reset original view', 'home', 'home'), ('Back', 'Back to previous …"
      ]
     },
     "metadata": {},
     "output_type": "display_data"
    },
    {
     "data": {
      "application/vnd.jupyter.widget-view+json": {
       "model_id": "da92cef2780445059331a619beaa9407",
       "version_major": 2,
       "version_minor": 0
      },
      "text/plain": [
       "GridBox(children=(VBox(children=(HTML(value=\"<b><font color='black'>Transmission</b>\"), FloatSlider(value=1.0,…"
      ]
     },
     "metadata": {},
     "output_type": "display_data"
    }
   ],
   "source": [
    "ex.ex_4_1_7()"
   ]
  },
  {
   "cell_type": "markdown",
   "id": "13d8a9de-6b47-45e2-b1b9-b624c1bc3a55",
   "metadata": {},
   "source": [
    "The resolution for range rate, $\\delta\\dot{r}$ , can be shown to be approximately\n",
    "\n",
    "$$\n",
    "\\delta\\dot{r} \\approx \\frac{c}{2f\\Delta t}\n",
    "$$\n",
    "\n",
    "where $\\Delta t$ is observation time. For CW radar, $\\Delta t$ is the amount of time that data is collected; for pulse Doppler, $\\Delta t$ is the total time span of all transmit pulses. For example, if we transmitted a set of pulses that span $\\Delta t = 150~\\mathrm{ms}$ at a transmit frequency of $f = 1~\\mathrm{GHz}$, the range rate resolution is approximately $\\delta\\dot{r} = 1~\\mathrm{m/s}$.\n",
    "\n",
    "Similar to the range and angle measurements dicussed above, the range rate accuracy of a radar system, $\\alpha_{\\dot{r}}$, can be approximated by:\n",
    "\n",
    "$$\n",
    "\\alpha_{\\dot{r}} = \\frac{c}{2f\\Delta t\\sqrt{\\mathrm{SNR}}}\n",
    "$$\n",
    "\n",
    "The highest measureable Doppler shift is given by the rate that the multiple pulses are transmitted. For a set of pulses with pulse repetition frequency, $f_{rep}$ , the magnitude of Doppler shifts that can be unambiguously measured is bounded by:\n",
    "\n",
    "$$\n",
    "|f_D| < \\frac{f_{rep}}{2}\n",
    "$$\n",
    "\n",
    "This can be translated to the span of range rates that can be unambiguously observed:\n",
    "\n",
    "$$\n",
    "|\\dot{r}| < \\frac{c f_{rep}}{4f}\n",
    "$$\n",
    "\n",
    "We can revisit the interactive example of a range-Doppler image and know see how the different controls can change the range and Doppler resolution and limits of the image."
   ]
  },
  {
   "cell_type": "code",
   "execution_count": 27,
   "id": "22899c04-ec63-4163-acea-0cb1d75d57c5",
   "metadata": {
    "jupyter": {
     "source_hidden": true
    },
    "tags": []
   },
   "outputs": [
    {
     "data": {
      "application/vnd.jupyter.widget-view+json": {
       "model_id": "777269e5402a4b1c8bc2528c845453ce",
       "version_major": 2,
       "version_minor": 0
      },
      "text/plain": [
       "Canvas(toolbar=Toolbar(toolitems=[('Home', 'Reset original view', 'home', 'home'), ('Back', 'Back to previous …"
      ]
     },
     "metadata": {},
     "output_type": "display_data"
    },
    {
     "data": {
      "application/vnd.jupyter.widget-view+json": {
       "model_id": "cd899645b5e942e6a240db4430d05545",
       "version_major": 2,
       "version_minor": 0
      },
      "text/plain": [
       "GridBox(children=(VBox(children=(HTML(value=\"<b><font color='black'>Transmission</b>\"), FloatSlider(value=1.0,…"
      ]
     },
     "metadata": {},
     "output_type": "display_data"
    }
   ],
   "source": [
    "ex.ex_4_1_7()"
   ]
  },
  {
   "cell_type": "markdown",
   "id": "8b40d0ed-84f8-440e-902c-0d1d40a19c70",
   "metadata": {},
   "source": [
    "***"
   ]
  },
  {
   "cell_type": "markdown",
   "id": "1c334768-687b-4e2b-afb2-e0f937562f66",
   "metadata": {},
   "source": [
    "### Question 6"
   ]
  },
  {
   "cell_type": "markdown",
   "id": "b94bffb5-cc7d-4e38-b10a-8429ef876677",
   "metadata": {},
   "source": [
    "**(a)** What is the range rate resolution, $\\delta \\dot{r}$, of a radar operating at transmit frequency $f = 5~\\mathrm{GHz}$ and using an observation time of $\\Delta t = 50~\\mathrm{ms}$?"
   ]
  },
  {
   "cell_type": "code",
   "execution_count": 28,
   "id": "78170278-db56-4b8f-b2f3-7e70c37c5858",
   "metadata": {
    "jupyter": {
     "source_hidden": true
    },
    "tags": []
   },
   "outputs": [
    {
     "data": {
      "application/vnd.jupyter.widget-view+json": {
       "model_id": "509cbba233064aedb0c8a70c5dea0c93",
       "version_major": 2,
       "version_minor": 0
      },
      "text/plain": [
       "VBox(children=(HBox(children=(HTML(value=\"<p><font color='black'>Enter range rate resolution (in m/s):</p>\"), …"
      ]
     },
     "metadata": {},
     "output_type": "display_data"
    }
   ],
   "source": [
    "qz.quiz_4_1_6a()"
   ]
  },
  {
   "cell_type": "code",
   "execution_count": 29,
   "id": "8fa1273e-3195-44ad-ad84-dc9f7bd3a8b7",
   "metadata": {
    "tags": []
   },
   "outputs": [],
   "source": [
    "# Scratch space"
   ]
  },
  {
   "cell_type": "markdown",
   "id": "8cece69c-0ad3-4290-bad4-c89eb8daf8c3",
   "metadata": {},
   "source": [
    "**(b)** What is the maximum (unambiguously) observable range rate for the radar in **(a)** if it uses a pulse repetition frequency of $f_p = 500~\\mathrm{Hz}$?"
   ]
  },
  {
   "cell_type": "code",
   "execution_count": 30,
   "id": "336b0679-db93-4448-a6ae-7128fc682a40",
   "metadata": {
    "jupyter": {
     "source_hidden": true
    },
    "tags": []
   },
   "outputs": [
    {
     "data": {
      "application/vnd.jupyter.widget-view+json": {
       "model_id": "2d313d92dcae42c7b145d93462733754",
       "version_major": 2,
       "version_minor": 0
      },
      "text/plain": [
       "VBox(children=(HBox(children=(HTML(value=\"<p><font color='black'>Enter range rate (in m/s):</p>\"), FloatText(v…"
      ]
     },
     "metadata": {},
     "output_type": "display_data"
    }
   ],
   "source": [
    "qz.quiz_4_1_6b()"
   ]
  },
  {
   "cell_type": "code",
   "execution_count": 31,
   "id": "38152b49-a89d-48df-8d2e-c22918e446d8",
   "metadata": {
    "tags": []
   },
   "outputs": [],
   "source": [
    "# Scratch space"
   ]
  },
  {
   "cell_type": "markdown",
   "id": "d14fd457-3615-4a06-9d6d-6c4aa5b2f435",
   "metadata": {},
   "source": [
    "***"
   ]
  },
  {
   "cell_type": "markdown",
   "id": "be284500-205f-4f98-b238-10210eddbd3f",
   "metadata": {},
   "source": [
    "## Radar Cross Section Estimation\n",
    "\n",
    "In [Lab 2.1: Radar Range Equation](2_1_Radar_Range_Equation.ipynb), we saw that the effective size of a target as seen by the radar was summarized by its *radar cross section* (RCS). More specifically, the RCS, $\\sigma$, is a key component of the received energy, $\\mathcal{E}_r$, from a radar pulse:\n",
    "\n",
    "$$\n",
    "\\mathcal{E}_r = \\frac{\\mathcal{E}_t G_t(\\theta) G_r(\\theta) \\lambda^2}{(4\\pi)^3 r^4} \\cdot \\sigma\n",
    "$$\n",
    "\n",
    "where\n",
    "\n",
    "- $\\mathcal{E}_t$ is the transmitted energy $(\\mathrm{J})$\n",
    "- $G_t(\\theta)$ is the transmit gain in the transmit direction\n",
    "- $G_r(\\theta)$ is the receive gain in the receive direction\n",
    "- $\\lambda$ is the transmission wavelength ($\\mathrm{m}$)\n",
    "- $r$ is the range to the target ($\\mathrm{m}$)\n",
    "\n",
    "Fortunately, from knowledge of the radar system and the transmission, we know the transmitted energy, $\\mathcal{E}_t$, the transmit gain, $G_t(\\theta)$, the receive gain $G_r(\\theta)$, and the transmit wavelength $\\lambda$. Then, after detection and subsequent range estimation, we have estimates of received energy and range. This means we know all variables in the received energy equation except RCS, $\\sigma$, so we can solve for it. Thus, the estimated RCS, $\\hat{\\sigma}$, can be obtained by rearranging the received energy equation:\n",
    "\n",
    "$$\n",
    "\\hat{\\sigma} = \\frac{(4\\pi)^3}{\\mathcal{E}_t G_t(\\theta) G_r(\\theta) \\lambda^2} \\cdot \\hat{\\mathcal{E}}_r \\cdot \\hat{r}^4\n",
    "$$\n",
    "\n",
    "A more common way of writing the estimate of radar cross section is relative to a reference signal-to-noise ratio. For instance, if it is known that a radar transmission will achieve an SNR of $\\mathrm{SNR}_0$ for a target of RCS $\\sigma_0$ at range $r_0$, then the received SNR is:\n",
    "\n",
    "$$\n",
    "\\mathrm{SNR} = \\mathrm{SNR}_0 \\cdot \\left(\\frac{r_0}{r}\\right)^4 \\cdot \\left(\\frac{\\sigma}{\\sigma_0}\\right)\n",
    "$$\n",
    "\n",
    "Thus, if we have estimates of the SNR and range, the estimate of RCS, $\\hat{\\sigma}$, can be written as:\n",
    "\n",
    "$$\n",
    "\\hat{\\sigma} = \\frac{\\mathrm{SNR}}{\\mathrm{SNR}_0} \\cdot \\left(\\frac{\\hat{r}}{r_0}\\right)^4 \\cdot {\\sigma_0}\n",
    "$$"
   ]
  },
  {
   "cell_type": "markdown",
   "id": "7adfbdcf-45ec-4c5e-b0f4-2f7ae955fec4",
   "metadata": {},
   "source": [
    "***"
   ]
  },
  {
   "cell_type": "markdown",
   "id": "150ac9db-bc29-409b-a2de-dfb4f1a8465e",
   "metadata": {},
   "source": [
    "### Question 7"
   ]
  },
  {
   "cell_type": "markdown",
   "id": "89fabb27-613d-45d1-aab2-43b643c6e83e",
   "metadata": {},
   "source": [
    "**(a)** For a system with reference SNR $\\mathrm{SNR}_0 = 15~\\mathrm{dB}$ on a target with $\\sigma_0 = 0~\\mathrm{dBsm}$ RCS at a range of $r_0 = 50~\\mathrm{km}$, what is the estimated RCS of a target whose detection has an estimated SNR of $\\mathrm{SNR} = 13~\\mathrm{dB}$ at estimated range $\\hat{r} = 65~\\mathrm{km}$?"
   ]
  },
  {
   "cell_type": "code",
   "execution_count": 32,
   "id": "bd57e41d-2f9a-4375-b828-e1ce1926ea2b",
   "metadata": {
    "jupyter": {
     "source_hidden": true
    },
    "tags": []
   },
   "outputs": [
    {
     "data": {
      "application/vnd.jupyter.widget-view+json": {
       "model_id": "6776e47197ea4897830f6b0b2c589216",
       "version_major": 2,
       "version_minor": 0
      },
      "text/plain": [
       "VBox(children=(HBox(children=(HTML(value=\"<p><font color='black'>Enter RCS (in dBsm):</p>\"), FloatText(value=0…"
      ]
     },
     "metadata": {},
     "output_type": "display_data"
    }
   ],
   "source": [
    "qz.quiz_4_1_7a()"
   ]
  },
  {
   "cell_type": "code",
   "execution_count": 33,
   "id": "46b03603-f974-4c1f-87a2-26e791933592",
   "metadata": {},
   "outputs": [],
   "source": [
    "# Scratch space"
   ]
  },
  {
   "cell_type": "markdown",
   "id": "2cff3738-9262-4771-9e49-6f7112fdcf44",
   "metadata": {},
   "source": [
    "**(b)** For a system with reference SNR $\\mathrm{SNR}_0 = 7~\\mathrm{dB}$ on a target with $\\sigma_0 = 5~\\mathrm{dBsm}$ RCS at a range of $r_0 = 500~\\mathrm{km}$, what is the estimated RCS of a target whose detection has an estimated SNR of $\\mathrm{SNR} = 13~\\mathrm{dB}$ at estimated range $\\hat{r} = 100~\\mathrm{km}$?"
   ]
  },
  {
   "cell_type": "code",
   "execution_count": 34,
   "id": "1c16b94a-13bb-45d1-8cfc-5d8b48552dd0",
   "metadata": {
    "jupyter": {
     "source_hidden": true
    },
    "tags": []
   },
   "outputs": [
    {
     "data": {
      "application/vnd.jupyter.widget-view+json": {
       "model_id": "e1eaf6564cc24cd59ab8e807e5b0f3c2",
       "version_major": 2,
       "version_minor": 0
      },
      "text/plain": [
       "VBox(children=(HBox(children=(HTML(value=\"<p><font color='black'>Enter RCS (in dBsm):</p>\"), FloatText(value=0…"
      ]
     },
     "metadata": {},
     "output_type": "display_data"
    }
   ],
   "source": [
    "qz.quiz_4_1_7b()"
   ]
  },
  {
   "cell_type": "code",
   "execution_count": 35,
   "id": "27695521-0cdc-4c95-89bc-89148ef25c1e",
   "metadata": {},
   "outputs": [],
   "source": [
    "# Scratch space"
   ]
  },
  {
   "cell_type": "markdown",
   "id": "9ed3594e-cf05-4a6a-a215-c851d838c069",
   "metadata": {},
   "source": [
    "***"
   ]
  },
  {
   "cell_type": "markdown",
   "id": "7627449b-282f-4fcd-8357-ef13fee8df72",
   "metadata": {},
   "source": [
    "## Summary"
   ]
  },
  {
   "cell_type": "markdown",
   "id": "c72c0cbe-c26b-4268-bc6b-35e7f47523f5",
   "metadata": {},
   "source": [
    "In this lab, we discussed extracting target attributes from detection information:\n",
    "\n",
    "- *Range*, calculated from the propagation delay and propagation velocity\n",
    "- *Angle*, dictated by beam pattern and steering of radar\n",
    "- *Range rate*, observed in Doppler shift of echo\n",
    "- *Radar cross section*, inferred from the strength of the echo\n",
    "\n",
    "All of these aspects will be very important when trying to continuously track targets (as we will see in [Lab 4.2: Target Tracking](4_2_Target_Tracking.ipynb))."
   ]
  },
  {
   "cell_type": "markdown",
   "id": "2c45b970-526e-41d3-a596-ca045440357c",
   "metadata": {},
   "source": [
    "## Footnotes"
   ]
  },
  {
   "cell_type": "markdown",
   "id": "d693fe0a-5766-45d6-b92c-826964e69170",
   "metadata": {},
   "source": [
    "<a id=\"foot_acc\"><sup>1</sup></a>The mathematical measure of accuracy used in this section is root-mean-square error as used in [[1]](#ref_skolnik).\n",
    "\n",
    "<a id=\"foot_beamcenter\"><sup>2</sup></a>The angle accuracy will also depend on how many pulses are used and how tightly spaced the different steering directions are chosen.\n",
    "\n",
    "<a id=\"foot_doppler\"><sup>3</sup></a>This expression for the Doppler frequency is a very close approximation for applications where the speed of propagation is much faster than the expected target speed."
   ]
  },
  {
   "cell_type": "markdown",
   "id": "37a456e1-08d9-4f7c-9d72-b4fc522aff4d",
   "metadata": {},
   "source": [
    "## References"
   ]
  },
  {
   "cell_type": "markdown",
   "id": "5f7d1780-545c-4de1-b8e5-1dc839a6d6ee",
   "metadata": {},
   "source": [
    "<a id=\"ref_skolnik\">[1]</a> M. I. Skolnik, “Theoretical accuracy of radar measurements,” *IRE Transactions on Aeronautical and Navigational Electronics*, vol. 7, no. 4, pp. 123–129, Dec. 1960."
   ]
  }
 ],
 "metadata": {
  "kernelspec": {
   "display_name": "Python 3",
   "language": "python",
   "name": "python3"
  },
  "language_info": {
   "codemirror_mode": {
    "name": "ipython",
    "version": 3
   },
   "file_extension": ".py",
   "mimetype": "text/x-python",
   "name": "python",
   "nbconvert_exporter": "python",
   "pygments_lexer": "ipython3",
   "version": "3.8.10"
  }
 },
 "nbformat": 4,
 "nbformat_minor": 5
}
