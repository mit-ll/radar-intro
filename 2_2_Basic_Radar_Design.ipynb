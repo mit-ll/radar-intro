{
 "cells": [
  {
   "cell_type": "markdown",
   "id": "36bb8f35-f615-4e26-b387-7bad63e371b5",
   "metadata": {},
   "source": [
    "# Lab 2.2: Basic Radar Design"
   ]
  },
  {
   "cell_type": "code",
   "execution_count": null,
   "id": "4acc6bb8-1bb5-46a2-9d4e-18f2b9583cb8",
   "metadata": {
    "tags": [
     "remove-input"
    ]
   },
   "outputs": [],
   "source": [
    "%matplotlib widget\n",
    "import rad.css as css\n",
    "import rad.example as ex\n",
    "import rad.quiz as qz\n",
    "from rad.const import c, k\n",
    "from rad.radar import to_db, from_db, deg2rad, rad2deg\n",
    "from math import sqrt, sin, asin, cos, acos, tan, atan2, pi, log, log10\n",
    "css.add_custom_css()"
   ]
  },
  {
   "cell_type": "markdown",
   "id": "dea5fb7e-b2c1-4a42-91f0-e7361d8ccca0",
   "metadata": {},
   "source": [
    "**Reminders**: \n",
    "\n",
    "- Hit the *<font color=\"DarkBlue\">Run All</font>* button <img width=\"18px\" src=\"img/run_all_icon.png\"> button above before continuing\n",
    "- Useful formulae and definitions are available in [Reference](Reference.ipynb)"
   ]
  },
  {
   "cell_type": "markdown",
   "id": "3f53e4f3-c68d-4196-b644-a232064196b0",
   "metadata": {},
   "source": [
    "From [Lab 2.1: Radar Range Equation](2_1_Range_Range_Equation.ipynb), we saw that if we know certain aspects of the radar system (e.g., transmit energy, transmit gain, etc.), it is possible to derive the received energy from a target echo. If we also know the characteristics of the noise in the radar system, we can also calculate the signal-to-noise ratio (SNR). The SNR is a key quantity that allows us to deduce whether we should be able to detect a target echo in a given situation. If the SNR is high ($\\gg 0~\\mathrm{dB}$), the echo should be confidently detected; if the SNR is low ($\\leq 0~\\mathrm{dB}$), it will be difficult to discern the echo from the noise. (We will discuss this in more detail in [Lab 3.2: Detection](3_2_Detection.ipynb).)"
   ]
  },
  {
   "cell_type": "markdown",
   "id": "53bbfb8d-6c9a-4863-8de8-c367abef5f42",
   "metadata": {},
   "source": [
    "As a quick recap, we can see in the interactive example below how the received energy of the echo (in **black**) compares to the energy of the noise (in **<font color=\"Red\">red</font>**) for a dish radar with adjustable properties:"
   ]
  },
  {
   "cell_type": "code",
   "execution_count": null,
   "id": "4b668d14-9bd4-4a7c-a238-202af56fc5ee",
   "metadata": {
    "tags": [
     "remove-input"
    ]
   },
   "outputs": [],
   "source": [
    "ex.ex_2_2_1()"
   ]
  },
  {
   "cell_type": "markdown",
   "id": "e2c79cbd-5a57-4a52-b00c-8f62a2a8a92d",
   "metadata": {},
   "source": [
    "## Sensitivity Design"
   ]
  },
  {
   "cell_type": "markdown",
   "id": "617ab4d9-4f9b-4143-8607-970ec7359786",
   "metadata": {},
   "source": [
    "Designing a radar to obtain a desired SNR is often called controlling its **sensitivity**; this is one of the primary factors used when crafting a radar system. A sensitivity objective will often come in the form like the following: \"$15~\\mathrm{dB}$ SNR on a $-5~\\mathrm{dBsm}$ target at a range of $100~\\mathrm{km}$\". To see how to satisfy this requirement and understand what design decisions are important, let us look back at the formula for SNR; specifically, the SNR from a target echo was shown to be:\n",
    "\n",
    "$$\n",
    "\\mathrm{SNR} = \\frac{\\mathcal{E}_t G_t(\\theta) G_r(\\theta) \\lambda^2 \\sigma}{(4\\pi)^3 r^4 k T_s}\n",
    "$$\n",
    "\n",
    "where\n",
    "\n",
    "- $\\mathcal{E}_t$ is the transmitted energy $(\\mathrm{J})$\n",
    "- $G_t(\\theta)$ is the transmit gain in the transmit direction $\\theta$\n",
    "- $G_r(\\theta)$ is the receive gain in the receive direction $\\theta$\n",
    "- $\\lambda$ is the transmission wavelength ($\\mathrm{m}$)\n",
    "- $\\sigma$ is the radar cross section of the target ($\\mathrm{m^2}$)\n",
    "- $r$ is the range to the target ($\\mathrm{m}$)"
   ]
  },
  {
   "cell_type": "markdown",
   "id": "bbee0a61-94c4-4fd8-b452-ff761d64247d",
   "metadata": {},
   "source": [
    "It is helpful at this point to identify which terms in the SNR equation are controlled by the radar designer. Here is the SNR from a target echo split into terms regarding the radar and the target:"
   ]
  },
  {
   "cell_type": "markdown",
   "id": "3206f86d-b82c-47fe-9132-fb32e7da5a41",
   "metadata": {},
   "source": [
    "<div style=\"text-align: center\"> <img src=\"img/snr_design.png\" justify=\"center\" width=\"350px\"></img> </div>"
   ]
  },
  {
   "cell_type": "markdown",
   "id": "c46611d0-5b60-4c14-867a-a561bcff6c2d",
   "metadata": {},
   "source": [
    "More specifically, the factors we can control as a radar designer are:\n",
    "- $\\mathcal{E}_t$ is controlled by transmit power and transmit duration\n",
    "- $G_t(\\theta)$ is controlled by transmit aperture shape and transmit frequency\n",
    "- $G_r(\\theta)$ is controlled by receive aperture shape and transmit frequency\n",
    "- $\\lambda$ is controlled by transmit frequency\n",
    "- $T_s$ is the system noise temperature"
   ]
  },
  {
   "cell_type": "markdown",
   "id": "393c731a-7087-497d-8290-5f37da046e7f",
   "metadata": {},
   "source": [
    "The factors dictated by the scenarios of interest:\n",
    "- $\\sigma$: Target shape, material, orientation\n",
    "- $r$: Radar-target geometry"
   ]
  },
  {
   "cell_type": "markdown",
   "id": "6f4cd4c3-5af3-4235-bba0-9104f7ea4e16",
   "metadata": {},
   "source": [
    "Thus, the application dictates what values of RCS and range are relevant, and then it is our job to design a radar that can achieve a desired SNR by choosing: transmit energy, transmit/receive aperture, and transmit frequency. In general, cost *increases* as:\n",
    "\n",
    "- Transmit energy, $\\mathcal{E}_t$ , increases\n",
    "- Aperture size increases\n",
    "- Transmit frequency, $f$ , increases\n",
    "- System noise temperature, $T_s$ , decreases\n",
    "\n",
    "To impart intuition, let us work through an example. We are building a dish radar system to achieve the given sensitivity objective from above: \"$15~\\mathrm{dB}$ SNR on a $-5~\\mathrm{dBsm}$ target at a range of $100~\\mathrm{km}$\". We have a budget of $\\$100\\mathrm{k}$ and the radar manufacturer gives us the following price sheet:"
   ]
  },
  {
   "cell_type": "markdown",
   "id": "c94ff606-4fde-4e34-8035-d0fca75c9cb4",
   "metadata": {},
   "source": [
    "\n",
    "\n",
    "| Hardware                 | Price                                    |\n",
    "|--------------------------|------------------------------------------|\n",
    "| Dish Radius              | $\\$10000/\\mathrm{m}$                     |\n",
    "| Transmit Energy          | $\\$20/\\mathrm{mJ}$                       |\n",
    "| Transmit Frequency       | $\\$10/\\mathrm{MHz}$                      |\n",
    "| Noise Temperature        | $\\$50/\\mathrm{K}$ below $1500~\\mathrm{K}$|"
   ]
  },
  {
   "cell_type": "markdown",
   "id": "e0c0070c-e45c-4afd-b858-9369f23cc1f4",
   "metadata": {},
   "source": [
    "In the interactive example below, try changing the values of the radar design parameters to achieve the sensitivity requirement while staying under budget. In short, try to simultaneously satisfy:\n",
    "\n",
    "* Price $\\leq \\$100000$\n",
    "* SNR $\\geq 15~\\mathrm{dB}$\n",
    "* RCS $\\leq -5~\\mathrm{dBsm}$\n",
    "* Range $\\geq 100~\\mathrm{km}$"
   ]
  },
  {
   "cell_type": "code",
   "execution_count": null,
   "id": "d573ac73-550a-48a2-964d-0c040ddc1225",
   "metadata": {
    "tags": [
     "remove-input"
    ]
   },
   "outputs": [],
   "source": [
    "ex.ex_2_2_2()"
   ]
  },
  {
   "cell_type": "markdown",
   "id": "54d1e659-0f52-4214-893e-8ad4232c1abe",
   "metadata": {},
   "source": [
    "## Beamwidth Design"
   ]
  },
  {
   "cell_type": "markdown",
   "id": "6b1c267f-c7a2-4478-9a64-4ec9561eee99",
   "metadata": {},
   "source": [
    "Another key factor in designing a radar is a desired beamwidth; this will decide how accurately we can measure the angle of targets. (We will discuss range measurement accuracy in [Lab 3.1: Radar Transmissions and Receptions](3_1_Radar_Transmissions_and_Receptions.ipynb) and angle accuracy will be revisited in detail in [Lab 4.1: Target Parameter Estimation](4_1_Target_Parameter_Estimation.ipynb).)"
   ]
  },
  {
   "cell_type": "markdown",
   "id": "ecf82541-c0db-4bc2-83cb-d23dfdd4474a",
   "metadata": {},
   "source": [
    "We saw in [Lab 1.2: Introduction to Radar](1_2_Introduction_to_Radar.ipynb) that the beamwidth of circular apertures (very common in radar designs) is:\n",
    "\n",
    "$$\n",
    "\\Delta\\theta = 70^\\circ\\frac{\\lambda}{D}\n",
    "$$\n",
    "\n",
    "where $D$ is the diameter of the aperture and $\\lambda$ is the transmit wavelength. The beamwidth and gain for a circular aperture can be studied in the interactive example below."
   ]
  },
  {
   "cell_type": "code",
   "execution_count": null,
   "id": "2718581d-f48e-4d52-bb69-79ba5f8fd554",
   "metadata": {
    "tags": [
     "remove-input"
    ]
   },
   "outputs": [],
   "source": [
    "ex.ex_2_2_3()"
   ]
  },
  {
   "cell_type": "markdown",
   "id": "b7615f76-598e-4647-a93f-e68a9f50149a",
   "metadata": {},
   "source": [
    "Another common radar aperture shape is a rectangle. Because the shape is not necessarily symmetrical around its center (like a circular aperture), it has two different beamwidths: one in the horizontal dimension and one in the vertical dimension. The vertical beamwidth, $\\Delta \\theta_v$ , and horizontal beamwidth, $\\Delta \\theta_h$ , of a rectangular aperture (in degrees) of height $a$ (in $\\mathrm{m}$) and width $b$ (in $\\mathrm{m}$) are:\n",
    "\n",
    "$$\n",
    "\\Delta\\theta_v = 57.3^\\circ\\frac{\\lambda}{a}\n",
    "$$\n",
    "\n",
    "$$\n",
    "\\Delta\\theta_h = 57.3^\\circ\\frac{\\lambda}{b}\n",
    "$$\n",
    "\n",
    "where $\\lambda$ is the transmit wavelength (in $\\mathrm{m}$). Like the circular aperture, you can investigate how the beamwidth and gain for a rectangular aperture change with shape and frequency in the interactive example below."
   ]
  },
  {
   "cell_type": "code",
   "execution_count": null,
   "id": "5c3beafd-31f3-4f78-953f-aaa781ce2753",
   "metadata": {
    "tags": [
     "remove-input"
    ]
   },
   "outputs": [],
   "source": [
    "ex.ex_2_2_4()"
   ]
  },
  {
   "cell_type": "markdown",
   "id": "bd5b752a-3b80-473b-b202-0178a936b2e8",
   "metadata": {},
   "source": [
    "Now, we can revisit building a radar with a given budget, but now we will have both a sensitivity objective and a desired beamwidth. Try staying under budget in the interactive example below while meeting the following objectives:\n",
    "\n",
    "* Price $\\leq \\$110000$\n",
    "* SNR $\\geq 14~\\mathrm{dB}$\n",
    "* Beamwidth $\\leq 2~\\mathrm{deg}$\n",
    "* RCS $\\leq -10~\\mathrm{dBsm}$\n",
    "* Range $\\geq 120~\\mathrm{km}$"
   ]
  },
  {
   "cell_type": "code",
   "execution_count": null,
   "id": "201c001e-90f2-487f-a7ec-ba40281be58e",
   "metadata": {
    "tags": [
     "remove-input"
    ]
   },
   "outputs": [],
   "source": [
    "ex.ex_2_2_5()"
   ]
  },
  {
   "cell_type": "markdown",
   "id": "99c0b523-a9c1-441f-b082-b7cae6dda9ba",
   "metadata": {},
   "source": [
    "Note that there are many more potential design objectives for a radar, e.g., target parameter estimation, tracking, discrimination. We will discuss how radar parameters affect the performance of these objectives in following labs and revisit radar design in the last lab, [Lab 5.1: Radar Design Revisited](5_1_Radar_Design_Revisited.ipynb)"
   ]
  },
  {
   "cell_type": "markdown",
   "id": "1216908d-8e53-4ed5-8dde-204f3269cae5",
   "metadata": {},
   "source": [
    "## Meet Robby"
   ]
  },
  {
   "cell_type": "markdown",
   "id": "6bcee96e-341a-472b-b93f-55a9ab92366d",
   "metadata": {},
   "source": [
    "As a final exercise, we will meet Robby the radar, which we will use numerous times throughout the remainder of the course. Robby is a test radar in a simulated environment that allows you to change radar parameters on the fly and see how things evolve. More specifically, Robby is a rotating dish radar whose display shows the received signals for every angle on a single screen; a pulse is recorded for every $0.5^\\circ$ in azimuth angle. (We will dive into the processing that is happening behind-the-scenes in [Lab 3.1: Radar Transmissions and Receptions](3_1_Radar_Transmissions_and_Receptions.ipynb).) \n",
    "\n",
    "As the labs progress, more adjustments can be made to Robby; however, the initial variables are *<font color=\"DarkBlue\">Noise Temperature</font>*, *<font color=\"DarkBlue\">Dish Radius</font>*, and *<font color=\"DarkBlue\">Transmit Frequency</font>*. To use the radar, click on the *<font color=\"DarkBlue\">Scan</font>* button; this will make one full rotation and plot all received pulses. To see an individual pulse, we can use the *<font color=\"DarkBlue\">Azimuth</font>* slider in the **Pulse Display** section to display the pulse for a desired azimuth angle. Note that the data are normalized by the average noise energy, so noise samples will be distributed around $0~\\mathrm{dB}$ and echoes will have values equal to their signal-to-noise ratio; this is why the scale is marked as SNR.\n",
    "\n",
    "In the example below, there is a single target with RCS of $5~\\mathrm{dBsm}$ located at a range of $6~\\mathrm{km}$ and azimuth of $45^\\circ$. Try changing radar parameters to see how the response varies."
   ]
  },
  {
   "cell_type": "code",
   "execution_count": null,
   "id": "1d2d5d07-8566-4466-b3ee-cfc8404fa257",
   "metadata": {
    "tags": [
     "remove-input"
    ]
   },
   "outputs": [],
   "source": [
    "ex.ex_2_2_6()"
   ]
  },
  {
   "cell_type": "markdown",
   "id": "38ec872c-301e-43d3-a751-8d8e37e7891f",
   "metadata": {},
   "source": [
    "## Summary"
   ]
  },
  {
   "cell_type": "markdown",
   "id": "8c231761-8900-4c4f-a59a-ec1e9aa1f41d",
   "metadata": {},
   "source": [
    "In this lab, we discussed high-level radar design for two common criteria: *sensitivity* and *beamwidth*. We studied through examples how we can tradeoff different radar design choices, e.g., transmit frequency, aperture size, to satisfy these requirements. Additionally, we were introduced to Robby the radar, a test radar that can be altered on the fly to observe changes in radar observations."
   ]
  },
  {
   "cell_type": "markdown",
   "id": "6ceaaa2e-a58f-4d40-8e24-9ae619123db6",
   "metadata": {},
   "source": [
    "## Footnotes"
   ]
  },
  {
   "cell_type": "markdown",
   "id": "3b2511ba-1b82-4a60-bd39-68acc8cd4fc0",
   "metadata": {},
   "source": [
    "n/a"
   ]
  },
  {
   "cell_type": "markdown",
   "id": "e4dbdae8-acc2-41b9-ab29-e9e0568c70c0",
   "metadata": {},
   "source": [
    "## References"
   ]
  },
  {
   "cell_type": "markdown",
   "id": "4ed3b80a-481f-449a-ae1b-749651462336",
   "metadata": {},
   "source": [
    "n/a"
   ]
  }
 ],
 "metadata": {
  "kernelspec": {
   "display_name": "Python 3 (ipykernel)",
   "language": "python",
   "name": "python3"
  },
  "language_info": {
   "codemirror_mode": {
    "name": "ipython",
    "version": 3
   },
   "file_extension": ".py",
   "mimetype": "text/x-python",
   "name": "python",
   "nbconvert_exporter": "python",
   "pygments_lexer": "ipython3",
   "version": "3.12.10"
  }
 },
 "nbformat": 4,
 "nbformat_minor": 5
}
