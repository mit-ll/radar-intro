{
 "cells": [
  {
   "cell_type": "markdown",
   "id": "68202ff9-6cfc-4a48-a304-d9c39d6c0f8f",
   "metadata": {},
   "source": [
    "# Lab 5.1: Radar Design Revisited"
   ]
  },
  {
   "cell_type": "code",
   "execution_count": null,
   "id": "e86975f9-d794-42d4-895f-8d547b604bf3",
   "metadata": {
    "jupyter": {
     "source_hidden": true
    },
    "tags": []
   },
   "outputs": [],
   "source": [
    "%matplotlib widget\n",
    "import rad.css as css\n",
    "import rad.air as air\n",
    "import rad.example as ex\n",
    "import rad.quiz as qz\n",
    "from rad.const import c, k\n",
    "from rad.radar import to_db, from_db, deg2rad, rad2deg\n",
    "from math import sqrt, sin, asin, cos, acos, tan, atan2, pi, log, log10\n",
    "css.add_custom_css()"
   ]
  },
  {
   "cell_type": "markdown",
   "id": "5d2d6b38-b65c-43d3-9179-0fb1ff749e9c",
   "metadata": {},
   "source": [
    "**Reminders**: \n",
    "\n",
    "- Hit the *<font color=\"DarkBlue\">Run All</font>* button <img width=\"18px\" src=\"img/run_all_icon.png\"> button above before continuing\n",
    "- Useful formulae and definitions are available in [Reference](Reference.ipynb)"
   ]
  },
  {
   "cell_type": "markdown",
   "id": "6e5cde9d-9903-462c-b5f4-c88fb06091ef",
   "metadata": {},
   "source": [
    "In our final lab, we will do two things to exercise our knowledge up to this point:\n",
    "\n",
    "- Review the fundamentals with a series of quizzes\n",
    "- Design a radar system to track air traffic\n",
    "\n",
    "Let us begin by testing ourselves on the core ideas covered up to this point."
   ]
  },
  {
   "cell_type": "markdown",
   "id": "f7140acb-69c3-4117-bba2-ea251d94515e",
   "metadata": {},
   "source": [
    "## Cumulative Review"
   ]
  },
  {
   "cell_type": "markdown",
   "id": "78810560-6a11-42a7-9fe8-170d6d00f2e7",
   "metadata": {},
   "source": [
    "***"
   ]
  },
  {
   "cell_type": "markdown",
   "id": "250521ab-9d77-483a-a11f-5d15b0a1c02b",
   "metadata": {},
   "source": [
    "### Question 1"
   ]
  },
  {
   "cell_type": "markdown",
   "id": "75d231db-1a15-41bf-858d-3e091952ea1c",
   "metadata": {},
   "source": [
    "For a dish radar with diameter $D = 4~\\mathrm{m}$ operating at frequency $f = 10~\\mathrm{GHz}$:"
   ]
  },
  {
   "cell_type": "markdown",
   "id": "a6269528-6619-42bc-9ca0-ab1d97c7377b",
   "metadata": {},
   "source": [
    "**(a)** What is the transmit wavelength, $\\lambda$?"
   ]
  },
  {
   "cell_type": "code",
   "execution_count": null,
   "id": "967982a1-de96-4ad7-9707-9d0d295e9445",
   "metadata": {
    "jupyter": {
     "source_hidden": true
    },
    "tags": []
   },
   "outputs": [],
   "source": [
    "qz.quiz_5_1_1a()"
   ]
  },
  {
   "cell_type": "code",
   "execution_count": null,
   "id": "5c5f2685-4ad9-449e-a8c9-fb7f88d0ae85",
   "metadata": {},
   "outputs": [],
   "source": [
    "# Scratch space"
   ]
  },
  {
   "cell_type": "markdown",
   "id": "809070d0-cb60-49b7-9141-50b32487304a",
   "metadata": {},
   "source": [
    "**(b)** What is the minimum beamwidth, $\\Delta \\theta$?"
   ]
  },
  {
   "cell_type": "code",
   "execution_count": null,
   "id": "51663475-880a-4118-8724-f4b17ec2afc2",
   "metadata": {
    "jupyter": {
     "source_hidden": true
    },
    "tags": []
   },
   "outputs": [],
   "source": [
    "qz.quiz_5_1_1b()"
   ]
  },
  {
   "cell_type": "code",
   "execution_count": null,
   "id": "782573b1-9d3d-485c-bb34-829f0e869999",
   "metadata": {},
   "outputs": [],
   "source": [
    "# Scratch space"
   ]
  },
  {
   "cell_type": "markdown",
   "id": "97c5fa16-a68a-4933-bc96-e727675a1b83",
   "metadata": {},
   "source": [
    "**(c)** What is the maximum transmit gain, $G_t(\\theta)$?"
   ]
  },
  {
   "cell_type": "code",
   "execution_count": null,
   "id": "28a16373-d72f-495a-b413-9b566c49afc9",
   "metadata": {
    "jupyter": {
     "source_hidden": true
    },
    "tags": []
   },
   "outputs": [],
   "source": [
    "qz.quiz_5_1_1c()"
   ]
  },
  {
   "cell_type": "code",
   "execution_count": null,
   "id": "f479d139-d154-4704-87c5-78e91ee5a46d",
   "metadata": {
    "tags": []
   },
   "outputs": [],
   "source": [
    "# Scratch space"
   ]
  },
  {
   "cell_type": "markdown",
   "id": "59f93cbc-0c4f-4d86-8bbb-2b47b4d06007",
   "metadata": {},
   "source": [
    "***"
   ]
  },
  {
   "cell_type": "markdown",
   "id": "6cae1ffc-3966-4243-a277-181607ab1e95",
   "metadata": {},
   "source": [
    "***"
   ]
  },
  {
   "cell_type": "markdown",
   "id": "d58f29f4-22e7-470f-a128-c9209e726f63",
   "metadata": {},
   "source": [
    "### Question 2"
   ]
  },
  {
   "cell_type": "markdown",
   "id": "03451c5a-686b-45a9-bd10-206a47c2828f",
   "metadata": {},
   "source": [
    "**(a)** What is the received energy, $\\mathcal{E}_r$ , for a radar system with:\n",
    "\n",
    "- Transmit and receive area $A_r = A_t = 10~\\mathrm{m^2}$\n",
    "- Transmit frequency, $f = 2~\\mathrm{GHz}$\n",
    "- Transmit energy, $\\mathcal{E}_t = 10~\\mathrm{J}$\n",
    "\n",
    "when it observes a target in the center of the beam (i.e., maximum gain) at range $r = 200~\\mathrm{km}$ with radar cross section $-5~\\mathrm{dBsm}$?"
   ]
  },
  {
   "cell_type": "code",
   "execution_count": null,
   "id": "eb2d208b-c1c8-4183-b819-149947c92a6e",
   "metadata": {
    "jupyter": {
     "source_hidden": true
    },
    "tags": []
   },
   "outputs": [],
   "source": [
    "qz.quiz_5_1_2a()"
   ]
  },
  {
   "cell_type": "code",
   "execution_count": null,
   "id": "63f027aa-ed89-4c7c-9ae8-3bc7e19b52d9",
   "metadata": {},
   "outputs": [],
   "source": [
    "# Scratch space"
   ]
  },
  {
   "cell_type": "markdown",
   "id": "a720e214-a3e4-4509-8f14-640e7f7446db",
   "metadata": {},
   "source": [
    "**(b)** If the system noise temperature is $T_s = 500~^\\circ K$, what is the signal-to-noise ratio?"
   ]
  },
  {
   "cell_type": "code",
   "execution_count": null,
   "id": "5400b1b9-3f20-40e2-b4a9-19a9113814ab",
   "metadata": {
    "jupyter": {
     "source_hidden": true
    },
    "tags": []
   },
   "outputs": [],
   "source": [
    "qz.quiz_5_1_2b()"
   ]
  },
  {
   "cell_type": "code",
   "execution_count": null,
   "id": "defd4e73-c50b-4a30-82af-ff4180589e96",
   "metadata": {},
   "outputs": [],
   "source": [
    "# Scratch space"
   ]
  },
  {
   "cell_type": "markdown",
   "id": "f7c3b1bc-3f6e-4e3d-aed6-43da2c27d68a",
   "metadata": {},
   "source": [
    "***"
   ]
  },
  {
   "cell_type": "markdown",
   "id": "009b2f91-5184-4a69-9492-1b4e75f2c456",
   "metadata": {},
   "source": [
    "***"
   ]
  },
  {
   "cell_type": "markdown",
   "id": "deaf88a9-b074-4a82-8ecc-0a9f9f2a7038",
   "metadata": {},
   "source": [
    "### Question 3"
   ]
  },
  {
   "cell_type": "markdown",
   "id": "6de2a6e8-03ac-4e8e-8356-479be3a28cb9",
   "metadata": {},
   "source": [
    "**(a)** What is the duty cycle, $d$ , for a radar that uses a pulsewidth of $t_p = 100~\\mu\\mathrm{s}$ and a pulse repetition frequency of $f_{rep} = 2~\\mathrm{kHz}$?"
   ]
  },
  {
   "cell_type": "code",
   "execution_count": null,
   "id": "89ef068c-d72d-4ad3-8d29-a81961fd0f63",
   "metadata": {
    "jupyter": {
     "source_hidden": true
    },
    "tags": []
   },
   "outputs": [],
   "source": [
    "qz.quiz_5_1_3a()"
   ]
  },
  {
   "cell_type": "code",
   "execution_count": null,
   "id": "cec747a1-80af-4a37-84ec-8373edfb88a1",
   "metadata": {},
   "outputs": [],
   "source": [
    "# Scratch space"
   ]
  },
  {
   "cell_type": "markdown",
   "id": "90ba680c-7e1f-4202-a753-be7e3cb496e2",
   "metadata": {},
   "source": [
    "**(b)** If a pulse achieves a signal-to-noise ratio of $5~\\mathrm{dB}$ on a target, how many pulses of coherent integration are needed to achieve an SNR of at least $17~\\mathrm{dB}$? "
   ]
  },
  {
   "cell_type": "code",
   "execution_count": null,
   "id": "3161348c-f03c-4f51-a607-27617a85cdc5",
   "metadata": {
    "jupyter": {
     "source_hidden": true
    },
    "tags": []
   },
   "outputs": [],
   "source": [
    "qz.quiz_5_1_3b()"
   ]
  },
  {
   "cell_type": "code",
   "execution_count": null,
   "id": "8cd4e483-70b7-464b-a213-c8c2421d0bf6",
   "metadata": {
    "tags": []
   },
   "outputs": [],
   "source": [
    "# Scratch space"
   ]
  },
  {
   "cell_type": "markdown",
   "id": "59c01673-469d-440e-a816-0ba28951ab02",
   "metadata": {},
   "source": [
    "***"
   ]
  },
  {
   "cell_type": "markdown",
   "id": "81a1ce66-250b-4595-b57a-9b7b3cc2d0d9",
   "metadata": {},
   "source": [
    "***"
   ]
  },
  {
   "cell_type": "markdown",
   "id": "e6c68808-1aef-4418-942f-9dcdf368eee6",
   "metadata": {},
   "source": [
    "### Question 4"
   ]
  },
  {
   "cell_type": "markdown",
   "id": "97132858-1ae2-455f-af8e-9305fd38d053",
   "metadata": {},
   "source": [
    "**(a)** What does the minimum bandwidth, $B$ , of the transmit signal required to be able to discern two targets $\\delta r = 1.5~\\mathrm{m}$ apart?"
   ]
  },
  {
   "cell_type": "code",
   "execution_count": null,
   "id": "4789e25d-0fd7-43d8-b566-c2397c682550",
   "metadata": {
    "jupyter": {
     "source_hidden": true
    },
    "tags": []
   },
   "outputs": [],
   "source": [
    "qz.quiz_5_1_4a()"
   ]
  },
  {
   "cell_type": "code",
   "execution_count": null,
   "id": "b1b2d806-7969-40b9-90da-d5059fc6b0be",
   "metadata": {},
   "outputs": [],
   "source": [
    "# Scratch space"
   ]
  },
  {
   "cell_type": "markdown",
   "id": "91108f07-932e-4270-ac94-957779daf167",
   "metadata": {},
   "source": [
    "**(b)** What is the horizontal cross-range resolution, $\\delta r_\\perp$ , at range $r = 90~\\mathrm{km}$ of a rectangular radar system with aperture width $w = 5.2 ~\\mathrm{m}$ and transmit frequency $f = 5~\\mathrm{GHz}$?"
   ]
  },
  {
   "cell_type": "code",
   "execution_count": null,
   "id": "9475a5a3-1d23-4fd1-83f7-3f7c255a9397",
   "metadata": {
    "jupyter": {
     "source_hidden": true
    },
    "tags": []
   },
   "outputs": [],
   "source": [
    "qz.quiz_5_1_4b()"
   ]
  },
  {
   "cell_type": "code",
   "execution_count": null,
   "id": "ab444d92-8a1b-46fa-b2d7-dc6adc051d74",
   "metadata": {},
   "outputs": [],
   "source": [
    "# Scratch space"
   ]
  },
  {
   "cell_type": "markdown",
   "id": "ebcad4f4-29a9-47cd-816a-21d62c30a9a4",
   "metadata": {},
   "source": [
    "**(c)** What is the maximum magnitude of relative range rate, $|\\dot{r}|$ , that can be unambiguously measured by a radar that sends a set of pulses with pulse repetition frequency, $f_{rep} = 700~\\mathrm{Hz}$, and transmit frequency $f = 3~\\mathrm{GHz}$?"
   ]
  },
  {
   "cell_type": "code",
   "execution_count": null,
   "id": "edc34111-ba28-4569-83fb-e5a74b11404b",
   "metadata": {
    "jupyter": {
     "source_hidden": true
    },
    "tags": []
   },
   "outputs": [],
   "source": [
    "qz.quiz_5_1_4c()"
   ]
  },
  {
   "cell_type": "code",
   "execution_count": null,
   "id": "798e978c-e10d-4bfc-993f-6d19fec93af5",
   "metadata": {},
   "outputs": [],
   "source": [
    "# Scratch space"
   ]
  },
  {
   "cell_type": "markdown",
   "id": "932bf2ba-2581-4f78-96be-369cc0659be1",
   "metadata": {},
   "source": [
    "***"
   ]
  },
  {
   "cell_type": "markdown",
   "id": "37687ce3-9ddd-43fa-a493-7837b8371fe6",
   "metadata": {},
   "source": [
    "## Radar Design for Air Target Tracking"
   ]
  },
  {
   "cell_type": "markdown",
   "id": "dd4c9a73-c4ad-4d31-8585-7c09e09265c8",
   "metadata": {},
   "source": [
    "Now that we have proven our mastery of the key concepts, let us try and build a radar system and use it to track airplanes. In this section of the lab, we will be bringing together the design of transmitters, receivers, antennas, and detectors. \n",
    "\n",
    "Here is the problem at hand: the local airport has to perform maintenance on its air traffic surveillance systems for the next few months and needs us to help fill the gap. They are giving us a budget to build a rotating dish radar system that will allow us to manually track up to $6$ airplanes in a $10~\\mathrm{km}$ radius and figure out their flight path. Each airplane has a unique radar cross section value that we can use to identify it, ranging from $\\sigma  = -5~\\mathrm{dBsm}$ to $\\sigma = 15~\\mathrm{dBsm}$."
   ]
  },
  {
   "cell_type": "markdown",
   "id": "b6210b13-9803-4d9e-b6d1-e8a7ac14bfa6",
   "metadata": {},
   "source": [
    "### Flight Paths"
   ]
  },
  {
   "cell_type": "markdown",
   "id": "b65fba88-fe90-40e0-a2e0-7cea44f0709e",
   "metadata": {},
   "source": [
    "In the figure below, we can see the possible flight path from the perspective of our radar screen. There are a total of $6$ paths, and it is possible for an airplane to travel either direction on each path. Note that these paths will be randomly drawn every time you restart the notebook with the *<font color=\"DarkBlue\">Run All</font>* button <img width=\"18px\" src=\"img/run_all_icon.png\">; if they look too difficult or easy to discern, try rerunning the notebook."
   ]
  },
  {
   "cell_type": "code",
   "execution_count": null,
   "id": "f70b98bf-ecd3-4a5a-bcbb-120a45f8035d",
   "metadata": {
    "jupyter": {
     "source_hidden": true
    },
    "tags": []
   },
   "outputs": [],
   "source": [
    "routes, targets = ex.ex_5_1_1()"
   ]
  },
  {
   "cell_type": "markdown",
   "id": "cf76fae2-51ca-4d4f-b507-0b6c889bd57f",
   "metadata": {},
   "source": [
    "### Radar Design with a Budget"
   ]
  },
  {
   "cell_type": "markdown",
   "id": "f8c7157c-a886-4c6c-8f30-0d6eef57072f",
   "metadata": {},
   "source": [
    "Now it is time to design our radar system that will be helping us watch air traffic. We have been given a budget of $\\$50~\\mathrm{k}$, and our local radar manufacturer has given us the following price breakdowns for a rotating dish radar system:"
   ]
  },
  {
   "cell_type": "markdown",
   "id": "5b9de892-7ee5-4e2b-9c30-ad922d11b1b1",
   "metadata": {},
   "source": [
    "\n",
    "\n",
    "| Hardware                 | Price                                    |\n",
    "|--------------------------|------------------------------------------|\n",
    "| Dish Radius              | $\\$10000/\\mathrm{m}$                     |\n",
    "| Scan Rate                | $\\$500/\\mathrm{scans}/\\mathrm{min}$      |\n",
    "| Transmit Bandwidth       | $\\$100/\\mathrm{MHz}$                     |\n",
    "| Transmit Energy          | $\\$20/\\mathrm{mJ}$                       |\n",
    "| Transmit Frequency       | $\\$10/\\mathrm{MHz}$                      |\n",
    "| Noise Temperature        | $\\$50/^\\circ K$ below $1500 ^\\circ K$    |"
   ]
  },
  {
   "cell_type": "markdown",
   "id": "2ba5ce57-226c-4024-a970-992dffd08760",
   "metadata": {},
   "source": [
    "| Processing               | Price                                    |\n",
    "|--------------------------|------------------------------------------|\n",
    "| Coherent Integration     | $\\$100/\\mathrm{Pulse}$                   |\n",
    "| Noncoherent Integration  | $\\$40/\\mathrm{Pulse}$                    |"
   ]
  },
  {
   "cell_type": "markdown",
   "id": "c6a457ed-3218-434c-a5b7-763d10c176a6",
   "metadata": {},
   "source": [
    "To see how the different choices influence price, use the following interactive example."
   ]
  },
  {
   "cell_type": "code",
   "execution_count": null,
   "id": "d272e99d-0455-416b-9f01-d0850e8ac865",
   "metadata": {
    "jupyter": {
     "source_hidden": true
    },
    "tags": []
   },
   "outputs": [],
   "source": [
    "ex.ex_5_1_2()"
   ]
  },
  {
   "cell_type": "markdown",
   "id": "87dbd605-219e-4aed-b01d-d8f51a74d298",
   "metadata": {},
   "source": [
    "Now, let us set some objectives for our radar design based on the application at hand. First, we can try designing for sensitivity to get a rough handle on what we will need. On the sliders below, choose the most stressing case we would expect to see in terms of *<font color=\"DarkBlue\">Target Range</font>* and *<font color=\"DarkBlue\">Target RCS</font>*. Then, set the *<font color=\"DarkBlue\">Objective SNR</font>* to a desired design point to ensure that we will be able to confidently detect the target. Then, try to design the radar and stay under $\\$50~\\mathrm{k}$."
   ]
  },
  {
   "cell_type": "code",
   "execution_count": null,
   "id": "1a161fb5-e236-42d7-85e4-67a81a894618",
   "metadata": {
    "jupyter": {
     "source_hidden": true
    },
    "tags": []
   },
   "outputs": [],
   "source": [
    "ex.ex_5_1_2b()"
   ]
  },
  {
   "cell_type": "markdown",
   "id": "45baad39-6339-4685-b063-4f6bf10f5e20",
   "metadata": {},
   "source": [
    "### Test Range"
   ]
  },
  {
   "cell_type": "markdown",
   "id": "ecf94871-d916-422a-953a-d2a6be65140e",
   "metadata": {},
   "source": [
    "Now that we have a feel for achieving the desired sensitivity, we can go out to the simulated test range to refine our design to make tracking as easy as possible. Here, we will manually track one known airplane, while being able to change our radar parameters. The test flight pattern is below:"
   ]
  },
  {
   "cell_type": "code",
   "execution_count": null,
   "id": "cf196a05-f8de-479c-84a1-67a6b2c8f440",
   "metadata": {
    "jupyter": {
     "source_hidden": true
    },
    "tags": []
   },
   "outputs": [],
   "source": [
    "test_tgt = ex.ex_5_1_3a()"
   ]
  },
  {
   "cell_type": "markdown",
   "id": "db57a190-a591-41c9-ace2-bbc27e1c22aa",
   "metadata": {},
   "source": [
    "The interactive example of the test radar is below. Make sure to dial in your chosen design from above and note that you can use the *<font color=\"DarkBlue\">Reset</font>* button to return the target to its starting position. Some things to consider:\n",
    "\n",
    "- **Resolution**: For routes that are very close to each other, range and angle resolution will be important to discern separate targets. Recall what radar design parameters affect these values. SNR values when two targets are unresolved will not be reliable. \n",
    "- **Scan Rate**: Faster scan rates allow for more chances to observe targets and characterize their motion.\n",
    "\n",
    "Now, iterate upon your original design to prepare for manual tracking of aircraft."
   ]
  },
  {
   "cell_type": "code",
   "execution_count": null,
   "id": "e27b5ca1-eea7-415b-8c00-ae990d1e4e90",
   "metadata": {
    "jupyter": {
     "source_hidden": true
    },
    "tags": []
   },
   "outputs": [],
   "source": [
    "ex.ex_5_1_3b(test_tgt)"
   ]
  },
  {
   "cell_type": "markdown",
   "id": "10db5daf-f0d1-445d-ab7e-87b5e31c77cc",
   "metadata": {},
   "source": [
    "Now it is time to lock in our design, build our radar, and track some airplanes."
   ]
  },
  {
   "cell_type": "markdown",
   "id": "b51be848-b77e-4cfd-8b5d-03b45577e9b8",
   "metadata": {},
   "source": [
    "### Flight Test"
   ]
  },
  {
   "cell_type": "markdown",
   "id": "99500ed8-764c-4ea6-bcf4-817c74c00891",
   "metadata": {},
   "source": [
    "In the interactive example below, set your design decisions you made at the simulated test range. Progress through each radar scan, and, as you identify a plane and its trajectory, log it below. Note that you will only get one pass for each time you run the notebook, so proceed through the scans carefully. Here are a few tips:\n",
    "\n",
    "- Make sure to use the *<font color=\"DarkBlue\">Pulse Azimuth</font>* slider to estimate the peak SNR of a target.\n",
    "\n",
    "- It will save time to derive a reference SNR for your chosen system, i.e., calculate the reference SNR, $\\mathrm{SNR}_0$ , for a target with RCS $\\sigma_0 = 0~\\mathrm{dBsm}$ at a range of $r_0 = 5~\\mathrm{km}$ and use the RCS estimator formula (also in the [Reference](Reference.ipynb)):\n",
    "\n",
    "$$\n",
    "\\hat{\\sigma} = \\frac{\\mathrm{SNR}}{\\mathrm{SNR}_0} \\cdot \\left(\\frac{\\hat{r}}{r_0}\\right)^4 \\cdot {\\sigma_0}\n",
    "$$\n",
    "\n",
    "- Remember to account for integration in your reference SNR calculation\n",
    "\n",
    "For reference, here are the expected flight paths:"
   ]
  },
  {
   "cell_type": "code",
   "execution_count": null,
   "id": "3e158873-b1f5-4703-b31c-e072a6a01934",
   "metadata": {
    "jupyter": {
     "source_hidden": true
    },
    "tags": []
   },
   "outputs": [],
   "source": [
    "ex.ex_5_1_4a(routes, targets)"
   ]
  },
  {
   "cell_type": "markdown",
   "id": "ff1da4e1-a6cc-4e3a-b181-4810b2322110",
   "metadata": {},
   "source": [
    "Here is the radar display. Good luck!"
   ]
  },
  {
   "cell_type": "code",
   "execution_count": null,
   "id": "0e54471e-8dd3-4a2c-b8f5-cff474ea64ea",
   "metadata": {
    "jupyter": {
     "source_hidden": true
    },
    "tags": []
   },
   "outputs": [],
   "source": [
    "ex.ex_5_1_4b(routes, targets)"
   ]
  },
  {
   "cell_type": "markdown",
   "id": "6ee0f57a-609d-4096-a3f0-6070d1350367",
   "metadata": {},
   "source": [
    "### Air Traffic Log"
   ]
  },
  {
   "cell_type": "markdown",
   "id": "b9787789-c46a-4258-86e6-6671dabc6d52",
   "metadata": {},
   "source": [
    "Place your estimated route numbers below:"
   ]
  },
  {
   "cell_type": "code",
   "execution_count": null,
   "id": "71197793-2fe7-477f-a404-77ed2f01a219",
   "metadata": {
    "jupyter": {
     "source_hidden": true
    },
    "tags": []
   },
   "outputs": [],
   "source": [
    "qz.quiz_5_1_5(targets)"
   ]
  },
  {
   "cell_type": "code",
   "execution_count": null,
   "id": "1ac99694-2ad8-4e5f-87b3-df9e03ffd2ca",
   "metadata": {
    "tags": []
   },
   "outputs": [],
   "source": [
    "# Scratch space"
   ]
  },
  {
   "cell_type": "markdown",
   "id": "5d1c4061-afaa-4253-8e5d-f0a192262843",
   "metadata": {},
   "source": [
    "Feel free to restart the notebook using the *<font color=\"DarkBlue\">Run All</font>* button <img width=\"18px\" src=\"img/run_all_icon.png\"> and try again. If you think you identified the right aircraft but had issues with the estimated routes, double-check your reference SNR calculation."
   ]
  },
  {
   "cell_type": "markdown",
   "id": "42250c7a-29e8-4ba6-8868-20aec75a6de4",
   "metadata": {},
   "source": [
    "## Summary"
   ]
  },
  {
   "cell_type": "markdown",
   "id": "0c53316f-fc1e-4acb-b205-c9d2a2069c81",
   "metadata": {},
   "source": [
    "In our final lab, we focused on two activities to exercise our knowledge up to this point:\n",
    "\n",
    "- Review the fundamentals with a series of quizzes\n",
    "- Design a radar system to track air traffic\n",
    "\n",
    "Designing a radar system with a notional budget emphasizes the different ways that resolution and signal-to-noise ratio can be improved."
   ]
  },
  {
   "cell_type": "markdown",
   "id": "d6703bbe-483d-459c-9595-f5151953516b",
   "metadata": {},
   "source": [
    "## Footnotes"
   ]
  },
  {
   "cell_type": "markdown",
   "id": "3a852216-878d-42d9-9adc-edd98f7213fd",
   "metadata": {},
   "source": [
    "n/a"
   ]
  },
  {
   "cell_type": "markdown",
   "id": "402b283e-2d3b-44d6-9634-8c40f1e3f471",
   "metadata": {},
   "source": [
    "## References"
   ]
  },
  {
   "cell_type": "markdown",
   "id": "657805d5-a3b7-4d52-a1cd-9f9d672b8eef",
   "metadata": {},
   "source": [
    "n/a"
   ]
  }
 ],
 "metadata": {
  "kernelspec": {
   "display_name": "Python 3",
   "language": "python",
   "name": "python3"
  },
  "language_info": {
   "codemirror_mode": {
    "name": "ipython",
    "version": 3
   },
   "file_extension": ".py",
   "mimetype": "text/x-python",
   "name": "python",
   "nbconvert_exporter": "python",
   "pygments_lexer": "ipython3",
   "version": "3.8.10"
  }
 },
 "nbformat": 4,
 "nbformat_minor": 5
}
