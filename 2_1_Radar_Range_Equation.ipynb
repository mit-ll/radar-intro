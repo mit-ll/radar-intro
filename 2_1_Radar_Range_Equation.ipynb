{
 "cells": [
  {
   "cell_type": "markdown",
   "id": "22c9caa7-8af2-4964-998f-bedf8f74d5c7",
   "metadata": {},
   "source": [
    "# Lab 2.1: Radar Range Equation"
   ]
  },
  {
   "cell_type": "code",
   "execution_count": null,
   "id": "66b35671-ad11-4f0a-bcd1-7774f30d2fc7",
   "metadata": {
    "tags": [
     "remove-input"
    ]
   },
   "outputs": [],
   "source": [
    "%matplotlib widget\n",
    "import rad.css as css\n",
    "import rad.example as ex\n",
    "import rad.quiz as qz\n",
    "from rad.const import c, k\n",
    "from rad.radar import to_db, from_db, deg2rad, rad2deg\n",
    "from math import sqrt, sin, asin, cos, acos, tan, atan2, pi, log, log10\n",
    "css.add_custom_css()"
   ]
  },
  {
   "cell_type": "markdown",
   "id": "bfd7aae2-3bb5-4a01-8065-aa8afbf904f0",
   "metadata": {},
   "source": [
    "**Reminders**: \n",
    "\n",
    "- Hit the *<font color=\"DarkBlue\">Run All</font>* button <img width=\"18px\" src=\"img/run_all_icon.png\"> button above before continuing\n",
    "- Useful formulae and definitions are available in [Reference](Reference.ipynb)"
   ]
  },
  {
   "cell_type": "markdown",
   "id": "6971bc50-70ee-4b48-9bff-b90bd621da99",
   "metadata": {},
   "source": [
    "In the previous lesson, we saw how to use a ranging sensor to find targets and coarsely estimate their range and angle. One major step in this process was **detection**, or the acknowledgement that an target echo has been received. In real radar systems, detection is complicated by the fact that there is, inevitably, noise in the system. This means for an echo to be detectable, its strength needs to be greater than the strength of the noise."
   ]
  },
  {
   "cell_type": "markdown",
   "id": "eabc1d30-3c95-4b27-9802-7d6f82d1edb9",
   "metadata": {},
   "source": [
    "Below you can see a notional received signal with an echo (in **black**) located at a delay of $\\tau = 50~\\mathrm{ms}$ and noise (in **<font color=\"Red\">red</font>**). The echo is very strong compared to the noise, so we can say with confidence that an echo has been received at the moment. "
   ]
  },
  {
   "cell_type": "code",
   "execution_count": null,
   "id": "374888ad-dd31-4607-8d0f-67e3a7a80272",
   "metadata": {
    "tags": [
     "remove-input"
    ]
   },
   "outputs": [],
   "source": [
    "ex.ex_2_1_1a()"
   ]
  },
  {
   "cell_type": "markdown",
   "id": "c1c82898-306b-4393-8833-d0512568ce24",
   "metadata": {},
   "source": [
    "However, in the following plot, the echo is about the same strength as the noise. In this case, it will be very difficult to say with certainty that there was a detection for the second echo."
   ]
  },
  {
   "cell_type": "code",
   "execution_count": null,
   "id": "b0278543-41b9-4a03-b73d-523163da6a37",
   "metadata": {
    "tags": [
     "remove-input"
    ]
   },
   "outputs": [],
   "source": [
    "ex.ex_2_1_1b()"
   ]
  },
  {
   "cell_type": "markdown",
   "id": "317c9728-5693-4ef2-b735-9af4c9842a89",
   "metadata": {},
   "source": [
    "In this section, we will talk about how to calculate the strength of the target echo along with the strength of the noise; this allows us to know under what circumstances we can expect to find targets. For instance, if we have an inexpensive system with very powerful noise, we can expect it to be difficult to find any echoes except those that are very strong. The actual process of detection will be covered in [Lab 3.2: Detection](3_2_Detection.ipynb)."
   ]
  },
  {
   "cell_type": "markdown",
   "id": "3426d85e-aee0-466f-95d0-c827e7a90935",
   "metadata": {},
   "source": [
    "## Signal-to-Noise Ratio"
   ]
  },
  {
   "cell_type": "markdown",
   "id": "1e75fef8-471c-4bd0-8543-8f21f367e64c",
   "metadata": {},
   "source": [
    "The most common way to quantify how strong a signal is compared to noise is the **signal-to-noise ratio**<sup>[1](#foot_snr)</sup> (SNR). This is defined as\n",
    "\n",
    "$$\n",
    "\\mathrm{SNR}=\\frac{\\mathrm{Signal~Energy}}{\\mathrm{Average~Noise~Energy}} \n",
    "$$\n",
    "\n",
    "Echoes with *high* SNR will be easy to detect, echoes with *low* SNR will be difficult to discern from the noise. In fact, SNR is a very important measure across many fields of engineering, e.g., communications, sensing. You will tend to see it any time there is some signal of interest that is trying to be estimated in the presence of noise. Note that the noise energy term is an average value because noise is inherently random and will not have a constant energy. \n",
    "\n",
    "**Note:** Energy is measured in joules ($\\mathrm{J}$), and SNR is a unitless value that is most often presented in decibels ($\\mathrm{dB}$).\n",
    "\n",
    "Below is an interactive plot showing different example received signals where you can change the signal energy and the noise energy (the noise is drawn randomly). Try this:\n",
    "\n",
    "- Single-click the *<font color=\"DarkBlue\">Noise Energy</font>* slider to select it\n",
    "- Tap the right arrow on your keyboard to slowly increase the noise energy\n",
    "\n",
    "As you watch the noise energy increase and SNR decrease, try and get a feel for where it would start being difficult to confidently separate the signal from the noise. "
   ]
  },
  {
   "cell_type": "code",
   "execution_count": null,
   "id": "9583f368-1c19-4f24-bda7-a5834ecc8cd8",
   "metadata": {
    "tags": [
     "remove-input"
    ]
   },
   "outputs": [],
   "source": [
    "ex.ex_2_1_2()"
   ]
  },
  {
   "cell_type": "markdown",
   "id": "83a72fc5-cea0-43ed-b77c-4e7fe91e0421",
   "metadata": {},
   "source": [
    "***"
   ]
  },
  {
   "cell_type": "markdown",
   "id": "22fd4ee2-019d-4dde-9390-08202738b92c",
   "metadata": {},
   "source": [
    "### Question 1"
   ]
  },
  {
   "cell_type": "markdown",
   "id": "14302d2f-17d3-48eb-a8ac-8b6b88308eb2",
   "metadata": {},
   "source": [
    "**(a)** What is the SNR if the true received signal has an energy of $100~\\mathrm{J}$, and the average noise energy is $5.3~\\mathrm{J}$?"
   ]
  },
  {
   "cell_type": "code",
   "execution_count": null,
   "id": "ede39ab4-3343-4659-9e0b-a20993955733",
   "metadata": {
    "tags": [
     "remove-input"
    ]
   },
   "outputs": [],
   "source": [
    "qz.quiz_2_1_1a()"
   ]
  },
  {
   "cell_type": "code",
   "execution_count": null,
   "id": "e4377d23-ff68-4758-aa89-300ea7b37df0",
   "metadata": {},
   "outputs": [],
   "source": [
    "# Scratch space"
   ]
  },
  {
   "cell_type": "markdown",
   "id": "ba826cb2-628f-4c17-a4e2-fa31737ff30e",
   "metadata": {},
   "source": [
    "**(b)** If the SNR of a signal is measured to be $15~\\mathrm{dB}$ and the average noise energy is known to be $2.2~\\mathrm{J}$, what is the signal energy?"
   ]
  },
  {
   "cell_type": "code",
   "execution_count": null,
   "id": "ea82f0a2-fc90-4559-be3c-c78badccd5ed",
   "metadata": {
    "tags": [
     "remove-input"
    ]
   },
   "outputs": [],
   "source": [
    "qz.quiz_2_1_1b()"
   ]
  },
  {
   "cell_type": "code",
   "execution_count": null,
   "id": "046d3b35-0a06-46f6-877f-849623aa1ccc",
   "metadata": {},
   "outputs": [],
   "source": [
    "# Scratch space"
   ]
  },
  {
   "cell_type": "markdown",
   "id": "46fbfc07-c54b-4326-9af4-dae0d2d0bce5",
   "metadata": {},
   "source": [
    "***"
   ]
  },
  {
   "cell_type": "markdown",
   "id": "7e0b9fc4-bc0d-4af3-8e87-0dceea18fadc",
   "metadata": {},
   "source": [
    "We can now focus on trying to derive the SNR of a target echo for a radar system; this will be prove to be incredibly useful in basic radar design. Fair warning: this will be the most math-heavy portion of the course."
   ]
  },
  {
   "cell_type": "markdown",
   "id": "b7130184-392a-4969-b576-b2281607e11a",
   "metadata": {},
   "source": [
    "## Radar Range Equation"
   ]
  },
  {
   "cell_type": "markdown",
   "id": "220e58df-f832-40ad-ad53-339454bccad2",
   "metadata": {},
   "source": [
    "One of the basic tools in radar design is called the **radar range equation**, which derives the signal-to-noise ratio of a radar system as a function of high-level parameters, e.g., transmit energy, transmit frequency, transmit gain, receive gain. In this section, we will step through its derivation together. To begin, we will start with a more general result applying to all electromagnetic transmissions and receptions."
   ]
  },
  {
   "cell_type": "markdown",
   "id": "cbe7fb0c-6679-48f9-88ad-9273accaf0fa",
   "metadata": {},
   "source": [
    "### Energy and Instantaneous Power"
   ]
  },
  {
   "cell_type": "markdown",
   "id": "428ee5f5-a212-4ef0-a046-e57a5b52ed59",
   "metadata": {},
   "source": [
    "Before we get to the evolution of a radar transmission through space, we need to first dive a little deeper into electromagnetic emissions. As discussed in [Lab 1.2: Introduction to Radar](1_2_Introduction_to_Radar.ipynb), a radar transmits a pulse of electromagnetic energy and listens for echoes reflected by targets. It creates the pulse by using a controlled electrical current to drive an antenna and generate a radiated electric field; the converted energy is then contained in the electric field wave as it propagates through space. \n",
    "\n",
    "The electrical signal used to generate the propagated wave is commonly called the **waveform** and is often defined as a voltage with units of volts ($\\mathrm{V}$). We can see a sinusoidal waveform in the figure below:\n",
    "\n",
    "<div style=\"text-align: center\"> <img src=\"img/waveform.png\" justify=\"center\" width=\"600px\"></img> </div>\n",
    "\n",
    "Design of radar waveforms will be discussed in [Lab 3.1: Radar Transmissions and Receptions](3_1_Radar_Transmissions_and_Receptions.ipynb).\n",
    "\n",
    "Once the wave has been generated by the antenna, it is now an electric field as it moves through space; electric fields are measured in units of volts per meter ($\\mathrm{V/m}$). Here is a snapshot in time of a sinusoidal wave (note that it is plotted versus range):\n",
    "\n",
    "<div style=\"text-align: center\"> <img src=\"img/wave.png\" justify=\"center\" width=\"600px\"></img> </div>\n",
    "\n",
    "Now, to study the energy imparted to the target by a wave, we can study the **instantaneous power** of the wave<sup>[2](#foot_power)</sup>, $P$ , which quantifies the rate of energy transfer contained in a short segment of the wave; power is measured in watts ($\\mathrm{W}$). Put another way: the amount of energy transferred by a wave segment with instantaneous power $P$ and duration $\\epsilon$ is approximately $\\mathcal{E} = P \\cdot \\epsilon$. The instantaneous power of the sinusoidal wave above is shown the figure below:\n",
    "\n",
    "<div style=\"text-align: center\"> <img src=\"img/power.png\" justify=\"center\" width=\"550px\"></img> </div>\n",
    "\n",
    "The total energy, $\\mathcal{E}$ , in the wave can be obtained by partitioning the entire wave into small segments and then adding up the energy contributions from each segment over the duration of the wave. (Mathematically, this is expressed as an integral.)\n",
    "\n",
    "Since we are interested in the received energy, $\\mathcal{E}_r$ , from a target transmission, we will first derive the received power, $P_r$ , due to a small segment of the transmitted pulse. Then, we will sum all of the contributions from the different segments on the pulse to obtain the total received energy, $\\mathcal{E}_r$."
   ]
  },
  {
   "cell_type": "markdown",
   "id": "74ef829f-7955-4ca6-870b-7169e38482ea",
   "metadata": {},
   "source": [
    "### Friis Transmission Equation"
   ]
  },
  {
   "cell_type": "markdown",
   "id": "b4ba3ef4-2b94-424d-afce-5ba8c53d9103",
   "metadata": {},
   "source": [
    "To see how the power of the transmit wave segment varies on its way to and from the target, we will use **Friis transmission equation**<sup>[[1]](#ref_friis)</sup>. In fact, our final answer for this section will simply be two applications of the Friis transmission equation (with a slight variation at the end).\n",
    "\n",
    "The Friis transmission equation derives how much instantaneous power is transferred from a transmit aperture to a receive aperture at a different location. The system setup is illustrated in the following figure:\n",
    "\n",
    "<div style=\"text-align: center\"> <img src=\"img/friis_0.png\" justify=\"center\" width=\"600px\"></img></div>\n",
    "\n",
    "Consider focusing in on a small segment of the transmitted wave whose instantaneous power at time of transmission is $P_t$ (see figures below). \n",
    "\n",
    "<div style=\"text-align: center\"> <img src=\"img/wave_seg.png\" justify=\"center\" width=\"340px\"></img> <img src=\"img/power_seg.png\" justify=\"center\" width=\"350px\"></img></div>\n",
    "\n",
    "As the short segment propagates into space, it spreads out in all directions on a spherical shell of energy characterized by a **power density** (denoted as $\\rho$); a *power density* tells us how much power a receive aperture would accumulate *per unit area*. For instance, if a receive aperture has an area $A_r = 2~\\mathrm{m^2}$ and it observes an incoming wave segment with a transmitted power density of $\\rho = 10~\\mathrm{W/m^2}$, then it will garner a received instantaneous power of \n",
    "\n",
    "$$\n",
    "\\begin{align}\n",
    "P_r &= A_r \\cdot \\rho\\\\\n",
    "&= 20~\\mathrm{W}\n",
    "\\end{align}\n",
    "$$  \n",
    "\n",
    "In the following figure, we can now see the power density due to the transmitted wave segment.\n",
    "\n",
    "<div style=\"text-align: center\"> <img src=\"img/friis_1.png\" justify=\"center\" width=\"600px\"></img></div>\n",
    "\n",
    "To derive an expression for the power density, we first note that the energy (and instantaneous power) of transmission has to be conserved as it spreads out in space as a spherical shell. Thus, if we were to add up all of the power on the shell, it should equal the original power of the wave segment. Noting that the surface area of a sphere of radius $r$ is $S = 4\\pi r^2$, this means the transmitted power density, $\\rho_t$ , should be of the form:\n",
    "\n",
    "$$\n",
    "\\begin{align}\n",
    "\\rho_t &= \\frac{P_t}{S}\\\\\n",
    "&= \\frac{P_t}{4\\pi r^2}\n",
    "\\end{align}\n",
    "$$\n",
    "\n",
    "where $S$ is the surface area of the sphere. Note that division by the surface area of a sphere is exactly the *propagation loss* referred to in [Lab 1.2: Introduction to Radar](1_2_Introduction_to_Radar.ipynb), just now in mathematical form. We can revisit the interactive example showing how the amplitude (and, thus, instantaneous power) of the wave diminishes as it travels outward from the transmit aperture:"
   ]
  },
  {
   "cell_type": "code",
   "execution_count": null,
   "id": "3fef8f9c-103c-4ed5-abc0-9554e5dbed76",
   "metadata": {
    "jupyter": {
     "source_hidden": true
    },
    "tags": []
   },
   "outputs": [],
   "source": [
    "ex.ex_2_1_3()"
   ]
  },
  {
   "cell_type": "markdown",
   "id": "383a0cf4-21ae-4e06-ae3b-907a0b9890bf",
   "metadata": {},
   "source": [
    "Now, the last thing to note is that since transmission uses an aperture, it will concentrate its energy in a direction characterized by its transmit gain, $G_t(\\theta)$. Recalling from [Lab 1.2: Introduction to Radar](1_2_Introduction_to_Radar.ipynb), the energy in azimuth angle $\\theta$ is $\\mathcal{E}_t G_t(\\theta)$, which means its power in that direction is $P_t G_t(\\theta)$. Therefore, accounting for the transmit gain, the transmitted power density, $\\rho_t$, at range $r$ due to a wave segment is\n",
    "\n",
    "$$\n",
    "\\rho_t = \\frac{P_t G_t(\\theta)}{4 \\pi r^2}\n",
    "$$\n",
    "\n",
    "Finally, if we let the receive aperture have an area of $A_r$ and it is at a range $r$ from the transmit aperture, the total received power, $P_r$, is\n",
    "\n",
    "$$\n",
    "\\begin{align}\n",
    "P_r &= A_r \\cdot \\rho_t\\\\\n",
    "&= \\frac{P_t G_t(\\theta) A_r}{4 \\pi r^2}\n",
    "\\end{align}\n",
    "$$\n",
    "\n",
    "This equation is known as the Friis transmission equation:\n",
    "\n",
    "$$\n",
    "P_r = \\frac{P_t G_t(\\theta) A_r}{4 \\pi r^2}\n",
    "$$\n",
    "\n",
    "It tells use how much power can be aggregated by a received aperture of area $A_r$ at range $r$ and angle $\\theta$ from a transmit aperture with transmit power $P_t$ and transmit gain $G_t(\\theta)$.\n",
    "\n",
    "The following interactive example shows how the received power, $P_r$ , varies using transmissions from a dish radar with selectable parameters. Note the plot shows received power, $P_r$ , as a function of range, $r$ , and receive aperture area, $A_r$. Receive aperture area is shown in $\\mathrm{dBsm}$, which is the decibel version of square meters ($\\mathrm{m^2}$)."
   ]
  },
  {
   "cell_type": "code",
   "execution_count": null,
   "id": "61256329-0936-468e-b534-87abeb95d5a2",
   "metadata": {
    "tags": [
     "remove-input"
    ]
   },
   "outputs": [],
   "source": [
    "ex.ex_2_1_4()"
   ]
  },
  {
   "cell_type": "markdown",
   "id": "ebf7639b-4864-4b31-a5f7-292df8eb4bad",
   "metadata": {},
   "source": [
    "From the example, we can see the received power *increases* with:\n",
    "\n",
    "* Increasing receive aperture area, $A_r$, due to more accumulated power\n",
    "* Transmit frequency, $f$, due to higher transmit and receive gain\n",
    "* Dish radius, due to higher transmit and receive gain\n"
   ]
  },
  {
   "cell_type": "markdown",
   "id": "beadd6a9-4a63-4054-a83a-ea62da1909a9",
   "metadata": {},
   "source": [
    "***"
   ]
  },
  {
   "cell_type": "markdown",
   "id": "ba30c38b-5089-4330-9bc9-b49941d5a0b1",
   "metadata": {},
   "source": [
    "**Tip**: When entering in fractions with a lot of variables, it is often helpful to separate the numerator and the denominator. For instance, if we wanted to calculate $$y = \\frac{a\\cdot b}{d\\cdot f}$$ where $a = 1$, $b = 2$, $d = 3$, and $f = 4$, we could use the following code cell:"
   ]
  },
  {
   "cell_type": "code",
   "execution_count": null,
   "id": "542b8b3f-a516-48c7-9bf6-afaf8687214b",
   "metadata": {},
   "outputs": [],
   "source": [
    "a = 1\n",
    "b = 2\n",
    "d = 3\n",
    "f = 4\n",
    "top = a*b\n",
    "bottom = d*f\n",
    "y = top/bottom\n",
    "print(y)"
   ]
  },
  {
   "cell_type": "markdown",
   "id": "c1e92971-b9ba-4ce2-994f-801fdd89a89f",
   "metadata": {},
   "source": [
    "***\n",
    "***"
   ]
  },
  {
   "cell_type": "markdown",
   "id": "7d319590-7de4-43e7-9c3d-12048ec4d42e",
   "metadata": {},
   "source": [
    "### Question 2"
   ]
  },
  {
   "cell_type": "markdown",
   "id": "f63cb6f3-3856-4d0e-aab6-d55933f4205f",
   "metadata": {},
   "source": [
    "**(a)** What is the received power, $P_r$ , for a receive aperture of area $A_r = 10~\\mathrm{m^2}$ at range $r = 50~\\mathrm{km}$ for a transmission with power $P_t =10~\\mathrm{kW}$ and transmit gain of $G_t(\\theta)=35~\\mathrm{dB}$?"
   ]
  },
  {
   "cell_type": "code",
   "execution_count": null,
   "id": "93eeb7cb-adcb-4cb0-a545-d127772cea43",
   "metadata": {
    "tags": [
     "remove-input"
    ]
   },
   "outputs": [],
   "source": [
    "qz.quiz_2_1_2a()"
   ]
  },
  {
   "cell_type": "code",
   "execution_count": null,
   "id": "78b64440-a1a0-4a60-9a45-509c3dce314e",
   "metadata": {},
   "outputs": [],
   "source": [
    "# Scratch space"
   ]
  },
  {
   "cell_type": "markdown",
   "id": "0aba8e17-c7c3-4ec3-b9ea-19bfcfcb6f57",
   "metadata": {},
   "source": [
    "**(b)** If the transmit power is $P_t = 100~\\mathrm{kW}$ and transmit frequency is $f = 3.5~\\mathrm{GHz}$, what transmit dish radius is needed to achieve a received power of $P_r = 1~\\mathrm{W}$ with a receive aperture at range $r = 10~\\mathrm{km}$ and aperture area $A_r = 5~\\mathrm{m^2}$? **Hint**: You will need that the aperture area of a dish (i.e., circular) is $A = \\pi R^2$ where $R$ is the dish radius."
   ]
  },
  {
   "cell_type": "code",
   "execution_count": null,
   "id": "9feee3a8-13e6-4c62-9602-7b4638827a20",
   "metadata": {
    "tags": [
     "remove-input"
    ]
   },
   "outputs": [],
   "source": [
    "qz.quiz_2_1_2b()"
   ]
  },
  {
   "cell_type": "code",
   "execution_count": null,
   "id": "1c53bfce-7ea1-4e81-93ec-12605efe6f83",
   "metadata": {},
   "outputs": [],
   "source": [
    "# Scratch space"
   ]
  },
  {
   "cell_type": "markdown",
   "id": "a9fca367-3c5c-4ca6-8b96-d1f331a8f228",
   "metadata": {},
   "source": [
    "***"
   ]
  },
  {
   "cell_type": "markdown",
   "id": "214c5afb-85ed-4ae2-a6b0-7c6029d7eecb",
   "metadata": {},
   "source": [
    "Now, we will use the Friis transmission equation to derive the received echo power at the radar resulting from a transmission wave segment. More specifically, we are going to trace the path followed by this chosen segment from its origin at transmit, to the target, and back to the radar—this is broken into two applications of the equation:\n",
    "* Power that a target sees from a transmission\n",
    "* Received power after the target reflects the transmission"
   ]
  },
  {
   "cell_type": "markdown",
   "id": "bea28cc2-0152-4362-974f-901676e544f6",
   "metadata": {},
   "source": [
    "### Incident Power at Target"
   ]
  },
  {
   "cell_type": "markdown",
   "id": "5eb20dd9-bd6d-4353-a33d-40e4176399d1",
   "metadata": {},
   "source": [
    "From the derivation of the Friis transmission equation, we know that the instantaneous power density of the transmitted wave segment at the target, $\\rho_t$ , for a radar with transmit gain $G_t(\\theta)$ is\n",
    "\n",
    "$$\n",
    "\\rho_t = \\frac{P_t G_t(\\theta)}{4\\pi r^2}\n",
    "$$\n",
    "\n",
    "Thus, if the target is at range $r$ (where it is assumed that the range is much greater than the size of the target) and azimuth angle $\\theta$, it sees the transmission as an incoming wall of electromagnetic energy (commonly called a *plane wave*) with power density $\\rho_t$. "
   ]
  },
  {
   "cell_type": "markdown",
   "id": "30e47e7c-8788-48a6-8561-23639f00096a",
   "metadata": {},
   "source": [
    "The next question to answer is how much energy is captured by the target and reflected back toward the radar. This relationship is quantified by a target's **radar cross section** (RCS), $\\sigma$ , which is a measure of a target's ability to reflect power back in the direction of the receiving sensor. As a means of simplifying target description, it is modeled as having a hypothetical receive aperture that collects an incoming wave over a certain area and then immediately retransmits the aggregated power equally in every direction (see figure below). The *<font color=\"BlueViolet\">area of the hypothetical receive aperture is its radar cross section</font>*; because it a measure of area, its unit are in square meters ($\\mathrm{m}^2$) and is commonly presented using its decibel analog, $\\mathrm{dBsm}$.\n",
    "\n",
    "<div style=\"text-align: center\"> <img src=\"img/rcs_model.png\" justify=\"center\" width=\"450px\"></img> </div>\n",
    "\n",
    "Roughly, the larger a target, the larger its RCS; however, it is important to note that RCS does not necessarily have a direct relationship with the actual physical area of the target; for example, stealth planes are quite large, but their design is chosen to minimize RCS. The larger the RCS, the stronger the echo, and the more detectable an object is. \n",
    "\n",
    "Using the definition of RCS, $\\sigma$ , and the Friis transmission equation, the amount of instantaneous power incident on the target, $P_i$ , is:\n",
    "\n",
    "$$\n",
    "\\begin{align}\n",
    "P_i &= \\rho_t \\cdot \\sigma\\\\\n",
    "&= \\frac{P_t G_t(\\theta)\\sigma}{4\\pi r^2}\n",
    "\\end{align}\n",
    "$$"
   ]
  },
  {
   "cell_type": "markdown",
   "id": "ed52394b-af91-464e-82cd-f827f5b87e31",
   "metadata": {},
   "source": [
    "***"
   ]
  },
  {
   "cell_type": "markdown",
   "id": "7b6fa82d-6d42-4a9f-bab9-43c1a95a26f0",
   "metadata": {},
   "source": [
    "### Question 3"
   ]
  },
  {
   "cell_type": "markdown",
   "id": "0a706fb2-7eee-4c44-b703-ab1238086d34",
   "metadata": {},
   "source": [
    "**(a)** What is the incident power, $P_i$ , at a target of range $r = 50~\\mathrm{km}$ and radar cross section $\\sigma = 5~\\mathrm{dBsm}$, if the originating radar has transmit gain $G_t(\\theta) = 30~\\mathrm{dB}$ and transmit power $P_t = 150~\\mathrm{kW}$?"
   ]
  },
  {
   "cell_type": "code",
   "execution_count": null,
   "id": "5efb38b9-4a98-4272-bed8-4afd94cb76b8",
   "metadata": {
    "tags": [
     "remove-input"
    ]
   },
   "outputs": [],
   "source": [
    "qz.quiz_2_1_3a()"
   ]
  },
  {
   "cell_type": "code",
   "execution_count": null,
   "id": "b9e22a2d-9a2f-484a-a8d9-55c20c0e56d5",
   "metadata": {},
   "outputs": [],
   "source": [
    "# Scratch space"
   ]
  },
  {
   "cell_type": "markdown",
   "id": "6847374d-ebce-4ebb-9705-8a575e7eb017",
   "metadata": {},
   "source": [
    "**(b)** If a radar has a transmit gain of $G_t(\\theta) = 25~\\mathrm{dB}$, transmit power of $P_t = 500~\\mathrm{kW}$, and incident power of a target with RCS $\\sigma = 0~\\mathrm{dBsm}$ is $P_i = 0.1~\\mathrm{mW}$, what is the range, $r$ , of the target?"
   ]
  },
  {
   "cell_type": "code",
   "execution_count": null,
   "id": "ca283bcc-2670-4ed4-82fc-8046695531d1",
   "metadata": {
    "tags": [
     "remove-input"
    ]
   },
   "outputs": [],
   "source": [
    "qz.quiz_2_1_3b()"
   ]
  },
  {
   "cell_type": "code",
   "execution_count": null,
   "id": "2c4cf2a9-eab3-47f1-aa37-f5fd20e4cab2",
   "metadata": {},
   "outputs": [],
   "source": [
    "# Scratch space"
   ]
  },
  {
   "cell_type": "markdown",
   "id": "d735e457-2dfb-418f-ad33-8f96ef490053",
   "metadata": {},
   "source": [
    "***"
   ]
  },
  {
   "cell_type": "markdown",
   "id": "18ec2faa-989c-48ca-825a-396821a8ff76",
   "metadata": {},
   "source": [
    "### Received Power at Radar"
   ]
  },
  {
   "cell_type": "markdown",
   "id": "e75fc588-0cbe-46b4-b611-6df6099130aa",
   "metadata": {},
   "source": [
    "Due to how the target is modeled using the RCS, the reflected power sent back toward the radar is the same as the incident power, $P_i$. Now, we can use the the fact that the target has unit gain (reradiates in all directions equally), the area of the radar receive aperture, $A_r$ , and the Friis transmission equation one more time and get the received power, $P_r$ , due to the reflected wave segment:\n",
    "\n",
    "$$\n",
    "\\begin{align}\n",
    "P_r &= \\frac{P_i A_r}{4\\pi r^2}\n",
    "\\end{align}\n",
    "$$\n",
    "\n",
    "Substituting in the form of the incident power, $P_i$ , derived above:\n",
    "\n",
    "$$\n",
    "P_r =\\frac{P_t G_t(\\theta) \\sigma A_r}{(4\\pi)^2 r^4}\n",
    "$$\n",
    "\n",
    "This is very close to what we want: received echo power as a function of radar transmit parameters. However, there is one more small manipulation that makes it more practical to use. It turns out that the area of the receive aperture that is used in this equation is typically not equal to the *actual* geometric area due to realistic imperfections in the system. Due to this, it is easier to create a form that depends on receive gain, $G_r(\\theta)$ , (much easier to measure practically) than receive aperture area, $A_r$. This is done by introducing the idea of an **effective aperture area**, $A_e$ , which is the aperture area that would achieve a known gain value. \n",
    "\n",
    "From [Lab 1.2: Introduction to Radar](1_2_Introduction_to_Radar.ipynb), we know that the receive gain, $G_r(\\theta)$ , of an aperture is related to the receive aperture area, $A_r$ , by:\n",
    "\n",
    "$$\n",
    "G_r(\\theta) \\leq \\frac{4\\pi A_r}{\\lambda^2}\n",
    "$$\n",
    "\n",
    "where $\\lambda$ is the transmit wavelength. Making it an equality and rearranging the formula, we can solve for the effective aperture area, $A_e(\\theta)$ , as:\n",
    "\n",
    "$$\n",
    "A_e(\\theta)=\\frac{G_r(\\theta)\\lambda^2}{4\\pi}\n",
    "$$\n",
    "\n",
    "Now, we can replace the receive aperture area, $A_r$ , with the effective received aperture area, $A_e(\\theta)$ , in the received power, $P_r$ , formula above to obtain:\n",
    "\n",
    "$$\n",
    "\\begin{align}\n",
    "P_r &= \\frac{P_t G_t(\\theta) \\sigma A_e(\\theta)}{(4\\pi)^2 r^4}\\\\\n",
    "&= \\frac{P_t G_t(\\theta) G_r(\\theta)\\lambda^2\\sigma}{(4\\pi)^3 r^4}\n",
    "\\end{align}\n",
    "$$\n",
    "\n",
    "The last equation is the **received power form** of the **radar range equation**:\n",
    "\n",
    "$$\n",
    "P_r = \\frac{P_t G_t(\\theta) G_r(\\theta)\\lambda^2\\sigma}{(4\\pi)^3 r^4}\n",
    "$$\n",
    "\n",
    "In the following example, we can see how the received power scales for a dish radar system:"
   ]
  },
  {
   "cell_type": "code",
   "execution_count": null,
   "id": "a84d16f4-6267-4a2a-a884-3ca50016978a",
   "metadata": {
    "tags": [
     "remove-input"
    ]
   },
   "outputs": [],
   "source": [
    "ex.ex_2_1_5()"
   ]
  },
  {
   "cell_type": "markdown",
   "id": "d2890eb2-1456-458f-883a-4b19c3b96a86",
   "metadata": {},
   "source": [
    "Similar to the example used in illustrating the Friis transmission equation, we can see the received power *increases* with:\n",
    "\n",
    "* Increasing target RCS, $\\sigma$, due to more reflected power\n",
    "* Transmit frequency, $f$, due to higher transmit and receive gain\n",
    "* Dish radius, due to higher transmit and receive gain\n",
    "\n",
    "We can also notice how small the power is that is received by a radar system; the value of $P_r = -120~\\mathrm{dBW} = 10^{-12}~\\mathrm{W}$, which is one *picowatt* of power.\n",
    "\n",
    "To obtain the total received energy, $\\mathcal{E}_r$ , due to the entire transmitted wave, we can note that each segment of the transmit waveform will travel the same path, and, thus, experience the same scaling by propagation loss, transmit gain, receive gain, etc. Thus, adding all contributions from transmit wave segments, will give us the **received energy form** of the **radar range equation**:\n",
    "\n",
    "$$\n",
    "\\mathcal{E}_r = \\frac{\\mathcal{E}_t G_t(\\theta) G_r(\\theta)\\lambda^2\\sigma}{(4\\pi)^3 r^4}\n",
    "$$\n",
    "\n",
    "The following interactive example shows how received energy scales with dish radar parameters: "
   ]
  },
  {
   "cell_type": "code",
   "execution_count": null,
   "id": "c52a3994-1623-4e7a-8715-93a74fef153c",
   "metadata": {
    "tags": [
     "remove-input"
    ]
   },
   "outputs": [],
   "source": [
    "ex.ex_2_1_6()"
   ]
  },
  {
   "cell_type": "markdown",
   "id": "4ae0c631-ebb8-4059-ad1d-007cc1f52b7c",
   "metadata": {},
   "source": [
    "***"
   ]
  },
  {
   "cell_type": "markdown",
   "id": "1c1abd30-39a6-47e8-a49e-b9b24f8ae30a",
   "metadata": {},
   "source": [
    "### Question 4"
   ]
  },
  {
   "cell_type": "markdown",
   "id": "2a9da939-e779-4963-bf50-84197b9a7d52",
   "metadata": {},
   "source": [
    "**(a)** What is the received power, $P_r$ , from a target echo with a target at range $r = 100~\\mathrm{km}$ and RCS $\\sigma = 5~\\mathrm{dBsm}$ when using a transmit power of $P_t = 600~\\mathrm{kW}$, transmit and receive gain of $G_t(\\theta) = G_r(\\theta) = 40~\\mathrm{dB}$ and transmit frequency $f = 3~\\mathrm{GHz}$?"
   ]
  },
  {
   "cell_type": "code",
   "execution_count": null,
   "id": "b507f599-82a3-4aeb-8194-c1d4179e2981",
   "metadata": {
    "tags": [
     "remove-input"
    ]
   },
   "outputs": [],
   "source": [
    "qz.quiz_2_1_4a()"
   ]
  },
  {
   "cell_type": "code",
   "execution_count": null,
   "id": "2e7e375c-5d32-4333-a7d4-9710e9b8b9fa",
   "metadata": {},
   "outputs": [],
   "source": [
    "# Scratch space"
   ]
  },
  {
   "cell_type": "markdown",
   "id": "7e111e1a-7591-4c66-8a39-aa4aa306c4d9",
   "metadata": {},
   "source": [
    "**(b)** If the transmit frequency of a radar is $f = 1.3~\\mathrm{GHz}$ and the receive gain is $G_r(\\theta) = 24.3~\\mathrm{dB}$, what is the effective aperture area, $A_e(\\theta)$?"
   ]
  },
  {
   "cell_type": "code",
   "execution_count": null,
   "id": "8c3a50e3-ac54-40b8-8207-0924834525bb",
   "metadata": {
    "tags": [
     "remove-input"
    ]
   },
   "outputs": [],
   "source": [
    "qz.quiz_2_1_4b()"
   ]
  },
  {
   "cell_type": "code",
   "execution_count": null,
   "id": "a4356916-f558-42f6-b29b-060f5a5ac04d",
   "metadata": {},
   "outputs": [],
   "source": [
    "# Scratch space"
   ]
  },
  {
   "cell_type": "markdown",
   "id": "b136dece-9b4a-4ef1-9118-8bf7098c17bf",
   "metadata": {},
   "source": [
    "**(c)** What is the radar cross section, $\\sigma$ , of a target at range $r = 10~\\mathrm{km}$ away from a radar with transmit energy of $\\mathcal{E}_t = \\mathrm{30~J}$, transmit frequency $f = 1.5~\\mathrm{GHz}$, and a transmit and receive gain of $G_t(\\theta) = G_r(\\theta) = 40~\\mathrm{dB}$ if the received energy is $\\mathcal{E}_r = 10~\\mathrm{pJ}$?"
   ]
  },
  {
   "cell_type": "code",
   "execution_count": null,
   "id": "0a2eeddb-b8ae-4e2a-92dc-6b791d2ed80e",
   "metadata": {
    "tags": [
     "remove-input"
    ]
   },
   "outputs": [],
   "source": [
    "qz.quiz_2_1_4c()"
   ]
  },
  {
   "cell_type": "code",
   "execution_count": null,
   "id": "7c0488c3-1409-49ff-a00d-66de08da81c3",
   "metadata": {},
   "outputs": [],
   "source": [
    "# Scratch space"
   ]
  },
  {
   "cell_type": "markdown",
   "id": "477f1a46-063c-4442-9ee1-ab33cea43e29",
   "metadata": {},
   "source": [
    "***"
   ]
  },
  {
   "cell_type": "markdown",
   "id": "837c2bcd-6681-41e0-9212-4ab8a1acd8c8",
   "metadata": {},
   "source": [
    "### Average Noise Energy"
   ]
  },
  {
   "cell_type": "markdown",
   "id": "059bdd48-d4a6-44dd-a5d3-68688c2dc489",
   "metadata": {
    "tags": []
   },
   "source": [
    "Fortunately, average noise energy, $\\mathcal{E}_n$ , is much easier to derive than the received energy, $\\mathcal{E}_r$ . Radar system designs commonly model the aggregate noise due to multiple sources as arising from a single thermal source. In this case, the level of noise in a radar system is completely described by a **system noise temperature**, $T_s$. The higher the noise temperature, the stronger the noise in the system. More specifically, the noise energy term is defined as:\n",
    "\n",
    "$$\n",
    "\\mathcal{E}_n = kT_s\n",
    "$$\n",
    "\n",
    "where $k$ is the Boltzmann constant $1.38064852 \\times 10^{-23}~\\mathrm{J/^\\circ K}$, $T_s$ is the system noise temperature ($\\mathrm{K}$). Note that you can use the Boltzmann constant in your calculations as `k`."
   ]
  },
  {
   "cell_type": "markdown",
   "id": "e32b1ce4-c80d-450c-af54-e7b8eabba84e",
   "metadata": {},
   "source": [
    "***"
   ]
  },
  {
   "cell_type": "markdown",
   "id": "fe62823c-4ead-476d-8637-53414630bad2",
   "metadata": {},
   "source": [
    "### Question 5"
   ]
  },
  {
   "cell_type": "markdown",
   "id": "b02cbcaa-0c66-4e4f-836b-96b600521b36",
   "metadata": {},
   "source": [
    "For a radar with system noise temperature $T_s = 722~\\mathrm{K}$, what is the average noise energy, $\\mathcal{E}_n$?"
   ]
  },
  {
   "cell_type": "code",
   "execution_count": null,
   "id": "4195f810-19ea-4fb7-a89b-e4e89dba876e",
   "metadata": {
    "tags": [
     "remove-input"
    ]
   },
   "outputs": [],
   "source": [
    "qz.quiz_2_1_5()"
   ]
  },
  {
   "cell_type": "code",
   "execution_count": null,
   "id": "2b991684-b946-49aa-9b1b-9cf61513324c",
   "metadata": {},
   "outputs": [],
   "source": [
    "# Scratch space"
   ]
  },
  {
   "cell_type": "markdown",
   "id": "d5f794a8-4d75-4072-83b8-ca8cfe0c4450",
   "metadata": {},
   "source": [
    "***"
   ]
  },
  {
   "cell_type": "markdown",
   "id": "1a617af7-9f1d-488a-8851-4203a4709883",
   "metadata": {},
   "source": [
    "### Radar Signal-to-Noise Ratio"
   ]
  },
  {
   "cell_type": "markdown",
   "id": "02e002e7-191b-4830-93c2-46fb078689c5",
   "metadata": {},
   "source": [
    "Taking both $\\mathcal{E}_r$ and $\\mathcal{E}_n$, we can now derive the **signal-to-noise ratio form** of the **radar range equation**:\n",
    "\n",
    "$$\n",
    "\\mathrm{SNR} = \\frac{\\mathcal{E}_r}{\\mathcal{E}_n} = \\frac{\\mathcal{E}_t G_t(\\theta) G_r(\\theta)\\lambda^2\\sigma}{(4\\pi)^3 r^4 k T_s}\n",
    "$$\n",
    "\n",
    "Traditionally, you may see a loss term $L$ included in the denominator, where $L$ is a unitless term that represents total system loss, which is comprised of atmospheric loss, signal processing loss, transmit loss, and many other real-world factors.\n",
    "\n",
    "In the interactive example below, we can study how the signal-to-noise ratio varies with radar parameters:"
   ]
  },
  {
   "cell_type": "code",
   "execution_count": null,
   "id": "86061ac9-79cd-4044-b88d-dd41c1abce1d",
   "metadata": {
    "tags": [
     "remove-input"
    ]
   },
   "outputs": [],
   "source": [
    "ex.ex_2_1_7()"
   ]
  },
  {
   "cell_type": "markdown",
   "id": "c1335b66-bb6b-444e-a50a-bb0a3467fb2d",
   "metadata": {},
   "source": [
    "***"
   ]
  },
  {
   "cell_type": "markdown",
   "id": "da5f5e3e-f473-446d-803a-59d037774eaf",
   "metadata": {},
   "source": [
    "### Question 6"
   ]
  },
  {
   "cell_type": "markdown",
   "id": "82a527c0-b99c-41a2-83ef-f4045d6c0bc3",
   "metadata": {},
   "source": [
    "What is the signal-to-noise ratio from a target echo with a target at range $r = 200~\\mathrm{km}$ and RCS $\\sigma = -5~\\mathrm{dBsm}$ when using a radar with transmit energy of $\\mathcal{E}_t = 50~\\mathrm{J}$, transmit and receive gain of $G_t(\\theta) = G_r(\\theta) = 35~\\mathrm{dB}$, system noise temperature $T_s = 750~\\mathrm{K}$, and transmit frequency $f = 5~\\mathrm{GHz}$?"
   ]
  },
  {
   "cell_type": "code",
   "execution_count": null,
   "id": "3927a0cd-f17e-4097-9cfc-464f705961d3",
   "metadata": {
    "tags": [
     "remove-input"
    ]
   },
   "outputs": [],
   "source": [
    "qz.quiz_2_1_6()"
   ]
  },
  {
   "cell_type": "code",
   "execution_count": null,
   "id": "949dd92b-4329-41cb-bfec-f1302f72c527",
   "metadata": {},
   "outputs": [],
   "source": [
    "# Scratch space"
   ]
  },
  {
   "cell_type": "markdown",
   "id": "5a468b43-2311-4bd8-88db-6be1e64b8a49",
   "metadata": {},
   "source": [
    "***"
   ]
  },
  {
   "cell_type": "markdown",
   "id": "3ce70c7d-c937-485b-a86d-4bf9de1498a3",
   "metadata": {},
   "source": [
    "Returning to the beginning of this lab, we can study the general problem of detection of an echo with varying radar parameters. In the following example, we will see the echo against a noise background. As the parameters of the radar are varied, we can watch the evolution of the noise energy, signal energy, and the signal-to-noise ratio."
   ]
  },
  {
   "cell_type": "code",
   "execution_count": null,
   "id": "00eb695e-e195-4b53-8c88-2039ecfc6ea3",
   "metadata": {
    "tags": [
     "remove-input"
    ]
   },
   "outputs": [],
   "source": [
    "ex.ex_2_1_8()"
   ]
  },
  {
   "cell_type": "markdown",
   "id": "889a5070-8374-44b3-9cd4-c2de9e8795ca",
   "metadata": {},
   "source": [
    "## Reference SNR"
   ]
  },
  {
   "cell_type": "markdown",
   "id": "d55218ab-8f21-4fb2-a4f2-917e1dca4fc9",
   "metadata": {
    "tags": []
   },
   "source": [
    "As we can see from the signal-to-noise ratio form of the radar range equation, there are quite a few radar variables to keep track of:\n",
    "\n",
    "- Transmit energy, $\\mathcal{E}_t$\n",
    "- Transmit gain, $G_t(\\theta)$\n",
    "- Receive gain, $G_r(\\theta)$\n",
    "- Transmit wavelength, $\\lambda$\n",
    "- System noise temperature, $T_s$\n",
    "\n",
    "Instead of keeping all of these values at the ready, a radar system is often summarized by a **reference SNR**, which assumes a predefined transmit wavelength and maximum gain values. A reference SNR is often in the following form: SNR of $\\mathrm{SNR}_0$ on a target with RCS $\\sigma_0$ at range $r_0$. For instance, a radar could have achieve an SNR of $\\mathrm{SNR}_0 = 15~\\mathrm{dB}$ on a target with RCS $\\sigma_0 = -5~\\mathrm{dBsm}$ at range $r_0 = 100~\\mathrm{km}$.\n",
    "\n",
    "The main advantage of knowing the reference SNR is that is can be quickly converted to other target ranges and radar cross sections. More specifically, the SNR of a target with RCS $\\sigma$ at range $r$ is:\n",
    "\n",
    "$$\n",
    "\\mathrm{SNR} = \\mathrm{SNR}_0 \\cdot \\left(\\frac{r_0}{r}\\right)^4 \\cdot \\left(\\frac{\\sigma}{\\sigma_0}\\right)\n",
    "$$\n",
    "\n",
    "So, if we know $\\mathrm{SNR}_0$ , $\\sigma_0$ , and $r_0$ , we can quickly calculate the SNR value for other targets and ranges."
   ]
  },
  {
   "cell_type": "markdown",
   "id": "93ed6e44-102a-4b27-b174-2e5900aa29fd",
   "metadata": {},
   "source": [
    "***"
   ]
  },
  {
   "cell_type": "markdown",
   "id": "31684abd-141e-4d6d-9ac3-e8b269c26d8b",
   "metadata": {},
   "source": [
    "### Question 7"
   ]
  },
  {
   "cell_type": "markdown",
   "id": "467f2bf6-92b2-4500-904e-c98461f3c0f2",
   "metadata": {},
   "source": [
    "If a radar achieves a signal-to-noise ratio of $\\mathrm{SNR}_0 = 17~\\mathrm{dB}$ for a target at $r_0 = 75~\\mathrm{km}$ with radar cross section $\\sigma_0 = -10~\\mathrm{dBsm}$, what is the signal-to-noise ratio for the same radar with a target at range $r = 50~\\mathrm{km}$ and radar cross section $\\sigma = -15~\\mathrm{dBsm}$?"
   ]
  },
  {
   "cell_type": "code",
   "execution_count": null,
   "id": "e4bd6fe1-3bfe-4b03-b13d-79cf433ec3d9",
   "metadata": {
    "tags": [
     "remove-input"
    ]
   },
   "outputs": [],
   "source": [
    "qz.quiz_2_1_7()"
   ]
  },
  {
   "cell_type": "code",
   "execution_count": null,
   "id": "2ad6d769-e5ae-451b-9020-3cefbe524f26",
   "metadata": {},
   "outputs": [],
   "source": [
    "# Scratch space"
   ]
  },
  {
   "cell_type": "markdown",
   "id": "ca354328-e04c-4d82-bf51-8433c422ef09",
   "metadata": {},
   "source": [
    "***"
   ]
  },
  {
   "cell_type": "markdown",
   "id": "ab8a21a6-d1d8-45e6-8d21-d417d422630f",
   "metadata": {},
   "source": [
    "## Summary"
   ]
  },
  {
   "cell_type": "markdown",
   "id": "c60309ec-9713-4468-a4e5-139d05f690d4",
   "metadata": {},
   "source": [
    "In this lab, we learned the intuitive connection between the ability to confidently detect the presence of a target echo and its *signal-to-noise ratio* (SNR). Then, we derived the form of the signal-to-noise ratio for a radar system using two applications of the *Friis transmission equation*. This creates three useful forms of the *radar range equation*: *received power*, *received energy*, and *signal-to-noise ratio*. These quantities were then investigated for a dish radar system with adjustable parameters. Finally, we introduced the convenient notion of a *reference SNR* that can be used to summarize a radar's performance and allow for quick calculation for other targets and ranges."
   ]
  },
  {
   "cell_type": "markdown",
   "id": "000c1fb0-b9c4-45ec-ae67-c38ae023014f",
   "metadata": {},
   "source": [
    "## Footnotes"
   ]
  },
  {
   "cell_type": "markdown",
   "id": "0d5329ae-a839-4d21-a883-d7bb5292866b",
   "metadata": {},
   "source": [
    "<a id=\"foot_snr\"><sup>1</sup></a>This is the common definition for signals with a limited time duration; for signals that are infinitely long, the terms on top and bottom will be replaced by power instead of energy.\n",
    "    \n",
    "<a id=\"foot_power\"><sup>2</sup></a>Electromagnetic waves are typically described using their electric field strength $E(r, t)$ where $r$ is range and $t$ is time. To convert to power density at a specific point, we can use the formula:\n",
    "\n",
    "$$\n",
    "P(x, t) = \\frac{|E(r, t)|^2}{\\eta}\n",
    "$$\n",
    "\n",
    "where $\\eta = 367.73~\\Omega$ is the natural impedance of free space."
   ]
  },
  {
   "cell_type": "markdown",
   "id": "37c8bc4a-a561-4aad-b1be-2db7d2fe2764",
   "metadata": {},
   "source": [
    "## References"
   ]
  },
  {
   "cell_type": "markdown",
   "id": "8fa60c3a-aa97-4fa1-afe1-3d84d866f4be",
   "metadata": {},
   "source": [
    "<a id=\"ref_friis\">[1]</a> H. Friis, \"A note on a simple transmission formula\", *Proceedings of the IRE*, vol. 34, no. 5, pp. 254-256, May 1946."
   ]
  }
 ],
 "metadata": {
  "kernelspec": {
   "display_name": "Python 3 (ipykernel)",
   "language": "python",
   "name": "python3"
  },
  "language_info": {
   "codemirror_mode": {
    "name": "ipython",
    "version": 3
   },
   "file_extension": ".py",
   "mimetype": "text/x-python",
   "name": "python",
   "nbconvert_exporter": "python",
   "pygments_lexer": "ipython3",
   "version": "3.12.10"
  }
 },
 "nbformat": 4,
 "nbformat_minor": 5
}
