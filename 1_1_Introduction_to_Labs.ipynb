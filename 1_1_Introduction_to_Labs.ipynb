{
 "cells": [
  {
   "cell_type": "markdown",
   "metadata": {},
   "source": [
    "# Lab 1.1: Introduction to Labs"
   ]
  },
  {
   "cell_type": "code",
   "execution_count": 1,
   "metadata": {
    "jupyter": {
     "source_hidden": true
    },
    "tags": []
   },
   "outputs": [
    {
     "data": {
      "text/html": [
       "<style> th { font-size: 16px }</style>"
      ],
      "text/plain": [
       "<IPython.core.display.HTML object>"
      ]
     },
     "metadata": {},
     "output_type": "display_data"
    },
    {
     "data": {
      "text/html": [
       "<style> td { font-size: 16px }</style>"
      ],
      "text/plain": [
       "<IPython.core.display.HTML object>"
      ]
     },
     "metadata": {},
     "output_type": "display_data"
    }
   ],
   "source": [
    "%matplotlib widget\n",
    "import rad.css as css\n",
    "import rad.example as ex\n",
    "import rad.quiz as qz\n",
    "from rad.const import c, k\n",
    "from rad.radar import to_db, from_db, deg2rad, rad2deg\n",
    "from math import sqrt, sin, asin, cos, acos, tan, atan2, pi, log, log10\n",
    "css.add_custom_css()"
   ]
  },
  {
   "cell_type": "markdown",
   "metadata": {},
   "source": [
    "Welcome class! To begin, there will be a short overview of the interactive tools that we will use throughout the course."
   ]
  },
  {
   "cell_type": "markdown",
   "metadata": {},
   "source": [
    "The backbones of our tutorials are called **Jupyter notebooks**<sup>[[1]](#ref_jupyter)</sup>. A Jupyter notebook is a convenient way to weave together text, images, math formulae, and working, editable code. Behind the scenes of the notebook is a programming language of choice: MATLAB, Python, Julia, Java, C++, etc. For this course, we will use Python<sup>[[2]](#ref_python)</sup> as it is openly available. Do *<font color=\"BlueViolet\">not</font>* worry if you have little or no experience with Python: the course will require very little coding, and we will cover what is needed."
   ]
  },
  {
   "cell_type": "markdown",
   "metadata": {},
   "source": [
    "## Appearance"
   ]
  },
  {
   "cell_type": "markdown",
   "metadata": {},
   "source": [
    "Before doing anything, we should start by making the notebooks easy to read. \n",
    "\n",
    "### Font Size\n",
    "First, we can change the font size: to increase the font size, go to *<font color=\"DarkBlue\">Settings > JupyterLab Theme > Increase Content Font Size</font>*. This can be done repeatedly until the text is comfortable to read.\n",
    "\n",
    "<div style=\"text-align: center\"> <img src=\"img/incr_font.png\" width=\"475px\" justify=\"center\"></img></div>\n",
    "\n",
    "### Hidden Code\n",
    "To make the notebooks easier to read, most background code needed for examples and quizzes has been hidden by default; anytime you see a large ellipsis <img src=\"img/hide_code_icon.png\"></img>, there is code being suppressed (e.g., one of them is right below the title at the top of this notebook). To see what is going on in the background, we can click on the ellipsis to reveal it. "
   ]
  },
  {
   "cell_type": "markdown",
   "metadata": {},
   "source": [
    "## Preparing Notebooks"
   ]
  },
  {
   "cell_type": "markdown",
   "metadata": {},
   "source": [
    "The first thing we will want to do upon opening a new notebook is click the *<font color=\"DarkBlue\">Run All</font>* button <img width=\"18px\" src=\"img/run_all_icon.png\"> at the top; it will ask if it is okay to restart, we can select *<font color=\"DarkBlue\">Restart</font>*. This ensures that all examples and interactive code will be loaded and ready. Go ahead and do it for this notebook."
   ]
  },
  {
   "cell_type": "markdown",
   "metadata": {},
   "source": [
    "## Notebooks and Cells"
   ]
  },
  {
   "cell_type": "markdown",
   "metadata": {},
   "source": [
    "Each notebook is made up of a list of **cells**; each cell can be either text or code. The cell you are reading right now is an example of a **text cell** (also called a *Markdown* cell; Markdown<sup>[[3]](#ref_markdown)</sup> is a quick way to format text). Below this, we will see our first example of a **code cell**:"
   ]
  },
  {
   "cell_type": "code",
   "execution_count": 2,
   "metadata": {},
   "outputs": [
    {
     "name": "stdout",
     "output_type": "stream",
     "text": [
      "The value of x is 1.\n"
     ]
    }
   ],
   "source": [
    "x = 1\n",
    "print(\"The value of x is \" + str(x) + \".\")"
   ]
  },
  {
   "cell_type": "markdown",
   "metadata": {},
   "source": [
    "The code cell above sets the value of a variable ``x`` to one and then prints its value. To run the code, first single-click on the cell to highlight it. Then, to **evaluate** the cell, you can either: \n",
    "\n",
    "  * Click the *<font color=\"DarkBlue\">Run Cell</font>* <img width=\"12px\" src=\"img/run_cell_icon.png\"></img> button on the top bar of the notebook\n",
    "  \n",
    "  * Press *Shift+Enter* "
   ]
  },
  {
   "cell_type": "markdown",
   "metadata": {},
   "source": [
    "After evaluating the cell, you can see the output printed below it. Also, in brackets to the left of the cell, you can see the evaluation number; if you evaluate the cell again, you can see the number go up. The evaluation numbers help you keep track of what you have run and in what order."
   ]
  },
  {
   "cell_type": "markdown",
   "metadata": {},
   "source": [
    "<div style=\"text-align: center\"> <img src=\"img/eval_no.png\" width=\"275px\" justify=\"center\"></img></div>"
   ]
  },
  {
   "cell_type": "markdown",
   "metadata": {},
   "source": [
    "To **edit** any cell, you can double-click on it; this means you can edit any code you want and rerun it to see what changed. As an example, you can double-click the code cell above and change the value of ``x`` to any number you want and then re-evaluate.\n",
    "\n",
    "<div style=\"text-align: center\"> <img src=\"img/edit_cell.gif\" width=\"600px\" justify=\"center\"></img></div>"
   ]
  },
  {
   "cell_type": "markdown",
   "metadata": {},
   "source": [
    "To **add** a cell, single-click on an existing cell and then click the *<font color=\"DarkBlue\">Add Cell Below</font>* <img width=\"11px\" src=\"img/add_cell.png\"></img> button. A new cell will be created below the one you selected. To change the type of cell (i.e., code, text), select the cell by single-clicking and then use the dropdown menu at the top."
   ]
  },
  {
   "cell_type": "markdown",
   "metadata": {},
   "source": [
    "<div style=\"text-align: center\"> <img src=\"img/add_cell.gif\" width=\"600px\" justify=\"center\"></img></div>"
   ]
  },
  {
   "cell_type": "markdown",
   "metadata": {},
   "source": [
    "**Note:** You can also edit and evaluate text cells. Evaluating a text cell turns it from raw text into a properly formatted web snippet. This can be a helpful way to add notes to your personal version of a notebook."
   ]
  },
  {
   "cell_type": "markdown",
   "metadata": {},
   "source": [
    "***"
   ]
  },
  {
   "cell_type": "markdown",
   "metadata": {},
   "source": [
    "### Try It Out"
   ]
  },
  {
   "cell_type": "markdown",
   "metadata": {},
   "source": [
    "Below is an empty code cell. Enter code to assign a value of 3 to a variable ``y`` and then print its value. Try evaluating the code to make sure it works. *Hint: You can copy and paste from the code cell above.*"
   ]
  },
  {
   "cell_type": "code",
   "execution_count": 3,
   "metadata": {},
   "outputs": [],
   "source": [
    "# Enter code here"
   ]
  },
  {
   "cell_type": "markdown",
   "metadata": {},
   "source": [
    "***"
   ]
  },
  {
   "cell_type": "markdown",
   "metadata": {},
   "source": [
    "## Interactive Plots"
   ]
  },
  {
   "cell_type": "markdown",
   "metadata": {},
   "source": [
    "The primary tools for interaction in Jupyter notebooks are interactive plots with controls called *widgets*. To see how widgets work, we can first look at plotting a simple sine wave. There will be three variables to change: *<font color=\"DarkBlue\">Amplitude</font>*, *<font color=\"DarkBlue\">Frequency</font>*, and *<font color=\"DarkBlue\">Initial Phase</font>* (we will discuss these more later). Try moving the sliders for each variable to see the plot adjust."
   ]
  },
  {
   "cell_type": "code",
   "execution_count": 4,
   "metadata": {
    "jupyter": {
     "source_hidden": true
    },
    "tags": []
   },
   "outputs": [
    {
     "data": {
      "application/vnd.jupyter.widget-view+json": {
       "model_id": "638b038a468948f4a951fe7da144ca1c",
       "version_major": 2,
       "version_minor": 0
      },
      "text/plain": [
       "GridBox(children=(VBox(children=(HTML(value=\"<b><font color='black'>Controls</b>\"), FloatSlider(value=1.0, des…"
      ]
     },
     "metadata": {},
     "output_type": "display_data"
    },
    {
     "data": {
      "application/vnd.jupyter.widget-view+json": {
       "model_id": "c5f44b3de8a34769a4abee2cc7563dc5",
       "version_major": 2,
       "version_minor": 0
      },
      "image/png": "[encoded data removed]",
      "text/html": [
       "\n",
       "            <div style=\"display: inline-block;\">\n",
       "                <div class=\"jupyter-widgets widget-label\" style=\"text-align: center;\">\n",
       "                    Figure\n",
       "                </div>\n",
       "                <img src='data:image/png;base64,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' width=1050.0/>\n",
       "            </div>\n",
       "        "
      ],
      "text/plain": [
       "Canvas(header_visible=False, toolbar=Toolbar(toolitems=[('Home', 'Reset original view', 'home', 'home'), ('Bac…"
      ]
     },
     "metadata": {},
     "output_type": "display_data"
    }
   ],
   "source": [
    "ex.ex_1_1_1()"
   ]
  },
  {
   "cell_type": "markdown",
   "metadata": {},
   "source": [
    "There are two useful features in the interactive plots: *zooming* and *live cursor data*. To zoom in on a particular part of the plot, you can use the *<font color=\"DarkBlue\">Zoom Box</font>* <img src=\"img/zoom_box.png\"></img> button. Try clicking it and drawing a box around a part of the plot. To drag the plot around, you can use the *<font color=\"DarkBlue\">Pan</font>* <img src=\"img/pan.png\"></img> button. To return to the original plot view at any time, you can click the *<font color=\"DarkBlue\">Reset View</font>* <img src=\"img/reset_view.png\"></img> button. The current location of the cursor inside the plot is continuously displayed below the plot; this is very helpful for finding values and locations of points on a curve or image."
   ]
  },
  {
   "cell_type": "markdown",
   "metadata": {},
   "source": [
    "## Quizzes"
   ]
  },
  {
   "cell_type": "markdown",
   "metadata": {},
   "source": [
    "There will also be a number of quizzes to challenge you as the course progresses. These will most often be in the form of a blank text box and a submit button. For example, below see an example quiz that asks you to enter an answer of one."
   ]
  },
  {
   "cell_type": "markdown",
   "metadata": {},
   "source": [
    "***"
   ]
  },
  {
   "cell_type": "markdown",
   "metadata": {},
   "source": [
    "### Question 1"
   ]
  },
  {
   "cell_type": "markdown",
   "metadata": {},
   "source": [
    "Enter a value of one."
   ]
  },
  {
   "cell_type": "code",
   "execution_count": 5,
   "metadata": {
    "jupyter": {
     "source_hidden": true
    },
    "tags": []
   },
   "outputs": [
    {
     "data": {
      "application/vnd.jupyter.widget-view+json": {
       "model_id": "fb26f6d2a38a455a933d9de64d500a70",
       "version_major": 2,
       "version_minor": 0
      },
      "text/plain": [
       "VBox(children=(HBox(children=(HTML(value=\"<p><font color='black'>Enter answer:</p>\"), FloatText(value=0.0), HT…"
      ]
     },
     "metadata": {},
     "output_type": "display_data"
    }
   ],
   "source": [
    "qz.quiz_1_1_1()"
   ]
  },
  {
   "cell_type": "markdown",
   "metadata": {},
   "source": [
    "***"
   ]
  },
  {
   "cell_type": "markdown",
   "metadata": {},
   "source": [
    "**Note:** Unless otherwise stated, the tolerance for quiz answers will be within ±1% of the true answer."
   ]
  },
  {
   "cell_type": "markdown",
   "metadata": {},
   "source": [
    "## Calculator"
   ]
  },
  {
   "cell_type": "markdown",
   "metadata": {},
   "source": [
    "For some of the quizzes, it will be helpful to have a calculator handy. If one is not available, no problem! We can use the Jupyter notebook for calculations. In most spots where calculations are necessary, a *Scratch Space* code cell is provided that can be used. As discussed above, we can also simply add a code cell anywhere using the *<font color=\"DarkBlue\">Add Cell Below</font>* <img width=\"11px\" src=\"img/add_cell.png\"></img> button. \n",
    "\n",
    "Most mathematical operations are as you would expect. For instance, to calculate the value of $2\\sin(5 \\pi /2) + 1$, we would use the following code cell:"
   ]
  },
  {
   "cell_type": "code",
   "execution_count": 6,
   "metadata": {},
   "outputs": [
    {
     "data": {
      "text/plain": [
       "3.0"
      ]
     },
     "execution_count": 6,
     "metadata": {},
     "output_type": "execute_result"
    }
   ],
   "source": [
    "2*sin(5*pi/2) + 1"
   ]
  },
  {
   "cell_type": "markdown",
   "metadata": {},
   "source": [
    "Here is a short list of the mathematical operators:\n",
    "\n",
    "| Operation           | Symbol |\n",
    "|---------------------|--------|\n",
    "| Addition            | `+`    |\n",
    "| Subtraction         | `-`    |\n",
    "| Multiplication      | `*`    |\n",
    "| Division            | `/`    |\n",
    "| Exponent            | `**`   |\n",
    "| Square root         | `sqrt` |\n",
    "| Logarithm           | `log`  |\n",
    "| Logarithm (Base 10) | `log10`|\n",
    "\n",
    "Here is a list of trigonometric functions:\n",
    "\n",
    "| Function       | Symbol    |\n",
    "|----------------|-----------|\n",
    "| Sine           | `sin`     |\n",
    "| Arcsine        | `asin`    |\n",
    "| Cosine         | `cos`     |\n",
    "| Arccosine      | `acos`    |\n",
    "| Tangent        | `tan`     |\n",
    "| Arctangent     | `atan2`   |\n",
    "\n",
    "Here are some handy constants:\n",
    "\n",
    "| Constant       | Symbol |\n",
    "|----------------|--------|\n",
    "| $\\pi$          | `pi`   |\n",
    "| Speed of light | `c`   |"
   ]
  },
  {
   "cell_type": "markdown",
   "metadata": {},
   "source": [
    "**Note:** All of these functions (along with useful definitions and formulae) are kept in the [Reference](Reference.ipynb) notebook."
   ]
  },
  {
   "cell_type": "markdown",
   "metadata": {},
   "source": [
    "***"
   ]
  },
  {
   "cell_type": "markdown",
   "metadata": {},
   "source": [
    "### Question 2"
   ]
  },
  {
   "cell_type": "markdown",
   "metadata": {},
   "source": [
    "Using the functions in the tables above, calculate the value of $\\log_{10}\\left(2.72^3\\right) + \\cos(4\\pi/7)$:"
   ]
  },
  {
   "cell_type": "code",
   "execution_count": 7,
   "metadata": {
    "jupyter": {
     "source_hidden": true
    },
    "tags": []
   },
   "outputs": [
    {
     "data": {
      "application/vnd.jupyter.widget-view+json": {
       "model_id": "c26ac1ac544b488fb6072ffa6450d840",
       "version_major": 2,
       "version_minor": 0
      },
      "text/plain": [
       "VBox(children=(HBox(children=(HTML(value=\"<p><font color='black'>Enter answer:</p>\"), FloatText(value=0.0), HT…"
      ]
     },
     "metadata": {},
     "output_type": "display_data"
    }
   ],
   "source": [
    "qz.quiz_1_1_2()"
   ]
  },
  {
   "cell_type": "code",
   "execution_count": 8,
   "metadata": {
    "tags": []
   },
   "outputs": [],
   "source": [
    "# Scratch space"
   ]
  },
  {
   "cell_type": "markdown",
   "metadata": {},
   "source": [
    "***"
   ]
  },
  {
   "cell_type": "markdown",
   "metadata": {},
   "source": [
    "### Engineering Notation"
   ]
  },
  {
   "cell_type": "markdown",
   "metadata": {},
   "source": [
    "For very large or small numbers, it can be convenient to write them in the form $a \\times 10^b$, such as $0.000005 = 5 \\times 10^{-6}$. These can be represented in notebook calculations using *engineering notation*. All this means is instead of writing $a \\times 10^b$, you type `aEb`. For instance, if you wanted to use $5 \\times 10^{-6}$, you type `5E-6`.  "
   ]
  },
  {
   "cell_type": "markdown",
   "metadata": {},
   "source": [
    "***"
   ]
  },
  {
   "cell_type": "markdown",
   "metadata": {},
   "source": [
    "### Question 3"
   ]
  },
  {
   "cell_type": "markdown",
   "metadata": {},
   "source": [
    "Calculate the value of: \n",
    "$$\\frac{7.76 \\times 10^{4}}{5.1 \\times 10^{-3}}$$"
   ]
  },
  {
   "cell_type": "code",
   "execution_count": 9,
   "metadata": {
    "jupyter": {
     "source_hidden": true
    },
    "tags": []
   },
   "outputs": [
    {
     "data": {
      "application/vnd.jupyter.widget-view+json": {
       "model_id": "6c1def3ffd43493193a95c2686a55ce3",
       "version_major": 2,
       "version_minor": 0
      },
      "text/plain": [
       "VBox(children=(HBox(children=(HTML(value=\"<p><font color='black'>Enter answer:</p>\"), FloatText(value=0.0), HT…"
      ]
     },
     "metadata": {},
     "output_type": "display_data"
    }
   ],
   "source": [
    "qz.quiz_1_1_3()"
   ]
  },
  {
   "cell_type": "code",
   "execution_count": 10,
   "metadata": {
    "tags": []
   },
   "outputs": [],
   "source": [
    "# Scratch space"
   ]
  },
  {
   "cell_type": "markdown",
   "metadata": {},
   "source": [
    "***"
   ]
  },
  {
   "cell_type": "markdown",
   "metadata": {},
   "source": [
    "**Note:** One of the easiest ways to satisfy the ±1% tolerance for quiz answers is to write answers in engineering notation with at least two decimal places defined."
   ]
  },
  {
   "cell_type": "markdown",
   "metadata": {},
   "source": [
    "There are a few preliminary topics to cover before we get to the radar course itself. In the following, we will review the basics of: \n",
    "\n",
    "- *Decibels*, a useful unit for simplifying radar analysis\n",
    "- *Sine waves*, the main structure of radar transmissions"
   ]
  },
  {
   "cell_type": "markdown",
   "metadata": {},
   "source": [
    "## Review: Decibels"
   ]
  },
  {
   "cell_type": "markdown",
   "metadata": {},
   "source": [
    "Many quantities dealing with radar systems can be extremely large or small. For instance, it is common to use megawatts of power for transmission ($10^6~\\mathrm{W}$), and receive signals on the order of picowatts ($10^{-12}~\\mathrm{W}$). Instead of dealing with that immense scale of numbers, the quantities are often converted to **decibels** (dB); this makes the values much easier to remember and/or manipulate without pen and paper. Here is a short list of example numbers and their corresponding decibel value:\n",
    "\n",
    "<div style=\"text-align: center\"> <img src=\"img/db.png\" width=\"300px\" justify=\"center\"></img></div>\n",
    "\n",
    "To convert a number, $x$, to the value in decibels, $x_d$, we use the following formula:\n",
    "$$ x_d = 10\\log_{10}(x) $$\n",
    "In code for calculations, the conversion to decibels looks like `x_d = 10*log10(x)`. Going back to the example values for radar, instead of using $10^6~\\mathrm{W}$, we can write $60~\\mathrm{dBW}$; likewise, we can talk about receiving signals with a power of $-120~\\mathrm{dBW}$ instead of dealing with $10^{-12}~\\mathrm{W}$.\n",
    "\n",
    "**Note:** For this course, the original unit will be written at the end of $\\mathrm{dB}$ to keep track of it; for instance, $\\mathrm{dBW}$ means it is in decibels and the original unit was watts."
   ]
  },
  {
   "cell_type": "markdown",
   "metadata": {},
   "source": [
    "***"
   ]
  },
  {
   "cell_type": "markdown",
   "metadata": {},
   "source": [
    "### Question 4"
   ]
  },
  {
   "cell_type": "markdown",
   "metadata": {},
   "source": [
    "**(a)** What is $1.5 \\times 10^5$ in decibels?"
   ]
  },
  {
   "cell_type": "code",
   "execution_count": 11,
   "metadata": {
    "jupyter": {
     "source_hidden": true
    },
    "tags": []
   },
   "outputs": [
    {
     "data": {
      "application/vnd.jupyter.widget-view+json": {
       "model_id": "71fe65659df24109856a254e257ccefe",
       "version_major": 2,
       "version_minor": 0
      },
      "text/plain": [
       "VBox(children=(HBox(children=(HTML(value=\"<p><font color='black'>Enter answer (in dB):</p>\"), FloatText(value=…"
      ]
     },
     "metadata": {},
     "output_type": "display_data"
    }
   ],
   "source": [
    "qz.quiz_1_1_4a()"
   ]
  },
  {
   "cell_type": "code",
   "execution_count": 12,
   "metadata": {},
   "outputs": [],
   "source": [
    "# Scratch space"
   ]
  },
  {
   "cell_type": "markdown",
   "metadata": {},
   "source": [
    " "
   ]
  },
  {
   "cell_type": "markdown",
   "metadata": {},
   "source": [
    "**(b)** What is $7.2 \\times 10^{-7}$ in decibels?"
   ]
  },
  {
   "cell_type": "code",
   "execution_count": 13,
   "metadata": {
    "jupyter": {
     "source_hidden": true
    },
    "tags": []
   },
   "outputs": [
    {
     "data": {
      "application/vnd.jupyter.widget-view+json": {
       "model_id": "d7502adc96d34ee7ab3c086881ce64af",
       "version_major": 2,
       "version_minor": 0
      },
      "text/plain": [
       "VBox(children=(HBox(children=(HTML(value=\"<p><font color='black'>Enter answer (in dB):</p>\"), FloatText(value=…"
      ]
     },
     "metadata": {},
     "output_type": "display_data"
    }
   ],
   "source": [
    "qz.quiz_1_1_4b()"
   ]
  },
  {
   "cell_type": "code",
   "execution_count": 14,
   "metadata": {},
   "outputs": [],
   "source": [
    "# Scratch space"
   ]
  },
  {
   "cell_type": "markdown",
   "metadata": {},
   "source": [
    "***"
   ]
  },
  {
   "cell_type": "markdown",
   "metadata": {},
   "source": [
    "To convert from the value in decibels, $x_d$, back to the original value, $x$, we use:\n",
    "\n",
    "$$\n",
    "\\displaystyle x = 10^{x_d/10}\n",
    "$$\n",
    "\n",
    "In other words: you first divide the number in decibels by ten, then take ten to that power. In code, this would be written as `x = 10**(x_d/10)`. You can verify this from the examples above."
   ]
  },
  {
   "cell_type": "markdown",
   "metadata": {},
   "source": [
    "***"
   ]
  },
  {
   "cell_type": "markdown",
   "metadata": {},
   "source": [
    "### Question 5"
   ]
  },
  {
   "cell_type": "markdown",
   "metadata": {},
   "source": [
    "**(a)** What is $51.2~\\mathrm{dBW}$ in watts (W)?"
   ]
  },
  {
   "cell_type": "code",
   "execution_count": 15,
   "metadata": {
    "jupyter": {
     "source_hidden": true
    },
    "tags": []
   },
   "outputs": [
    {
     "data": {
      "application/vnd.jupyter.widget-view+json": {
       "model_id": "81cdd558d53a41fe9f8cc0e8e7babefc",
       "version_major": 2,
       "version_minor": 0
      },
      "text/plain": [
       "VBox(children=(HBox(children=(HTML(value=\"<p><font color='black'>Enter answer:</p>\"), FloatText(value=0.0), HT…"
      ]
     },
     "metadata": {},
     "output_type": "display_data"
    }
   ],
   "source": [
    "qz.quiz_1_1_5a()"
   ]
  },
  {
   "cell_type": "code",
   "execution_count": 16,
   "metadata": {
    "tags": []
   },
   "outputs": [],
   "source": [
    "# Scratch space"
   ]
  },
  {
   "cell_type": "markdown",
   "metadata": {},
   "source": [
    "   "
   ]
  },
  {
   "cell_type": "markdown",
   "metadata": {},
   "source": [
    "**(b)** What is $-20.1~\\mathrm{dBW}$ in watts (W)?"
   ]
  },
  {
   "cell_type": "code",
   "execution_count": 17,
   "metadata": {
    "jupyter": {
     "source_hidden": true
    },
    "tags": []
   },
   "outputs": [
    {
     "data": {
      "application/vnd.jupyter.widget-view+json": {
       "model_id": "cd39c14ef7e84e569ecfd5e46f6fc50f",
       "version_major": 2,
       "version_minor": 0
      },
      "text/plain": [
       "VBox(children=(HBox(children=(HTML(value=\"<p><font color='black'>Enter answer:</p>\"), FloatText(value=0.0), HT…"
      ]
     },
     "metadata": {},
     "output_type": "display_data"
    }
   ],
   "source": [
    "qz.quiz_1_1_5b()"
   ]
  },
  {
   "cell_type": "code",
   "execution_count": 18,
   "metadata": {
    "tags": []
   },
   "outputs": [],
   "source": [
    "# Scratch space"
   ]
  },
  {
   "cell_type": "markdown",
   "metadata": {},
   "source": [
    "***"
   ]
  },
  {
   "cell_type": "markdown",
   "metadata": {},
   "source": [
    "To save time in calculations, we have added two functions that you can use in your notebook calculations: \n",
    "\n",
    "- `to_db()`, convert from original units to decibels\n",
    "- `from_db()`, convert from decibels to original units\n",
    "\n",
    "For instance, to convert $567.2~\\mathrm{W}$ to $\\mathrm{dBW}$, we can write:"
   ]
  },
  {
   "cell_type": "code",
   "execution_count": 19,
   "metadata": {
    "tags": []
   },
   "outputs": [
    {
     "data": {
      "text/plain": [
       "27.537362221750104"
      ]
     },
     "execution_count": 19,
     "metadata": {},
     "output_type": "execute_result"
    }
   ],
   "source": [
    "to_db(567.2)"
   ]
  },
  {
   "cell_type": "markdown",
   "metadata": {},
   "source": [
    "which gives us $27.5374~\\mathrm{dBW}$. Now to convert back, we write:"
   ]
  },
  {
   "cell_type": "code",
   "execution_count": 20,
   "metadata": {},
   "outputs": [
    {
     "data": {
      "text/plain": [
       "567.2049339601207"
      ]
     },
     "execution_count": 20,
     "metadata": {},
     "output_type": "execute_result"
    }
   ],
   "source": [
    "from_db(27.5374)"
   ]
  },
  {
   "cell_type": "markdown",
   "metadata": {},
   "source": [
    "A helpful property of decibels is *<font color=\"BlueViolet\">turning multiplication into addition</font>*. This is convenient as it can be cumbersome to multiply very large or small numbers together quickly where adding their equivalent values in decibels. In general, \n",
    "$$\n",
    "\\begin{align}\n",
    "z &= xy\\\\\n",
    "z_{d} &= x_{d} + y_{d}\\\\\n",
    "\\end{align}\n",
    "$$\n",
    "and\n",
    "$$\n",
    "\\begin{align}\n",
    "z &= x/y\\\\\n",
    "z_{d} &= x_{d} - y_{d}\\\\\n",
    "\\end{align}\n",
    "$$\n"
   ]
  },
  {
   "cell_type": "markdown",
   "metadata": {},
   "source": [
    "This means we can turn the following multiplication: $z = (4.4 \\times 10^{3})(2.8 \\times 10^{-4})$ into its decibel equivalent: $z_d = 36.4345 + (-35.5284)$, which is much easier to estimate quickly, i.e., it is going to be roughly $1~\\mathrm{dB}$."
   ]
  },
  {
   "cell_type": "markdown",
   "metadata": {},
   "source": [
    "The last property of decibels we will cover is *<font color=\"BlueViolet\">converting exponents into scalars</font>*. Because the decibel is calculated using a logarithm, the following is true:\n",
    "\n",
    "$$\n",
    "\\begin{align}\n",
    "x &= a^b\\\\\n",
    "x_{d} &= b \\cdot a_d\n",
    "\\end{align}\n",
    "$$\n",
    "\n",
    "So, if we want the a quantity $a^b$ in decibels, we simply find $a$ in decibels (i.e., $a_d$) and then multiply it by $b$. For example, the value $43^5$ in decibels can be calculated as $5 \\cdot 10\\log_{10}(43)$, or using code `5*to_db(43)`."
   ]
  },
  {
   "cell_type": "markdown",
   "metadata": {},
   "source": [
    "***"
   ]
  },
  {
   "cell_type": "markdown",
   "metadata": {},
   "source": [
    "### Question 6"
   ]
  },
  {
   "cell_type": "markdown",
   "metadata": {},
   "source": [
    "What is $3.7^5$ in decibels? (Hint: $3.7$ in decibels is $5.682~\\mathrm{dB}$)"
   ]
  },
  {
   "cell_type": "code",
   "execution_count": 21,
   "metadata": {
    "jupyter": {
     "source_hidden": true
    },
    "tags": []
   },
   "outputs": [
    {
     "data": {
      "application/vnd.jupyter.widget-view+json": {
       "model_id": "53af97ea78254e10b8c5b854d021650f",
       "version_major": 2,
       "version_minor": 0
      },
      "text/plain": [
       "VBox(children=(HBox(children=(HTML(value=\"<p><font color='black'>Enter answer (in dB):</p>\"), FloatText(value=…"
      ]
     },
     "metadata": {},
     "output_type": "display_data"
    }
   ],
   "source": [
    "qz.quiz_1_1_6()"
   ]
  },
  {
   "cell_type": "code",
   "execution_count": 22,
   "metadata": {
    "tags": []
   },
   "outputs": [],
   "source": [
    "# Scratch space"
   ]
  },
  {
   "cell_type": "markdown",
   "metadata": {},
   "source": [
    "***"
   ]
  },
  {
   "cell_type": "markdown",
   "metadata": {},
   "source": [
    "## Review: Sine Waves"
   ]
  },
  {
   "cell_type": "markdown",
   "metadata": {},
   "source": [
    "Sine waves form the main backbone for ranging sensor transmissions because they are easy to generate with hardware and are well understood. A sine wave as a function of time, $y(t)$, is described mathematically as\n",
    "\n",
    "$$\n",
    "y(t) = a\\sin(2\\pi f t + \\phi)\n",
    "$$\n",
    "\n",
    "where\n",
    "- $a$ is the **amplitude**, which decides the size of the wave\n",
    "- $f$ is the **frequency** of the wave (in Hz), which dictates how quickly the sine wave varies as a function of time, i.e., how many sine wave cycles per second\n",
    "- $\\phi$ is the initial **phase** (in radians), which defines where the sine wave starts at time $t = 0$\n",
    "\n",
    "Another important property is the **period**, $T$, which is the inverse of the frequency (i.e., $T = 1/f$) and the duration of a sine wave cycle. This can be measured by calculating the time from peak-to-peak or valley-to-valley.\n",
    "\n",
    "By eye, you can see the period and the amplitude of an example sine wave below."
   ]
  },
  {
   "cell_type": "markdown",
   "metadata": {
    "tags": []
   },
   "source": [
    "<div style=\"text-align: center\"> <img src=\"img/sine_ex.png\" width=\"450px\" justify=\"center\"></img> </div>"
   ]
  },
  {
   "cell_type": "markdown",
   "metadata": {},
   "source": [
    "We can see one peak at $t = 1~\\mathrm{s}$ and the next one at $t = 6~\\mathrm{s}$, so the period of this sine wave is $T = 6 - 1= 5~\\mathrm{s}$, since the frequency is the inverse of the period, this gives a frequency of $f = 1/5~\\mathrm{Hz}$. The amplitude is the distance from the zero to the peak (or valley) of a wave; in this case, the amplitude is $a = 5$."
   ]
  },
  {
   "cell_type": "markdown",
   "metadata": {},
   "source": [
    "We can now revisit the interactive plot from above, showing how amplitude, phase, and frequency affect a sine wave. Try putting in the values we just calculated, i.e., $a = 5, f = 0.2~\\mathrm{Hz}, \\phi = 0~\\mathrm{deg}$, and verifying that the sine wave matches the picture above."
   ]
  },
  {
   "cell_type": "code",
   "execution_count": 23,
   "metadata": {
    "jupyter": {
     "source_hidden": true
    },
    "tags": []
   },
   "outputs": [
    {
     "data": {
      "application/vnd.jupyter.widget-view+json": {
       "model_id": "6f50addedda24242b0d6b0c73dd9bc71",
       "version_major": 2,
       "version_minor": 0
      },
      "text/plain": [
       "GridBox(children=(VBox(children=(HTML(value=\"<b><font color='black'>Controls</b>\"), FloatSlider(value=1.0, des…"
      ]
     },
     "metadata": {},
     "output_type": "display_data"
    },
    {
     "data": {
      "application/vnd.jupyter.widget-view+json": {
       "model_id": "d5d83207ff154f21a56f14dbc28259fe",
       "version_major": 2,
       "version_minor": 0
      },
      "image/png": "[encoded data removed]",
      "text/html": [
       "\n",
       "            <div style=\"display: inline-block;\">\n",
       "                <div class=\"jupyter-widgets widget-label\" style=\"text-align: center;\">\n",
       "                    Figure\n",
       "                </div>\n",
       "                <img src='data:image/png;base64,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' width=1050.0/>\n",
       "            </div>\n",
       "        "
      ],
      "text/plain": [
       "Canvas(header_visible=False, toolbar=Toolbar(toolitems=[('Home', 'Reset original view', 'home', 'home'), ('Bac…"
      ]
     },
     "metadata": {},
     "output_type": "display_data"
    }
   ],
   "source": [
    "ex.ex_1_1_1()"
   ]
  },
  {
   "cell_type": "markdown",
   "metadata": {},
   "source": [
    "***"
   ]
  },
  {
   "cell_type": "markdown",
   "metadata": {},
   "source": [
    "### Question 7"
   ]
  },
  {
   "cell_type": "markdown",
   "metadata": {},
   "source": [
    "From the following plot of a sine wave, estimate its amplitude, period, and frequency. *Hint: Remember you can zoom in, pan, and use your cursor to find values of the curve.*"
   ]
  },
  {
   "cell_type": "code",
   "execution_count": 24,
   "metadata": {
    "jupyter": {
     "source_hidden": true
    },
    "tags": []
   },
   "outputs": [
    {
     "data": {
      "application/vnd.jupyter.widget-view+json": {
       "model_id": "02fd585643174938b3da2e3a15a6347b",
       "version_major": 2,
       "version_minor": 0
      },
      "image/png": "[encoded data removed]",
      "text/html": [
       "\n",
       "            <div style=\"display: inline-block;\">\n",
       "                <div class=\"jupyter-widgets widget-label\" style=\"text-align: center;\">\n",
       "                    Figure\n",
       "                </div>\n",
       "                <img src='data:image/png;base64,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' width=1050.0/>\n",
       "            </div>\n",
       "        "
      ],
      "text/plain": [
       "Canvas(header_visible=False, toolbar=Toolbar(toolitems=[('Home', 'Reset original view', 'home', 'home'), ('Bac…"
      ]
     },
     "metadata": {},
     "output_type": "display_data"
    }
   ],
   "source": [
    "ex.ex_1_1_2()"
   ]
  },
  {
   "cell_type": "markdown",
   "metadata": {},
   "source": [
    "**(a)** What is the amplitude?"
   ]
  },
  {
   "cell_type": "code",
   "execution_count": 25,
   "metadata": {
    "jupyter": {
     "source_hidden": true
    },
    "tags": []
   },
   "outputs": [
    {
     "data": {
      "application/vnd.jupyter.widget-view+json": {
       "model_id": "8be9e436c5ae47bbb8b3eecceb88d0db",
       "version_major": 2,
       "version_minor": 0
      },
      "text/plain": [
       "VBox(children=(HBox(children=(HTML(value=\"<p><font color='black'>Enter answer:</p>\"), FloatText(value=0.0), HT…"
      ]
     },
     "metadata": {},
     "output_type": "display_data"
    }
   ],
   "source": [
    "qz.quiz_1_1_7a()"
   ]
  },
  {
   "cell_type": "code",
   "execution_count": 26,
   "metadata": {
    "tags": []
   },
   "outputs": [],
   "source": [
    "# Scratch space"
   ]
  },
  {
   "cell_type": "markdown",
   "metadata": {},
   "source": [
    "**(b)** What is the period?"
   ]
  },
  {
   "cell_type": "code",
   "execution_count": 27,
   "metadata": {
    "jupyter": {
     "source_hidden": true
    },
    "tags": []
   },
   "outputs": [
    {
     "data": {
      "application/vnd.jupyter.widget-view+json": {
       "model_id": "f5f8725069ad4e43bf29c464a7f90673",
       "version_major": 2,
       "version_minor": 0
      },
      "text/plain": [
       "VBox(children=(HBox(children=(HTML(value=\"<p><font color='black'>Enter answer (in s, within ±0.05 s):</p>\"), F…"
      ]
     },
     "metadata": {},
     "output_type": "display_data"
    }
   ],
   "source": [
    "qz.quiz_1_1_7b()"
   ]
  },
  {
   "cell_type": "code",
   "execution_count": 28,
   "metadata": {
    "tags": []
   },
   "outputs": [],
   "source": [
    "# Scratch space"
   ]
  },
  {
   "cell_type": "markdown",
   "metadata": {},
   "source": [
    "**(c)** What is the frequency?"
   ]
  },
  {
   "cell_type": "code",
   "execution_count": 29,
   "metadata": {
    "jupyter": {
     "source_hidden": true
    },
    "tags": []
   },
   "outputs": [
    {
     "data": {
      "application/vnd.jupyter.widget-view+json": {
       "model_id": "819c0ec3984e491aa0489aeaed90ceb1",
       "version_major": 2,
       "version_minor": 0
      },
      "text/plain": [
       "VBox(children=(HBox(children=(HTML(value=\"<p><font color='black'>Enter answer (in Hz, within ±0.2 Hz):</p>\"), …"
      ]
     },
     "metadata": {},
     "output_type": "display_data"
    }
   ],
   "source": [
    "qz.quiz_1_1_7c()"
   ]
  },
  {
   "cell_type": "code",
   "execution_count": 30,
   "metadata": {
    "tags": []
   },
   "outputs": [],
   "source": [
    "# Scratch space"
   ]
  },
  {
   "cell_type": "markdown",
   "metadata": {},
   "source": [
    "***"
   ]
  },
  {
   "cell_type": "markdown",
   "metadata": {},
   "source": [
    "## Summary"
   ]
  },
  {
   "cell_type": "markdown",
   "metadata": {},
   "source": [
    "In this lab, we covered the basics of Jupyter notebooks, along with reviews of decibels and sine wave properties. The main operations for interacting with Jupyter notebooks are:\n",
    "- Click *<font color=\"DarkBlue\">Run All</font>* button <img width=\"18px\" src=\"img/run_all_icon.png\"> to prepare a newly-opened notebook\n",
    "- Create a new cell using the *<font color=\"DarkBlue\">Add Cell Below</font>* <img width=\"11px\" src=\"img/add_cell.png\"></img> button\n",
    "- Evaluate a cell using the *<font color=\"DarkBlue\">Run Cell</font>* <img width=\"12px\" src=\"img/run_cell_icon.png\"></img> button\n",
    "- Interact with plots using the *<font color=\"DarkBlue\">Zoom Box</font>* <img src=\"img/zoom_box.png\"></img>, *<font color=\"DarkBlue\">Pan</font>*, and *<font color=\"DarkBlue\">Reset View</font>* <img src=\"img/reset_view.png\"></img> buttons\n",
    "\n",
    "Decibels are a great way to take extremely large and small numbers and convert them to a scale that is much easier to remember and manipulate. Conversion to decibels is $x_d = 10\\log_{10}(x)$ and conversion back is $x = 10^{x_d/10}$. You can convert multiplications $z = xy$ into additions $z_d = x_d + y_d$ and exponentiation $x = a^b$ to scaling $x_d = b \\cdot a_d$.\n",
    "\n",
    "Sine waves are very important to radar as they provide the basis for transmissions. A sine wave is defined by its amplitude, frequency, and initial phase. The frequency of a sine wave is the number of cycles that occurs within a seconds and its period is the time between cycles; the period is the inverse of the frequency."
   ]
  },
  {
   "cell_type": "markdown",
   "metadata": {},
   "source": [
    "## Footnotes"
   ]
  },
  {
   "cell_type": "markdown",
   "metadata": {},
   "source": [
    "n/a"
   ]
  },
  {
   "cell_type": "markdown",
   "metadata": {
    "tags": [
     "hide-output"
    ]
   },
   "source": [
    "## References\n",
    "\n",
    "<a id=\"ref_jupyter\">[1]</a> *Project Jupyter* [https://jupyter.org](https://jupyter.org)\n",
    "\n",
    "<a id=\"ref_python\">[2]</a> *Python* [https://python.org](https://python.org)\n",
    "\n",
    "<a id=\"ref_markdown\">[3]</a> *Markdown Guide* [https://www.markdownguide.org/](https://www.markdownguide.org/)"
   ]
  }
 ],
 "metadata": {
  "kernelspec": {
   "display_name": "Python 3 (ipykernel)",
   "language": "python",
   "name": "python3"
  },
  "language_info": {
   "codemirror_mode": {
    "name": "ipython",
    "version": 3
   },
   "file_extension": ".py",
   "mimetype": "text/x-python",
   "name": "python",
   "nbconvert_exporter": "python",
   "pygments_lexer": "ipython3",
   "version": "3.10.2"
  },
  "toc-autonumbering": false,
  "toc-showcode": false,
  "toc-showmarkdowntxt": false,
  "toc-showtags": true
 },
 "nbformat": 4,
 "nbformat_minor": 4
}
